{
 "metadata": {
  "name": "Dataset Analysis"
 },
 "nbformat": 3,
 "nbformat_minor": 0,
 "worksheets": [
  {
   "cells": [
    {
     "cell_type": "markdown",
     "metadata": {},
     "source": [
      "Dataset Analysis for OACS\n",
      "=========================\n",
      "\n",
      "You can use this notebook to process, analyze and visualize your dataset in order to better understand the distribution of your data.\n",
      "\n",
      "This notebook provides a few generic code snippets to help you get started (loading the dataset and OACS structure)."
     ]
    },
    {
     "cell_type": "markdown",
     "metadata": {},
     "source": [
      "Loading the OACS structure\n",
      "--------------------------\n",
      "The code below is the first initialization step necessary to load the program. Just execute it and go to the next steps.\n",
      "\n",
      "Note: you should reexecute this code everytime you change the sourcecode or the config file, but not when you just want to reload the data files (use instead \u00b4runner.inputparser.load()\u00b4 )."
     ]
    },
    {
     "cell_type": "code",
     "collapsed": false,
     "input": [
      "%load_ext autoreload\n",
      "%autoreload 2\n",
      "import oacs.main\n",
      "reload(oacs.main)\n",
      "runner = oacs.main.main(['--script', '--inputfile', 'data.txt'])\n",
      "\n",
      "import pandas as pd\n",
      "import numpy as np"
     ],
     "language": "python",
     "metadata": {},
     "outputs": [],
     "prompt_number": 14
    },
    {
     "cell_type": "markdown",
     "metadata": {},
     "source": [
      "Some test code\n",
      "--------------\n",
      "Below are some test code (TODO: add generic code to read, describe and visualize the data)."
     ]
    },
    {
     "cell_type": "code",
     "collapsed": false,
     "input": [
      "runner.updatevars(runner.learningalgo.learn(**runner.vars))"
     ],
     "language": "python",
     "metadata": {},
     "outputs": []
    },
    {
     "cell_type": "code",
     "collapsed": false,
     "input": [
      "runner.updatevars(runner.inputparser.load())\n",
      "X = runner.vars['X']\n",
      "Y = runner.vars['Y']\n",
      "X"
     ],
     "language": "python",
     "metadata": {},
     "outputs": [
      {
       "output_type": "pyout",
       "prompt_number": 21,
       "text": [
        "<class 'pandas.core.frame.DataFrame'>\n",
        "Int64Index: 166 entries, 0 to 165\n",
        "Data columns (total 4 columns):\n",
        "reactiontime    166  non-null values\n",
        "fragsinarow     166  non-null values\n",
        "armor           166  non-null values\n",
        "framerepeat     166  non-null values\n",
        "dtypes: int64(4)"
       ]
      }
     ],
     "prompt_number": 21
    },
    {
     "cell_type": "code",
     "collapsed": false,
     "input": [
      "for var in runner.inputparser.read():\n",
      "    print(var['X'])"
     ],
     "language": "python",
     "metadata": {},
     "outputs": [
      {
       "output_type": "stream",
       "stream": "stdout",
       "text": [
        "   reactiontime  fragsinarow  armor  framerepeat\n",
        "0         19960            0      0           12\n",
        "   reactiontime  fragsinarow  armor  framerepeat\n",
        "0           520            0      0           24\n",
        "   reactiontime  fragsinarow  armor  framerepeat\n",
        "0          1000            0      0           24\n",
        "   reactiontime  fragsinarow  armor  framerepeat\n",
        "0          1000            0      0           49\n",
        "   reactiontime  fragsinarow  armor  framerepeat\n",
        "0          2000            0      0           24"
       ]
      },
      {
       "output_type": "stream",
       "stream": "stdout",
       "text": [
        "\n",
        "   reactiontime  fragsinarow  armor  framerepeat\n",
        "0          1000            0      0           24\n",
        "   reactiontime  fragsinarow  armor  framerepeat\n",
        "0          1000            0      0           49\n",
        "   reactiontime  fragsinarow  armor  framerepeat\n",
        "0          2000            0      0           24\n",
        "   reactiontime  fragsinarow  armor  framerepeat\n",
        "0          1000            0      0           24"
       ]
      },
      {
       "output_type": "stream",
       "stream": "stdout",
       "text": [
        "\n",
        "   reactiontime  fragsinarow  armor  framerepeat\n",
        "0          1000            0      0           49\n",
        "   reactiontime  fragsinarow  armor  framerepeat\n",
        "0          2000            0      0           24\n",
        "   reactiontime  fragsinarow  armor  framerepeat\n",
        "0          1000            0      0           24\n",
        "   reactiontime  fragsinarow  armor  framerepeat\n",
        "0          1000            0      0           49"
       ]
      },
      {
       "output_type": "stream",
       "stream": "stdout",
       "text": [
        "\n",
        "   reactiontime  fragsinarow  armor  framerepeat\n",
        "0          2000            0      0           24\n",
        "   reactiontime  fragsinarow  armor  framerepeat\n",
        "0          1000            0      0           49\n",
        "   reactiontime  fragsinarow  armor  framerepeat\n",
        "0          2000            0      0           24\n",
        "   reactiontime  fragsinarow  armor  framerepeat\n",
        "0          1000            0      0           24"
       ]
      },
      {
       "output_type": "stream",
       "stream": "stdout",
       "text": [
        "\n",
        "   reactiontime  fragsinarow  armor  framerepeat\n",
        "0          1000            0      0           49\n",
        "   reactiontime  fragsinarow  armor  framerepeat\n",
        "0          2000            0      0            0\n",
        "   reactiontime  fragsinarow  armor  framerepeat\n",
        "0          9440            0      0            0\n",
        "   reactiontime  fragsinarow  armor  framerepeat\n",
        "0            40            0      0           49"
       ]
      },
      {
       "output_type": "stream",
       "stream": "stdout",
       "text": [
        "\n",
        "   reactiontime  fragsinarow  armor  framerepeat\n",
        "0          2000            0      0           24\n",
        "   reactiontime  fragsinarow  armor  framerepeat\n",
        "0          1000            0      0           24\n",
        "   reactiontime  fragsinarow  armor  framerepeat\n",
        "0          1000            0      0           49\n",
        "   reactiontime  fragsinarow  armor  framerepeat\n",
        "0          2000            0      0           24"
       ]
      },
      {
       "output_type": "stream",
       "stream": "stdout",
       "text": [
        "\n",
        "   reactiontime  fragsinarow  armor  framerepeat\n",
        "0          1000            0      0           24\n",
        "   reactiontime  fragsinarow  armor  framerepeat\n",
        "0          1000            0      0           49\n",
        "   reactiontime  fragsinarow  armor  framerepeat\n",
        "0          2000            0      0           24\n",
        "   reactiontime  fragsinarow  armor  framerepeat\n",
        "0          1000            0      0           24"
       ]
      },
      {
       "output_type": "stream",
       "stream": "stdout",
       "text": [
        "\n",
        "   reactiontime  fragsinarow  armor  framerepeat\n",
        "0          1000            0      0           49\n",
        "   reactiontime  fragsinarow  armor  framerepeat\n",
        "0          2000            0      0           24\n",
        "   reactiontime  fragsinarow  armor  framerepeat\n",
        "0          1000            0      0           49\n",
        "   reactiontime  fragsinarow  armor  framerepeat\n",
        "0          2000            0      0           24"
       ]
      },
      {
       "output_type": "stream",
       "stream": "stdout",
       "text": [
        "\n",
        "   reactiontime  fragsinarow  armor  framerepeat\n",
        "0          1000            0      0           24\n",
        "   reactiontime  fragsinarow  armor  framerepeat\n",
        "0          1000            0      0           49\n",
        "   reactiontime  fragsinarow  armor  framerepeat\n",
        "0          2000            0      0           24"
       ]
      },
      {
       "output_type": "stream",
       "stream": "stdout",
       "text": [
        "\n",
        "   reactiontime  fragsinarow  armor  framerepeat\n",
        "0          1000            0      0           24\n",
        "   reactiontime  fragsinarow  armor  framerepeat\n",
        "0          1000            0      0           49\n",
        "   reactiontime  fragsinarow  armor  framerepeat\n",
        "0          2000            0      0           24\n",
        "   reactiontime  fragsinarow  armor  framerepeat\n",
        "0          1000            0      0           24"
       ]
      },
      {
       "output_type": "stream",
       "stream": "stdout",
       "text": [
        "\n",
        "   reactiontime  fragsinarow  armor  framerepeat\n",
        "0          1000            0      0           49\n",
        "   reactiontime  fragsinarow  armor  framerepeat\n",
        "0          2000            0      0           24\n",
        "   reactiontime  fragsinarow  armor  framerepeat\n",
        "0          1000            0      0           49\n",
        "   reactiontime  fragsinarow  armor  framerepeat\n",
        "0          2000            0      0           24"
       ]
      },
      {
       "output_type": "stream",
       "stream": "stdout",
       "text": [
        "\n",
        "   reactiontime  fragsinarow  armor  framerepeat\n",
        "0          1000            0      0           24\n",
        "   reactiontime  fragsinarow  armor  framerepeat\n",
        "0          1000            0      0           49\n",
        "   reactiontime  fragsinarow  armor  framerepeat\n",
        "0          2000            0      0           24\n",
        "   reactiontime  fragsinarow  armor  framerepeat\n",
        "0          1000            0      0           24"
       ]
      },
      {
       "output_type": "stream",
       "stream": "stdout",
       "text": [
        "\n",
        "   reactiontime  fragsinarow  armor  framerepeat\n",
        "0          1000            0      0           49\n",
        "   reactiontime  fragsinarow  armor  framerepeat\n",
        "0          2000            0      0           24\n",
        "   reactiontime  fragsinarow  armor  framerepeat\n",
        "0          1000            0      0           24\n",
        "   reactiontime  fragsinarow  armor  framerepeat\n",
        "0          1000            0      0           49"
       ]
      },
      {
       "output_type": "stream",
       "stream": "stdout",
       "text": [
        "\n",
        "   reactiontime  fragsinarow  armor  framerepeat\n",
        "0          2000            0      0           24\n",
        "   reactiontime  fragsinarow  armor  framerepeat\n",
        "0          1000            0      0           49\n",
        "   reactiontime  fragsinarow  armor  framerepeat\n",
        "0          2000            0      0           24\n",
        "   reactiontime  fragsinarow  armor  framerepeat\n",
        "0          1000            0      0           24"
       ]
      },
      {
       "output_type": "stream",
       "stream": "stdout",
       "text": [
        "\n",
        "   reactiontime  fragsinarow  armor  framerepeat\n",
        "0          1000            0      0           49\n",
        "   reactiontime  fragsinarow  armor  framerepeat\n",
        "0          2000            0      0           24\n",
        "   reactiontime  fragsinarow  armor  framerepeat\n",
        "0          1000            0      0           24\n",
        "   reactiontime  fragsinarow  armor  framerepeat\n",
        "0          1000            0      0           49"
       ]
      },
      {
       "output_type": "stream",
       "stream": "stdout",
       "text": [
        "\n",
        "   reactiontime  fragsinarow  armor  framerepeat\n",
        "0          2000            0      0           24\n",
        "   reactiontime  fragsinarow  armor  framerepeat\n",
        "0          1000            0      0           24\n",
        "   reactiontime  fragsinarow  armor  framerepeat\n",
        "0          1000            0      0           49\n",
        "   reactiontime  fragsinarow  armor  framerepeat\n",
        "0          2000            0      0           24"
       ]
      },
      {
       "output_type": "stream",
       "stream": "stdout",
       "text": [
        "\n",
        "   reactiontime  fragsinarow  armor  framerepeat\n",
        "0          1000            0      0           24\n",
        "   reactiontime  fragsinarow  armor  framerepeat\n",
        "0          1000            0      0           49\n",
        "   reactiontime  fragsinarow  armor  framerepeat\n",
        "0          2000            0      0           24\n",
        "   reactiontime  fragsinarow  armor  framerepeat\n",
        "0          1000            0      0           49"
       ]
      },
      {
       "output_type": "stream",
       "stream": "stdout",
       "text": [
        "\n",
        "   reactiontime  fragsinarow  armor  framerepeat\n",
        "0          2000            0      0           24\n",
        "   reactiontime  fragsinarow  armor  framerepeat\n",
        "0          1000            0      0           24\n",
        "   reactiontime  fragsinarow  armor  framerepeat\n",
        "0          1000            0      0           49\n",
        "   reactiontime  fragsinarow  armor  framerepeat\n",
        "0          2000            0      0           24"
       ]
      },
      {
       "output_type": "stream",
       "stream": "stdout",
       "text": [
        "\n",
        "   reactiontime  fragsinarow  armor  framerepeat\n",
        "0          1000            0      0           24\n",
        "   reactiontime  fragsinarow  armor  framerepeat\n",
        "0          1000            0      0           49\n",
        "   reactiontime  fragsinarow  armor  framerepeat\n",
        "0          2000            0      0           24\n",
        "   reactiontime  fragsinarow  armor  framerepeat\n",
        "0          1000            0      0           24"
       ]
      },
      {
       "output_type": "stream",
       "stream": "stdout",
       "text": [
        "\n",
        "   reactiontime  fragsinarow  armor  framerepeat\n",
        "0          1000            0      0           49\n",
        "   reactiontime  fragsinarow  armor  framerepeat\n",
        "0          2000            0      0           24\n",
        "   reactiontime  fragsinarow  armor  framerepeat\n",
        "0          1000            0      0           49\n",
        "   reactiontime  fragsinarow  armor  framerepeat\n",
        "0          2000            0      0           24"
       ]
      },
      {
       "output_type": "stream",
       "stream": "stdout",
       "text": [
        "\n",
        "   reactiontime  fragsinarow  armor  framerepeat\n",
        "0          1000            0      0           24\n",
        "   reactiontime  fragsinarow  armor  framerepeat\n",
        "0          1000            0      0           49\n",
        "   reactiontime  fragsinarow  armor  framerepeat\n",
        "0          2000            0      0           24\n",
        "   reactiontime  fragsinarow  armor  framerepeat\n",
        "0          1000            0      0           24"
       ]
      },
      {
       "output_type": "stream",
       "stream": "stdout",
       "text": [
        "\n",
        "   reactiontime  fragsinarow  armor  framerepeat\n",
        "0          1000            0      0           49\n",
        "   reactiontime  fragsinarow  armor  framerepeat\n",
        "0          2000            0      0           24\n",
        "   reactiontime  fragsinarow  armor  framerepeat\n",
        "0          1000            0      0           24\n",
        "   reactiontime  fragsinarow  armor  framerepeat\n",
        "0          1000            0      0           49"
       ]
      },
      {
       "output_type": "stream",
       "stream": "stdout",
       "text": [
        "\n",
        "   reactiontime  fragsinarow  armor  framerepeat\n",
        "0          2000            0      0           24\n",
        "   reactiontime  fragsinarow  armor  framerepeat\n",
        "0          1000            0      0           49\n",
        "   reactiontime  fragsinarow  armor  framerepeat\n",
        "0          2000            0      0           24\n",
        "   reactiontime  fragsinarow  armor  framerepeat\n",
        "0          1000            0      0           24"
       ]
      },
      {
       "output_type": "stream",
       "stream": "stdout",
       "text": [
        "\n",
        "   reactiontime  fragsinarow  armor  framerepeat\n",
        "0          1000            0      0           49\n",
        "   reactiontime  fragsinarow  armor  framerepeat\n",
        "0          2000            0      0           24\n",
        "   reactiontime  fragsinarow  armor  framerepeat\n",
        "0          1000            0      0           24\n",
        "   reactiontime  fragsinarow  armor  framerepeat\n",
        "0          1000            0      0           49"
       ]
      },
      {
       "output_type": "stream",
       "stream": "stdout",
       "text": [
        "\n",
        "   reactiontime  fragsinarow  armor  framerepeat\n",
        "0          2000            0      0           24\n",
        "   reactiontime  fragsinarow  armor  framerepeat\n",
        "0          1000            0      0           24\n",
        "   reactiontime  fragsinarow  armor  framerepeat\n",
        "0          1000            0      0           49\n",
        "   reactiontime  fragsinarow  armor  framerepeat\n",
        "0          2000            0      0           24"
       ]
      },
      {
       "output_type": "stream",
       "stream": "stdout",
       "text": [
        "\n",
        "   reactiontime  fragsinarow  armor  framerepeat\n",
        "0          1000            0      0           49\n",
        "   reactiontime  fragsinarow  armor  framerepeat\n",
        "0          2000            0      0           24\n",
        "   reactiontime  fragsinarow  armor  framerepeat\n",
        "0          1000            0      0           24\n",
        "   reactiontime  fragsinarow  armor  framerepeat\n",
        "0          1000            0      0           49"
       ]
      },
      {
       "output_type": "stream",
       "stream": "stdout",
       "text": [
        "\n",
        "   reactiontime  fragsinarow  armor  framerepeat\n",
        "0          2000            0      0           24\n",
        "   reactiontime  fragsinarow  armor  framerepeat\n",
        "0          1000            0      0           24\n",
        "   reactiontime  fragsinarow  armor  framerepeat\n",
        "0          1000            0      0           49\n",
        "   reactiontime  fragsinarow  armor  framerepeat\n",
        "0          2000            0      0           24\n",
        "   reactiontime  fragsinarow  armor  framerepeat\n",
        "0          1000            0      0           24"
       ]
      },
      {
       "output_type": "stream",
       "stream": "stdout",
       "text": [
        "\n",
        "   reactiontime  fragsinarow  armor  framerepeat\n",
        "0          1000            0      0           49\n",
        "   reactiontime  fragsinarow  armor  framerepeat\n",
        "0          2000            0      0           24\n",
        "   reactiontime  fragsinarow  armor  framerepeat\n",
        "0          1000            0      0           24\n",
        "   reactiontime  fragsinarow  armor  framerepeat\n",
        "0          1000            0      0           49"
       ]
      },
      {
       "output_type": "stream",
       "stream": "stdout",
       "text": [
        "\n",
        "   reactiontime  fragsinarow  armor  framerepeat\n",
        "0          2000            0      0           24\n",
        "   reactiontime  fragsinarow  armor  framerepeat\n",
        "0          1000            0      0           49\n",
        "   reactiontime  fragsinarow  armor  framerepeat\n",
        "0          2000            0      0           24\n",
        "   reactiontime  fragsinarow  armor  framerepeat\n",
        "0          1000            0      0           24\n",
        "   reactiontime  fragsinarow  armor  framerepeat\n",
        "0          1000            0      0           49"
       ]
      },
      {
       "output_type": "stream",
       "stream": "stdout",
       "text": [
        "\n",
        "   reactiontime  fragsinarow  armor  framerepeat\n",
        "0          2000            0      0           24\n",
        "   reactiontime  fragsinarow  armor  framerepeat\n",
        "0          1000            0      0           24\n",
        "   reactiontime  fragsinarow  armor  framerepeat\n",
        "0          1000            0      0           49\n",
        "   reactiontime  fragsinarow  armor  framerepeat\n",
        "0          2000            0      0           24\n",
        "   reactiontime  fragsinarow  armor  framerepeat\n",
        "0          1000            0      0           24"
       ]
      },
      {
       "output_type": "stream",
       "stream": "stdout",
       "text": [
        "\n",
        "   reactiontime  fragsinarow  armor  framerepeat\n",
        "0          1000            0      0           49\n",
        "   reactiontime  fragsinarow  armor  framerepeat\n",
        "0          2000            0      0           24\n",
        "   reactiontime  fragsinarow  armor  framerepeat\n",
        "0          1000            0      0           49\n",
        "   reactiontime  fragsinarow  armor  framerepeat\n",
        "0          2000            0      0           24"
       ]
      },
      {
       "output_type": "stream",
       "stream": "stdout",
       "text": [
        "\n",
        "   reactiontime  fragsinarow  armor  framerepeat\n",
        "0          1000            0      0           24\n",
        "   reactiontime  fragsinarow  armor  framerepeat\n",
        "0          1000            0      0           49\n",
        "   reactiontime  fragsinarow  armor  framerepeat\n",
        "0          2000            0      0           24\n",
        "   reactiontime  fragsinarow  armor  framerepeat\n",
        "0          1000            0      0           24\n",
        "   reactiontime  fragsinarow  armor  framerepeat\n",
        "0          1000            0      0           49"
       ]
      },
      {
       "output_type": "stream",
       "stream": "stdout",
       "text": [
        "\n",
        "   reactiontime  fragsinarow  armor  framerepeat\n",
        "0          2000            0      0           24\n",
        "   reactiontime  fragsinarow  armor  framerepeat\n",
        "0          1000            0      0           24\n",
        "   reactiontime  fragsinarow  armor  framerepeat\n",
        "0          1000            0      0           49\n",
        "   reactiontime  fragsinarow  armor  framerepeat\n",
        "0          2000            0      0           24\n",
        "   reactiontime  fragsinarow  armor  framerepeat\n",
        "0          1000            0      0           49"
       ]
      },
      {
       "output_type": "stream",
       "stream": "stdout",
       "text": [
        "\n",
        "   reactiontime  fragsinarow  armor  framerepeat\n",
        "0          2000            0      0           24\n",
        "   reactiontime  fragsinarow  armor  framerepeat\n",
        "0         12920            0      0           47\n",
        "   reactiontime  fragsinarow  armor  framerepeat\n",
        "0          1920            0      0           24\n",
        "   reactiontime  fragsinarow  armor  framerepeat\n",
        "0          1000            0      0           24\n",
        "   reactiontime  fragsinarow  armor  framerepeat\n",
        "0          1000            0      0           49"
       ]
      },
      {
       "output_type": "stream",
       "stream": "stdout",
       "text": [
        "\n",
        "   reactiontime  fragsinarow  armor  framerepeat\n",
        "0          2000            0      0           24\n",
        "   reactiontime  fragsinarow  armor  framerepeat\n",
        "0          1000            0      0           24\n",
        "   reactiontime  fragsinarow  armor  framerepeat\n",
        "0          1000            0      0           49\n",
        "   reactiontime  fragsinarow  armor  framerepeat\n",
        "0          2000            0      0           24\n",
        "   reactiontime  fragsinarow  armor  framerepeat\n",
        "0          1000            0      0           49"
       ]
      },
      {
       "output_type": "stream",
       "stream": "stdout",
       "text": [
        "\n",
        "   reactiontime  fragsinarow  armor  framerepeat\n",
        "0          2000            0      0           24\n",
        "   reactiontime  fragsinarow  armor  framerepeat\n",
        "0          1000            0      0           24\n",
        "   reactiontime  fragsinarow  armor  framerepeat\n",
        "0          1000            0      0           49\n",
        "   reactiontime  fragsinarow  armor  framerepeat\n",
        "0          2000            0      0           24"
       ]
      },
      {
       "output_type": "stream",
       "stream": "stdout",
       "text": [
        "\n",
        "   reactiontime  fragsinarow  armor  framerepeat\n",
        "0          1000            0      0           24\n",
        "   reactiontime  fragsinarow  armor  framerepeat\n",
        "0          1000            0      0           49\n",
        "   reactiontime  fragsinarow  armor  framerepeat\n",
        "0          2000            0      0           24\n",
        "   reactiontime  fragsinarow  armor  framerepeat\n",
        "0          1000            0      0           24\n",
        "   reactiontime  fragsinarow  armor  framerepeat\n",
        "0          1000            0      0           49"
       ]
      },
      {
       "output_type": "stream",
       "stream": "stdout",
       "text": [
        "\n",
        "   reactiontime  fragsinarow  armor  framerepeat\n",
        "0          2000            0      0           24\n",
        "   reactiontime  fragsinarow  armor  framerepeat\n",
        "0          1000            0      0           49\n",
        "   reactiontime  fragsinarow  armor  framerepeat\n",
        "0          2000            0      0           24\n",
        "   reactiontime  fragsinarow  armor  framerepeat\n",
        "0          1000            0      0           24\n",
        "   reactiontime  fragsinarow  armor  framerepeat\n",
        "0          1000            0      0           49"
       ]
      },
      {
       "output_type": "stream",
       "stream": "stdout",
       "text": [
        "\n",
        "   reactiontime  fragsinarow  armor  framerepeat\n",
        "0          2000            0      0           24\n",
        "   reactiontime  fragsinarow  armor  framerepeat\n",
        "0          1000            0      0           24\n",
        "   reactiontime  fragsinarow  armor  framerepeat\n",
        "0          1000            0      0           49\n",
        "   reactiontime  fragsinarow  armor  framerepeat\n",
        "0          2000            0      0           24\n",
        "   reactiontime  fragsinarow  armor  framerepeat\n",
        "0          1000            0      0           10"
       ]
      },
      {
       "output_type": "stream",
       "stream": "stdout",
       "text": [
        "\n"
       ]
      }
     ],
     "prompt_number": 7
    },
    {
     "cell_type": "code",
     "collapsed": false,
     "input": [
      "var = runner.inputparser.load()\n",
      "X = var['X']\n",
      "\n",
      "def applyweight(serie):\n",
      "    weight = serie['framerepeat']\n",
      "    #s2 = serie.drop(['framerepeat'])\n",
      "    s = serie * weight\n",
      "    s['framerepeat'] = weight\n",
      "    return s\n",
      "\n",
      "if 'framerepeat' in X.keys():\n",
      "    X = X.apply(applyweight, axis=1)\n",
      "\n",
      "X2 = X.sum() / X.ix[:,'framerepeat'].sum()\n",
      "X2"
     ],
     "language": "python",
     "metadata": {},
     "outputs": [
      {
       "output_type": "pyout",
       "prompt_number": 22,
       "text": [
        "reactiontime    1393\n",
        "fragsinarow        0\n",
        "armor              0\n",
        "framerepeat        1\n",
        "dtype: int64"
       ]
      }
     ],
     "prompt_number": 22
    },
    {
     "cell_type": "code",
     "collapsed": false,
     "input": [
      "types = pd.read_csv(runner.config.config['typesfile'], index_col=None, header=0)\n",
      "types = types.ix[0, :]\n"
     ],
     "language": "python",
     "metadata": {},
     "outputs": []
    },
    {
     "cell_type": "code",
     "collapsed": false,
     "input": [
      "def weighted_avg_and_std(values, weights):\n",
      "    \"\"\"\n",
      "    Returns the weighted average and standard deviation.\n",
      "\n",
      "    values, weights -- Numpy ndarrays with the same shape.\n",
      "    \"\"\"\n",
      "    mean = np.average(values, axis=0, weights=weights)\n",
      "    variance = np.dot(weights, (values-mean)**2)/weights.sum()  # Fast and numerically precise\n",
      "    sigma = math.sqrt(variance)\n",
      "    \n",
      "    mean = pd.Series(mean, index=list(values.keys()))\n",
      "    #sigma = pd.Series(sigma, index=list(values.keys()))\n",
      "    return (average, sigma)\n",
      "\n",
      "var = runner.inputparser.load()\n",
      "X = var['X']\n",
      "#mean, sumframerepeat = np.average(X, axis=0, weights=X['framerepeat'], returned=True)\n",
      "#Xmean = pd.Series(mean, index=list(X.keys()))\n",
      "#Xmean\n",
      "#mean, sigma = weighted_avg_and_std(X, X['framerepeat'])\n",
      "#mean\n",
      "values = X\n",
      "weights = X['framerepeat']\n",
      "mean = np.average(values, axis=0, weights=weights)\n",
      "mean = pd.Series(mean, index=list(values.keys()))\n",
      "# TEST1\n",
      "squareddiff = (values-mean)**2\n",
      "variance = squareddiff.T.dot(weights) / (weights.sum()-1) # DataFrames and Series are implicitly aligned by index\n",
      "sigma = variance ** 0.5\n",
      "print(sigma)\n",
      "\n",
      "# TEST2\n",
      "variance = np.dot(weights.tolist(), ((values-mean.tolist())**2))/ (weights.sum()-1)  # Fast and numerically precise\n",
      "sigma2 = np.sqrt(variance)\n",
      "print(sigma2)"
     ],
     "language": "python",
     "metadata": {},
     "outputs": [
      {
       "output_type": "stream",
       "stream": "stdout",
       "text": [
        "reactiontime    1467.882582\n",
        "fragsinarow        0.000000\n",
        "armor              0.000000\n",
        "framerepeat       12.536515\n",
        "dtype: float64\n",
        "[ 1467.88258223     0.             0.            12.536515  ]"
       ]
      },
      {
       "output_type": "stream",
       "stream": "stdout",
       "text": [
        "\n"
       ]
      }
     ],
     "prompt_number": 104
    },
    {
     "cell_type": "code",
     "collapsed": false,
     "input": [
      "runner.learn()\n",
      "runner.vars"
     ],
     "language": "python",
     "metadata": {},
     "outputs": [
      {
       "output_type": "pyout",
       "prompt_number": 16,
       "text": [
        "{'X': <class 'pandas.core.frame.DataFrame'>\n",
        "Int64Index: 166 entries, 0 to 165\n",
        "Data columns (total 4 columns):\n",
        "reactiontime    166  non-null values\n",
        "fragsinarow     166  non-null values\n",
        "armor           166  non-null values\n",
        "framerepeat     166  non-null values\n",
        "dtypes: int64(4),\n",
        " 'Y': <class 'pandas.core.frame.DataFrame'>\n",
        "Int64Index: 166 entries, 0 to 165\n",
        "Data columns (total 1 columns):\n",
        "cheater    166  non-null values\n",
        "dtypes: int64(1)}"
       ]
      }
     ],
     "prompt_number": 16
    },
    {
     "cell_type": "code",
     "collapsed": false,
     "input": [],
     "language": "python",
     "metadata": {},
     "outputs": []
    }
   ],
   "metadata": {}
  }
 ]
}