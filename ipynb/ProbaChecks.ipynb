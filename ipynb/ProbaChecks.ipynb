{
 "metadata": {
  "name": "ProbaChecks"
 },
 "nbformat": 3,
 "nbformat_minor": 0,
 "worksheets": [
  {
   "cells": [
    {
     "cell_type": "markdown",
     "metadata": {},
     "source": [
      "Weighted Unbiased Sample Variance and Covariance Sanity Check\n",
      "==============================================\n",
      "\n",
      "Description\n",
      "-----------\n",
      "\n",
      "Here are a few sanity checks to check that the probabilistic computations are correct\n",
      "\n",
      "Init the libs\n",
      "-------------"
     ]
    },
    {
     "cell_type": "code",
     "collapsed": false,
     "input": [
      "from oacs.classifier.univariategaussian import UnivariateGaussian\n",
      "from oacs.classifier.multivariategaussian import MultivariateGaussian\n",
      "import pandas as pd\n",
      "import numpy as np"
     ],
     "language": "python",
     "metadata": {},
     "outputs": [],
     "prompt_number": 9
    },
    {
     "cell_type": "markdown",
     "metadata": {},
     "source": [
      "Init the example datasets\n",
      "-------------------------\n",
      "\n",
      "The first dataset X is unweighted, and the second dataset X2 is weighted. Both X and X2 are equivalent (except for the weights).\n",
      "\n",
      "Both contains 3 columns: 'x1', 'x2' and the weights in 'framerepeat'"
     ]
    },
    {
     "cell_type": "code",
     "collapsed": false,
     "input": [
      "X = pd.DataFrame({'x1':[0, 1, 2, 2, 2, 2, 3, 50], 'x2':[100, 111, 122, 122, 122, 122, 130, 150], 'framerepeat':[1]*8}, columns=['x1', 'x2', 'framerepeat'])\n",
      "print(X)"
     ],
     "language": "python",
     "metadata": {},
     "outputs": [
      {
       "output_type": "stream",
       "stream": "stdout",
       "text": [
        "   x1   x2  framerepeat\n",
        "0   0  100            1\n",
        "1   1  111            1\n",
        "2   2  122            1\n",
        "3   2  122            1\n",
        "4   2  122            1\n",
        "5   2  122            1\n",
        "6   3  130            1\n",
        "7  50  150            1\n"
       ]
      }
     ],
     "prompt_number": 10
    },
    {
     "cell_type": "code",
     "collapsed": false,
     "input": [
      "X2 = pd.DataFrame({'x1':[0, 1, 2, 3, 50], 'x2':[100, 111, 122, 130, 150] , 'framerepeat':[1,1,4,1,1]}, columns=['x1', 'x2', 'framerepeat'])\n",
      "X2 = X2.astype('float64')\n",
      "print(X2)\n",
      "print(X2.dtypes)"
     ],
     "language": "python",
     "metadata": {},
     "outputs": [
      {
       "output_type": "stream",
       "stream": "stdout",
       "text": [
        "   x1   x2  framerepeat\n",
        "0   0  100            1\n",
        "1   1  111            1\n",
        "2   2  122            4\n",
        "3   3  130            1\n",
        "4  50  150            1\n",
        "x1             float64\n",
        "x2             float64\n",
        "framerepeat    float64\n",
        "dtype: object\n"
       ]
      }
     ],
     "prompt_number": 11
    },
    {
     "cell_type": "markdown",
     "metadata": {},
     "source": [
      "Computing the stats\n",
      "-------------------\n",
      "Try first to compute the stats on the unweighted dataset (this is the CORRECT result, which is to be reproduced with the weighted dataset)."
     ]
    },
    {
     "cell_type": "code",
     "collapsed": false,
     "input": [
      "# Just use Pandas and Numpy provided methods since we can be sure they are correct when we're not using weights\n",
      "print(X.mean())\n",
      "print(X.var())\n",
      "print(pd.DataFrame(np.cov(X.T), columns=X.columns, index=X.columns))"
     ],
     "language": "python",
     "metadata": {},
     "outputs": [
      {
       "output_type": "stream",
       "stream": "stdout",
       "text": [
        "x1               7.750\n",
        "x2             122.375\n",
        "framerepeat      1.000\n",
        "dtype: float64\n",
        "x1             292.214286\n",
        "x2             207.410714\n",
        "framerepeat      0.000000\n",
        "dtype: float64\n",
        "                     x1          x2  framerepeat\n",
        "x1           292.214286  198.535714            0\n",
        "x2           198.535714  207.410714            0\n",
        "framerepeat    0.000000    0.000000            0\n"
       ]
      }
     ],
     "prompt_number": 12
    },
    {
     "cell_type": "markdown",
     "metadata": {},
     "source": [
      "Computations on the weighted dataset. The result SHOULD be the SAME as for the unweighted dataset (result in the cell just above)."
     ]
    },
    {
     "cell_type": "code",
     "collapsed": false,
     "input": [
      "mu2 = UnivariateGaussian.mean(X2)\n",
      "var2 = UnivariateGaussian.variance(X2, mu2)\n",
      "covar2 = MultivariateGaussian.covar(X2, mu2)\n",
      "print(mu2)\n",
      "print(var2)\n",
      "print(covar2)"
     ],
     "language": "python",
     "metadata": {},
     "outputs": [
      {
       "output_type": "stream",
       "stream": "stdout",
       "text": [
        "x1               7.750\n",
        "x2             122.375\n",
        "framerepeat      2.500\n",
        "dtype: float64\n",
        "x1             292.214286\n",
        "x2             207.410714\n",
        "framerepeat      2.571429\n",
        "dtype: float64\n",
        "                     x1          x2  framerepeat\n",
        "x1           292.214286  198.535714    -9.857143\n",
        "x2           198.535714  207.410714    -0.642857\n",
        "framerepeat   -9.857143   -0.642857     2.571429\n"
       ]
      }
     ],
     "prompt_number": 13
    },
    {
     "cell_type": "markdown",
     "metadata": {},
     "source": [
      "Normalized weights\n",
      "------------------\n",
      "Normalized weights should not be used in OACS, but as an exercise it would be nice to be able to support them anyway.\n",
      "\n",
      "Here is some code to normalize the weights. Then retry the code on the weighted dataset to see if the results are still equivalent with the unweighted dataset."
     ]
    },
    {
     "cell_type": "code",
     "collapsed": false,
     "input": [
      "# Normalize the weights (weights.sum = 1)\n",
      "# Use this code to try again the proba codes with normalized weights (representing the frequency instead of the number of occurrences of an observation)\n",
      "X2['framerepeat'] = X2['framerepeat'] / X2['framerepeat'].sum()\n",
      "print(X2['framerepeat'])"
     ],
     "language": "python",
     "metadata": {},
     "outputs": []
    },
    {
     "cell_type": "markdown",
     "metadata": {},
     "source": [
      "Code tryouts\n",
      "------------\n",
      "Here are some equations that tries to overcome the problem of normalized weights"
     ]
    },
    {
     "cell_type": "code",
     "collapsed": false,
     "input": [
      "def variance(X, mean, weights=None):\n",
      "    if weights is None: weights = X['framerepeat']\n",
      "    squareddiff = X-mean\n",
      "    squareddiff = squareddiff * squareddiff # TODO: bug with Pandas/Numpy: if **2 produce this: https://github.com/pydata/pandas/issues/3407\n",
      "    if weights.sum() <= 1:\n",
      "        n = X2.shape[0]\n",
      "    else:\n",
      "        n = weights.sum()\n",
      "    b = (weights**2).sum() / weights.sum()**2\n",
      "    c = weights.sum() / (weights.sum()**2 - (weights**2).sum())\n",
      "    n = 8\n",
      "    d = 1./((n-1) * weights.sum())\n",
      "    print(b)\n",
      "    print(c)\n",
      "    #variance = b * squareddiff.T.dot(weights) # DataFrames and Series are implicitly aligned by index\n",
      "    #variance = b * 1./(n-1) * squareddiff.sum() # DataFrames and Series are implicitly aligned by index\n",
      "    #variance = 1./(1-(weights**2).sum()) * squareddiff.T.dot(weights)\n",
      "    #variance = c * squareddiff.T.dot(weights)\n",
      "    variance = d * squareddiff.T.dot(weights)\n",
      "    print(squareddiff.T.dot(weights))\n",
      "    return variance\n",
      "mu3 = UnivariateGaussian.mean(X2)\n",
      "var3 = variance(X2, mu3)\n",
      "print(mu3)\n",
      "print(var3)"
     ],
     "language": "python",
     "metadata": {},
     "outputs": []
    },
    {
     "cell_type": "code",
     "collapsed": false,
     "input": [
      "def covar(X, mean, weights=None):\n",
      "    if weights is None: weights = 'framerepeat'\n",
      "    if weights in X.keys(): w = X[weights]\n",
      "    if weights in X.keys() and weights not in mean.keys():\n",
      "        if type(X) == pd.Series:\n",
      "            ax = 0\n",
      "        else:\n",
      "            ax = 1\n",
      "        X = X.drop(weights, axis=ax)\n",
      "    xm = X-mean # xm = X diff to mean\n",
      "    xm = xm.fillna(0)\n",
      "    #xm = (xm.T*w).T\n",
      "    if type(X) == pd.Series:\n",
      "        sigma2 = np.outer(xm.T, xm); # force matrix multiplication outer product (else if you use np.dot() or pandas.dot(), it will align by the indexes and make the dot product)\n",
      "    else:\n",
      "        m = X.shape[0]\n",
      "        #sigma2 = 1./(w.sum() - 1) * xm.T.dot(xm); # Sigma2 = 1/m * X' * X\n",
      "        #sigma2 = w.sum()/(w.sum()**2 - (w**2).sum()) * xm.T.dot(xm); # Sigma2 = 1/m * X' * X\n",
      "        print(w)\n",
      "        print(xm.T)\n",
      "        print(xm.mul(w, axis=0))\n",
      "        sigma2 = 1./(w.sum()-1) * xm.mul(w, axis=0).T.dot(xm);\n",
      "\n",
      "    return sigma2\n",
      "\n",
      "mu4 = UnivariateGaussian.mean(X2)\n",
      "covar4 = covar(X2, mu4)\n",
      "print(mu4)\n",
      "print(covar4)"
     ],
     "language": "python",
     "metadata": {},
     "outputs": []
    },
    {
     "cell_type": "code",
     "collapsed": false,
     "input": [
      "# Just for comparison, reprint here the covariance so that's easier to check with the just-above result\n",
      "print(pd.DataFrame(np.cov(X.T), columns=X.columns, index=X.columns))"
     ],
     "language": "python",
     "metadata": {},
     "outputs": []
    },
    {
     "cell_type": "code",
     "collapsed": false,
     "input": [],
     "language": "python",
     "metadata": {},
     "outputs": []
    }
   ],
   "metadata": {}
  }
 ]
}