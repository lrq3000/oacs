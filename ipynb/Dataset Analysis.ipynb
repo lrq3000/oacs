{
 "metadata": {
  "name": "Dataset Analysis"
 },
 "nbformat": 3,
 "nbformat_minor": 0,
 "worksheets": [
  {
   "cells": [
    {
     "cell_type": "markdown",
     "metadata": {},
     "source": [
      "Dataset Analysis for OACS\n",
      "=========================\n",
      "\n",
      "You can use this notebook to process, analyze and visualize your dataset in order to better understand the distribution of your data.\n",
      "\n",
      "This notebook provides a few generic code snippets to help you get started (loading the dataset and OACS structure)."
     ]
    },
    {
     "cell_type": "markdown",
     "metadata": {},
     "source": [
      "Loading the OACS structure\n",
      "--------------------------\n",
      "The code below is the first initialization step necessary to load the program. Just execute it and go to the next steps.\n",
      "\n",
      "Note: you should reexecute this code everytime you change the sourcecode or the config file, but not when you just want to reload the data files (use instead \u00b4runner.inputparser.load()\u00b4 )."
     ]
    },
    {
     "cell_type": "code",
     "collapsed": false,
     "input": [
      "%load_ext autoreload\n",
      "%autoreload 2\n",
      "import oacs.main\n",
      "reload(oacs.main)\n",
      "runner = oacs.main.main(['--script', '--inputfile', 'data.txt'])\n",
      "\n",
      "import pandas as pd"
     ],
     "language": "python",
     "metadata": {},
     "outputs": []
    },
    {
     "cell_type": "markdown",
     "metadata": {},
     "source": [
      "Some test code\n",
      "--------------\n",
      "Below are some test code (TODO: add generic code to read, describe and visualize the data)."
     ]
    },
    {
     "cell_type": "code",
     "collapsed": false,
     "input": [
      "runner.updatevars(runner.learningalgo.learn(**runner.vars))"
     ],
     "language": "python",
     "metadata": {},
     "outputs": []
    },
    {
     "cell_type": "code",
     "collapsed": false,
     "input": [
      "runner.updatevars(runner.inputparser.load())\n",
      "X = runner.vars['X']\n",
      "Y = runner.vars['Y']\n",
      "X"
     ],
     "language": "python",
     "metadata": {},
     "outputs": []
    },
    {
     "cell_type": "code",
     "collapsed": false,
     "input": [
      "for var in runner.inputparser.read():\n",
      "    print(var['X'])"
     ],
     "language": "python",
     "metadata": {},
     "outputs": []
    },
    {
     "cell_type": "code",
     "collapsed": false,
     "input": [
      "var = runner.inputparser.load()\n",
      "X = var['X']\n",
      "def weightedmean(serie):\n",
      "    weight = serie['framerepeat']\n",
      "    #s2 = serie.drop(['framerepeat'])\n",
      "    s = serie.ix[0:-1] * weight\n",
      "    s = s.set_value('framerepeat', weight)\n",
      "    return s\n",
      "\n",
      "if 'framerepeat' in X.keys():\n",
      "    X = X.apply(weightedmean, axis=1)\n",
      "\n",
      "X2 = X.sum() / X.ix[:,'framerepeat'].sum()\n",
      "X2"
     ],
     "language": "python",
     "metadata": {},
     "outputs": []
    },
    {
     "cell_type": "code",
     "collapsed": false,
     "input": [
      "types = pd.read_csv(runner.config.config['typesfile'], index_col=None, header=0)\n",
      "types = types.ix[0, :]\n"
     ],
     "language": "python",
     "metadata": {},
     "outputs": []
    },
    {
     "cell_type": "code",
     "collapsed": false,
     "input": [],
     "language": "python",
     "metadata": {},
     "outputs": []
    }
   ],
   "metadata": {}
  }
 ]
}