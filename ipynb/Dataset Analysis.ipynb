{
 "metadata": {
  "name": "Dataset Analysis"
 },
 "nbformat": 3,
 "nbformat_minor": 0,
 "worksheets": [
  {
   "cells": [
    {
     "cell_type": "markdown",
     "metadata": {},
     "source": [
      "Dataset Analysis for OACS\n",
      "=========================\n",
      "\n",
      "You can use this notebook to process, analyze and visualize your dataset in order to better understand the distribution of your data.\n",
      "\n",
      "This notebook provides a few generic code snippets to help you get started (loading the dataset and OACS structure)."
     ]
    },
    {
     "cell_type": "markdown",
     "metadata": {},
     "source": [
      "Importing libraries for your computations\n",
      "-----------------------------------------\n",
      "Place here the libraries you will need for your computations, as well as the printing options you want."
     ]
    },
    {
     "cell_type": "code",
     "collapsed": false,
     "input": [
      "# Load necessary libraries for your computations\n",
      "import pandas as pd\n",
      "import numpy as np\n",
      "import matplotlib.pylab as plt\n",
      "import math\n",
      "\n",
      "# Setting a few printing options\n",
      "pd.set_option('display.max_colwidth', 200)\n",
      "pd.set_option('display.max_columns', 200)\n",
      "pd.set_option('display.max_rows',200)\n",
      "pd.set_option('display.precision',10)\n",
      "pd.set_option('expand_frame_repr', True)\n",
      "pd.set_option('line_width', 150)\n",
      "pd.set_option('display.notebook_repr_html', True)\n",
      "\n",
      "# A nice function to print 2 things side-by-side, by Wes McKinney\n",
      "def side_by_side(*objs, **kwds):\n",
      "    from pandas.core.common import adjoin\n",
      "    space = kwds.get('space', 4)\n",
      "    reprs = [repr(obj).split('\\n') for obj in objs]\n",
      "    print adjoin(space, *reprs)"
     ],
     "language": "python",
     "metadata": {},
     "outputs": [],
     "prompt_number": 1
    },
    {
     "cell_type": "markdown",
     "metadata": {},
     "source": [
      "Loading the OACS structure\n",
      "--------------------------\n",
      "The code below is the first initialization step necessary to load the program. Just execute it and go to the next steps.\n",
      "\n",
      "Note: you should reexecute this code everytime you change the sourcecode or the config file, but not when you just want to reload the data files (use instead \u00b4runner.inputparser.load()\u00b4 )."
     ]
    },
    {
     "cell_type": "code",
     "collapsed": false,
     "input": [
      "# Forcefully reload all the OACS modules\n",
      "%load_ext autoreload\n",
      "%autoreload 2\n",
      "import oacs.main\n",
      "reload(oacs.main)\n",
      "\n",
      "# Clean up a few stuff\n",
      "try:\n",
      "    del runner.vars\n",
      "    del runner\n",
      "except Exception, e:\n",
      "    pass\n",
      "\n",
      "# Load the base software\n",
      "runner = oacs.main.main(['--script']) # Note that here you can pass any commandline argument you want, or you can just set them in the configuration file since the application considers commandline arguments and config options exactly the same."
     ],
     "language": "python",
     "metadata": {},
     "outputs": [],
     "prompt_number": 2
    },
    {
     "cell_type": "markdown",
     "metadata": {},
     "source": [
      "Phase 1 - Learning the parameters\n",
      "-----------------------\n",
      "Execute the code below to learn the parameters, and to show the parameters you've just learned.\n",
      "\n",
      "Note: use the configuration file to specify the modules you want to use for learning."
     ]
    },
    {
     "cell_type": "code",
     "collapsed": false,
     "input": [
      "# Clean the previously learned parameters if any, else they will be reused and the result will be different\n",
      "del runner.vars\n",
      "runner.vars = dict()\n",
      "\n",
      "# Reload the configuration in case it was changed\n",
      "runner.config.reload()\n",
      "\n",
      "# Load the datafile and learn the parameters\n",
      "#%timeit runner.learn()\n",
      "runner.learn()"
     ],
     "language": "python",
     "metadata": {},
     "outputs": [
      {
       "output_type": "pyout",
       "prompt_number": 4,
       "text": [
        "True"
       ]
      }
     ],
     "prompt_number": 4
    },
    {
     "cell_type": "markdown",
     "metadata": {},
     "source": [
      "Use the code below to benchmark the time spent for learning (you can then compare different algorithms):"
     ]
    },
    {
     "cell_type": "code",
     "collapsed": false,
     "input": [
      "from oacs.lib.debug.debug import *\n",
      "\n",
      "@showprofile\n",
      "@profileit\n",
      "def test():\n",
      "    runner.learn()\n",
      "test()"
     ],
     "language": "python",
     "metadata": {},
     "outputs": []
    },
    {
     "cell_type": "markdown",
     "metadata": {},
     "source": [
      "After learning, you can use _runner.vars_ to print all the variables generated by the learning (and also the dataset, which is usually stored in X and Y):"
     ]
    },
    {
     "cell_type": "code",
     "collapsed": false,
     "input": [
      "# Print all the variables and learned parameters\n",
      "print(\"List of variables: %s\" % runner.vars.keys())\n",
      "runner.vars"
     ],
     "language": "python",
     "metadata": {},
     "outputs": [
      {
       "output_type": "stream",
       "stream": "stdout",
       "text": [
        "List of variables: []\n"
       ]
      },
      {
       "output_type": "pyout",
       "prompt_number": 3,
       "text": [
        "{}"
       ]
      }
     ],
     "prompt_number": 3
    },
    {
     "cell_type": "markdown",
     "metadata": {},
     "source": [
      "Phase 2 - Detection loop\n",
      "-------------------\n",
      "After learning the parameters (using the code snippets above), you can then run the main program and detect cheaters by running the code below.\n",
      "\n",
      "Note: once launched, the following snippet will run indefinitely, but you can stop it at anytime by pressing the STOP button of IPython Notebook, or in the menu Kernel > Interrupt."
     ]
    },
    {
     "cell_type": "code",
     "collapsed": false,
     "input": [
      "# Load the runner only\n",
      "from oacs.run import Runner\n",
      "reload(oacs.run)\n",
      "\n",
      "# Load the previously learnt parameters\n",
      "Runner.load_vars(runner.config.config['parametersfile'])\n",
      "\n",
      "# Launch the detection loop!\n",
      "runner.run()"
     ],
     "language": "python",
     "metadata": {},
     "outputs": [
      {
       "output_type": "stream",
       "stream": "stdout",
       "text": [
        "0.31969087417\n",
        "Cheater detected!\n",
        "0.0202496130744"
       ]
      },
      {
       "output_type": "stream",
       "stream": "stdout",
       "text": [
        "\n",
        "Cheater detected!\n",
        "0.214610275058"
       ]
      },
      {
       "output_type": "stream",
       "stream": "stdout",
       "text": [
        "\n",
        "Cheater detected!\n",
        "0.945093864832"
       ]
      },
      {
       "output_type": "stream",
       "stream": "stdout",
       "text": [
        "\n"
       ]
      },
      {
       "output_type": "pyout",
       "prompt_number": 7,
       "text": [
        "0"
       ]
      }
     ],
     "prompt_number": 7
    },
    {
     "cell_type": "markdown",
     "metadata": {},
     "source": [
      "Enter below your own data analysis code\n",
      "--------------\n",
      "You can enter below your own code to analyse the data set and any other data/variable generated by OACS (you should access _runner.vars_)."
     ]
    },
    {
     "cell_type": "code",
     "collapsed": false,
     "input": [
      "# Predict with a sample example\n",
      "%timeit runner.classifier.predict(x=X.irow(1), **runner.vars)\n",
      "Pred = runner.classifier.predict(x=X.irow(1), **runner.vars)\n",
      "print(Pred)"
     ],
     "language": "python",
     "metadata": {},
     "outputs": []
    },
    {
     "cell_type": "code",
     "collapsed": false,
     "input": [
      "runner.updatevars(runner.inputparser.load())\n",
      "X = runner.vars['X']\n",
      "Y = runner.vars['Y']\n",
      "X"
     ],
     "language": "python",
     "metadata": {},
     "outputs": []
    },
    {
     "cell_type": "code",
     "collapsed": false,
     "input": [
      "for var in runner.inputparser.read():\n",
      "    print(var['X'])"
     ],
     "language": "python",
     "metadata": {},
     "outputs": []
    },
    {
     "cell_type": "code",
     "collapsed": false,
     "input": [
      "types = pd.read_csv(runner.config.config['typesfile'], index_col=None, header=0)\n",
      "types = types.ix[0, :]\n"
     ],
     "language": "python",
     "metadata": {},
     "outputs": []
    },
    {
     "cell_type": "markdown",
     "metadata": {},
     "source": [
      "Time testing\n",
      "------------"
     ]
    },
    {
     "cell_type": "code",
     "collapsed": false,
     "input": [
      "%timeit runner.classifier.mean(X)\n",
      "%timeit runner.classifier.mean_alt(X)"
     ],
     "language": "python",
     "metadata": {},
     "outputs": []
    },
    {
     "cell_type": "code",
     "collapsed": false,
     "input": [
      "%timeit runner.classifier.mean(X)\n",
      "%timeit runner.classifier.sigma2(X, mu)\n",
      "%timeit runner.classifier.sigma2_alt(X, mu)"
     ],
     "language": "python",
     "metadata": {},
     "outputs": []
    },
    {
     "cell_type": "markdown",
     "metadata": {},
     "source": [
      "Other tests\n",
      "-----------"
     ]
    },
    {
     "cell_type": "code",
     "collapsed": false,
     "input": [
      "gen = runner.inputparser.read(skip_to_end=True)\n",
      "for dictofvars in gen:\n",
      "    print(dictofvars)"
     ],
     "language": "python",
     "metadata": {},
     "outputs": [],
     "prompt_number": 7
    },
    {
     "cell_type": "code",
     "collapsed": false,
     "input": [
      "for item, value in runner.postaction.iteritems():\n",
      "    print(item)"
     ],
     "language": "python",
     "metadata": {},
     "outputs": [
      {
       "output_type": "stream",
       "stream": "stdout",
       "text": [
        "runcommand\n",
        "simpleprint\n",
        "detectionlog\n",
        "playerstable\n"
       ]
      }
     ],
     "prompt_number": 8
    },
    {
     "cell_type": "code",
     "collapsed": false,
     "input": [
      "runner.postaction"
     ],
     "language": "python",
     "metadata": {},
     "outputs": [
      {
       "output_type": "pyout",
       "prompt_number": 9,
       "text": [
        "{u'detectionlog': <oacs.postaction.detectionlog.DetectionLog at 0x83e0470>,\n",
        " u'playerstable': <oacs.postaction.playerstable.PlayersTable at 0x83e0208>,\n",
        " u'runcommand': <oacs.postaction.runcommand.RunCommand at 0x83e04a8>,\n",
        " u'simpleprint': <oacs.postaction.simpleprint.SimplePrint at 0x83e0278>}"
       ]
      }
     ],
     "prompt_number": 9
    },
    {
     "cell_type": "markdown",
     "metadata": {},
     "source": [
      "-----------------------"
     ]
    },
    {
     "cell_type": "code",
     "collapsed": false,
     "input": [
      "# Printing angle in a frame in function of the reaction time and with the size proportional to the number of framerepeat)\n",
      "X = runner.vars['X']\n",
      "plt.scatter(X.reactiontime, X.angleinaframe, s=X.framerepeat)"
     ],
     "language": "python",
     "metadata": {},
     "outputs": [
      {
       "output_type": "pyout",
       "prompt_number": 31,
       "text": [
        "<matplotlib.collections.PathCollection at 0x8335da0>"
       ]
      },
      {
       "output_type": "display_data",
       "png": "[encoded data removed]"
      }
     ],
     "prompt_number": 31
    },
    {
     "cell_type": "markdown",
     "metadata": {},
     "source": [
      "------------------------------------\n",
      "CANS clusters printing\n",
      "------------\n",
      "Learn CANS parameters first, and then execute the code below to print the list of found clusters."
     ]
    },
    {
     "cell_type": "code",
     "collapsed": false,
     "input": [
      "if 'Clusters' in runner.vars:\n",
      "    clusters = runner.vars['Clusters']\n",
      "runner.classifier.printclusters(clusters)"
     ],
     "language": "python",
     "metadata": {},
     "outputs": [
      {
       "output_type": "stream",
       "stream": "stdout",
       "text": [
        "Tableau 1\n",
        "     lastmouseeventtime\n",
        "     lastcommandtime\n",
        "     midair\n",
        "     movementdirection\n",
        "\n",
        "Tableau 2\n",
        "     ducked\n",
        "     reactiontime\n",
        "     selfdamagecount\n",
        "     powerup_quad\n",
        "\n",
        "Tableau 3\n",
        "     speedratio\n",
        "     commandtime_reactiontime\n",
        "     weaponstate\n",
        "     angleinaframe\n",
        "\n",
        "Tableau 4\n",
        "     mouseeventtime_reactiontime\n",
        "\n",
        "Tableau 5\n",
        "     scoreacc\n",
        "\n",
        "Tableau 6\n",
        "     hitsacc\n",
        "\n",
        "Tableau 7\n",
        "     deathacc\n",
        "\n",
        "Tableau 8\n",
        "     capturesacc\n",
        "\n",
        "Tableau 9\n",
        "     impressivecountacc\n",
        "\n",
        "Tableau 10\n",
        "     excellentcountacc\n",
        "\n",
        "Tableau 11\n",
        "     defendcountacc\n",
        "\n",
        "Tableau 12\n",
        "     assistcountacc\n",
        "\n",
        "Tableau 13\n",
        "     gauntletfragcountacc\n",
        "\n",
        "Tableau 14\n",
        "     fragsinarow\n",
        "\n",
        "Tableau 15\n",
        "     selfdamageeventcountacc\n",
        "\n",
        "Tableau 16\n",
        "     weapon\n",
        "\n",
        "Tableau 17\n",
        "     weaponinstanthit\n",
        "\n",
        "Tableau 18\n",
        "     powerup_battlesuit\n",
        "\n",
        "Tableau 19\n",
        "     powerup_haste\n",
        "\n",
        "Tableau 20\n",
        "     powerup_invisibility\n",
        "\n",
        "Tableau 21\n",
        "     powerup_regeneration\n",
        "\n",
        "Tableau 22\n",
        "     powerup_flight\n",
        "\n",
        "Tableau 23\n",
        "     hasflag\n",
        "\n",
        "Tableau 24\n",
        "     holyshit\n",
        "\n",
        "Tableau 25\n",
        "     rank\n",
        "\n",
        "Tableau 26\n",
        "     enemyhadflag\n",
        "\n",
        "Tableau 27\n",
        "     armor\n",
        "\n"
       ]
      }
     ],
     "prompt_number": 5
    },
    {
     "cell_type": "markdown",
     "metadata": {},
     "source": [
      "Principal Component Analysis (PCA) Dimensionality Reduction\n",
      "-----------------------------------------------------------\n",
      "The following code will perform a PCA dimensionality reduction in 2D so that you can get an idea on how your data distribution is."
     ]
    },
    {
     "cell_type": "code",
     "collapsed": false,
     "input": [
      "K = 2\n",
      "Sigma2 = runner.vars['Sigma2']\n",
      "U, S, V = linalg.svd(Sigma2)\n",
      "V = V.T\n",
      "X = runner.vars['X']\n",
      "#U = pd.DataFrame(U, columns=X.columns, index=X.columns)\n",
      "Z = pd.DataFrame(np.dot(X, U[:, 0:K]))\n",
      "#plt.scatter(Z.ix[:,0], Z.ix[:,1])#, s=X.framerepeat)\n",
      "print(Z)"
     ],
     "language": "python",
     "metadata": {},
     "outputs": [
      {
       "output_type": "stream",
       "stream": "stdout",
       "text": [
        "<class 'pandas.core.frame.DataFrame'>\n",
        "Int64Index: 1049940 entries, 0 to 1049939\n",
        "Data columns (total 2 columns):\n",
        "0    1049940  non-null values\n",
        "1    1049940  non-null values\n",
        "dtypes: float64(2)\n"
       ]
      }
     ],
     "prompt_number": 14
    },
    {
     "cell_type": "code",
     "collapsed": false,
     "input": [
      "import random\n",
      "rows = random.sample(Z.index, 100000)\n",
      "#X = runner.vars['X']\n",
      "plt.scatter(Z.ix[rows,0], Z.ix[rows,1])#, s=X.framerepeat))\n",
      "plt.show()"
     ],
     "language": "python",
     "metadata": {},
     "outputs": [
      {
       "output_type": "display_data",
       "png": "[encoded data removed]"
      }
     ],
     "prompt_number": 15
    },
    {
     "cell_type": "code",
     "collapsed": false,
     "input": [
      "print(X.shape)\n",
      "print(U.shape)\n",
      "print(U[:, 0:K])"
     ],
     "language": "python",
     "metadata": {},
     "outputs": [
      {
       "output_type": "stream",
       "stream": "stdout",
       "text": [
        "(1049940, 35)\n",
        "(35L, 35L)"
       ]
      },
      {
       "output_type": "stream",
       "stream": "stdout",
       "text": [
        "\n",
        "[[ -1.31390814e-03  -9.99447520e-01]\n",
        " [ -7.56093383e-05  -5.67372176e-03]\n",
        " [  1.83290245e-05  -9.76529019e-04]\n",
        " [  0.00000000e+00  -6.77626358e-21]\n",
        " [  1.88296856e-05   4.97462085e-04]\n",
        " [  0.00000000e+00   0.00000000e+00]\n",
        " [  0.00000000e+00   0.00000000e+00]\n",
        " [  0.00000000e+00   0.00000000e+00]\n",
        " [  0.00000000e+00   0.00000000e+00]\n",
        " [  0.00000000e+00   0.00000000e+00]\n",
        " [  1.30455780e-08   2.89786237e-08]\n",
        " [  0.00000000e+00   0.00000000e+00]\n",
        " [  0.00000000e+00   0.00000000e+00]\n",
        " [  1.75292304e-09   4.03821650e-08]\n",
        " [  0.00000000e+00   0.00000000e+00]\n",
        " [ -8.24261394e-09  -3.45842770e-06]\n",
        " [  2.37929509e-08  -3.13423547e-07]\n",
        " [  1.39122072e-06   3.41942251e-05]\n",
        " [  2.51821335e-05   5.51452234e-04]\n",
        " [  5.89541618e-06   1.55139739e-04]\n",
        " [ -2.15042669e-06   9.94752953e-06]\n",
        " [  1.00459294e-06   1.13625897e-05]\n",
        " [  7.94220630e-08   8.77873131e-07]\n",
        " [  5.50720953e-07   2.55662507e-06]\n",
        " [  1.32703406e-07   2.38331563e-06]\n",
        " [  0.00000000e+00   0.00000000e+00]\n",
        " [  0.00000000e+00   0.00000000e+00]\n",
        " [  0.00000000e+00   0.00000000e+00]\n",
        " [  0.00000000e+00   0.00000000e+00]\n",
        " [ -9.99995368e-01   1.36087621e-03]\n",
        " [  0.00000000e+00   0.00000000e+00]\n",
        " [  2.73498143e-03   1.56961517e-02]\n",
        " [  4.58541100e-06   3.38861109e-04]\n",
        " [  1.64624565e-04  -3.61837784e-04]\n",
        " [ -1.52786475e-04  -2.86786691e-02]]"
       ]
      },
      {
       "output_type": "stream",
       "stream": "stdout",
       "text": [
        "\n"
       ]
      }
     ],
     "prompt_number": 5
    },
    {
     "cell_type": "markdown",
     "metadata": {},
     "source": [
      "Only preoptimization\n",
      "--------------------"
     ]
    },
    {
     "cell_type": "code",
     "collapsed": false,
     "input": [
      "d = runner.inputparser.load()\n",
      "x = d['X']"
     ],
     "language": "python",
     "metadata": {},
     "outputs": [],
     "prompt_number": 3
    },
    {
     "cell_type": "code",
     "collapsed": false,
     "input": [
      "runner.vars['X'] = x\n",
      "runner.generic_call(runner.preoptimization, 'optimize')\n",
      "x2 = runner.vars['X']"
     ],
     "language": "python",
     "metadata": {},
     "outputs": [],
     "prompt_number": 4
    },
    {
     "cell_type": "code",
     "collapsed": false,
     "input": [
      "import random\n",
      "X = runner.vars['X']\n",
      "rows = random.sample(X.index, 10000)\n",
      "plt.scatter(X.ix[rows,0], X.ix[rows,1])#, s=X.framerepeat))\n",
      "plt.show()\n",
      "plt.hist(X.ix[rows,0], bins=1000, normed=True)\n",
      "plt.show()"
     ],
     "language": "python",
     "metadata": {},
     "outputs": [
      {
       "output_type": "display_data",
       "png": "[encoded data removed]"
      },
      {
       "output_type": "display_data",
       "png": "[encoded data removed]"
      }
     ],
     "prompt_number": 12
    },
    {
     "cell_type": "code",
     "collapsed": false,
     "input": [
      "print(X.ix[1:50,:])"
     ],
     "language": "python",
     "metadata": {},
     "outputs": [
      {
       "output_type": "stream",
       "stream": "stdout",
       "text": [
        "    reactiontime  commandtime_reactiontime  angleinaframe  mouseeventtime_reactiontime  movementdirection     scoreacc      hitsacc     deathacc  \\\n",
        "1   -0.129989126              -0.112606083    0.590741245                 -0.172961089       -0.665821603 -0.042328361 -0.078215748 -0.000956794   \n",
        "2   -0.129989126              -0.092700095   -0.186686514                 -0.172961089       -0.665821603 -0.042328361 -0.078215748 -0.000956794   \n",
        "3    0.014585211              -0.082747100   -0.186686514                 -0.172961089       -0.665821603 -0.042328361 -0.078215748 -0.000956794   \n",
        "4    0.014585211              -0.092700095   -0.129099272                 -0.172961089       -0.665821603 -0.042328361 -0.078215748 -0.000956794   \n",
        "5   -0.129989126              -0.052888117   -0.129099272                 -0.172961089       -0.665821603 -0.042328361 -0.078215748 -0.000956794   \n",
        "6   -0.129989126              -0.172324049   -0.100305651                 -0.172961089       -0.665821603 -0.042328361 -0.078215748 -0.000956794   \n",
        "7   -0.129989126              -0.082747100   -0.186686514                 -0.172961089       -0.665821603 -0.042328361 -0.078215748 -0.000956794   \n",
        "8   -0.129989126              -0.032982129   -0.157892893                 -0.172961089       -0.665821603 -0.042328361 -0.078215748 -0.000956794   \n",
        "9   -0.129989126              -0.082747100   -0.186686514                 -0.172961089       -0.665821603 -0.042328361 -0.078215748 -0.000956794   \n",
        "10   0.014585211              -0.092700095   -0.186686514                 -0.172961089       -0.665821603 -0.042328361 -0.078215748 -0.000956794   \n",
        "11   0.014585211              -0.112606083    0.130043314                 -0.119039566       -0.665821603 -0.042328361 -0.078215748 -0.000956794   \n",
        "12  -0.129989126              -0.112606083    0.590741245                 -0.172961089       -0.665821603 -0.042328361 -0.078215748 -0.000956794   \n",
        "13  -0.129989126              -0.003123146    0.417979521                 -0.172961089       -0.665821603 -0.042328361 -0.078215748 -0.000956794   \n",
        "14  -0.129989126              -0.112606083    0.043662452                 -0.172961089       -0.665821603 -0.042328361 -0.078215748 -0.000956794   \n",
        "15  -0.129989126              -0.082747100   -0.186686514                 -0.172961089       -0.665821603 -0.042328361 -0.078215748 -0.000956794   \n",
        "16  -0.093845542              -0.003123146   -0.129099272                 -0.157554939       -0.665821603 -0.042328361 -0.078215748 -0.000956794   \n",
        "17  -0.129989126              -0.112606083   -0.071512031                 -0.172961089       -0.665821603 -0.042328361 -0.078215748 -0.000956794   \n",
        "18  -0.129989126              -0.082747100   -0.042718410                 -0.172961089        2.099488672 -0.042328361 -0.078215748 -0.000956794   \n",
        "19  -0.129989126              -0.082747100   -0.013924789                 -0.172961089        2.099488672 -0.042328361 -0.078215748 -0.000956794   \n",
        "20  -0.129989126              -0.003123146    0.014868831                 -0.172961089        2.099488672 -0.042328361 -0.078215748 -0.000956794   \n",
        "21  -0.129989126              -0.112606083    0.072456073                 -0.172961089        2.099488672 -0.042328361 -0.078215748 -0.000956794   \n",
        "22  -0.129989126              -0.112606083    0.072456073                 -0.172961089        2.099488672 -0.042328361 -0.078215748 -0.000956794   \n",
        "23  -0.129989126              -0.092700095   -0.042718410                 -0.172961089        2.099488672 -0.042328361 -0.078215748 -0.000956794   \n",
        "24  -0.129989126              -0.023029135   -0.013924789                 -0.172961089        2.099488672 -0.042328361 -0.078215748 -0.000956794   \n",
        "25  -0.129989126              -0.092700095   -0.071512031                 -0.172961089        2.099488672 -0.042328361 -0.078215748 -0.000956794   \n",
        "26  -0.129989126              -0.082747100   -0.071512031                 -0.172961089        2.099488672 -0.042328361 -0.078215748 -0.000956794   \n",
        "27  -0.129989126              -0.003123146    0.014868831                 -0.172961089        2.099488672 -0.042328361 -0.078215748 -0.000956794   \n",
        "28  -0.129989126              -0.112606083   -0.071512031                 -0.172961089        2.099488672 -0.042328361 -0.078215748 -0.000956794   \n",
        "29  -0.129989126              -0.092700095   -0.129099272                 -0.172961089       -0.270777278 -0.042328361 -0.078215748 -0.000956794   \n",
        "30  -0.129989126              -0.112606083   -0.186686514                 -0.172961089       -0.270777278 -0.042328361 -0.078215748 -0.000956794   \n",
        "31  -0.129989126              -0.003123146   -0.129099272                 -0.165258014       -0.270777278 -0.042328361 -0.078215748 -0.000956794   \n",
        "32  -0.129989126              -0.082747100    0.101249693                 -0.172961089       -0.270777278 -0.042328361 -0.078215748 -0.000956794   \n",
        "33  -0.129989126              -0.072794106   -0.042718410                 -0.172961089       -0.270777278 -0.042328361 -0.078215748 -0.000956794   \n",
        "34  -0.129989126              -0.092700095   -0.100305651                 -0.172961089       -0.270777278 -0.042328361 -0.078215748 -0.000956794   \n",
        "35  -0.129989126              -0.082747100   -0.100305651                 -0.172961089       -0.270777278 -0.042328361 -0.078215748 -0.000956794   \n",
        "36  -0.129989126               0.006829848   -0.071512031                 -0.172961089       -0.270777278 -0.042328361 -0.078215748 -0.000956794   \n",
        "37  -0.129989126              -0.082747100   -0.071512031                 -0.172961089       -0.270777278 -0.042328361 -0.078215748 -0.000956794   \n",
        "38  -0.129989126              -0.092700095   -0.100305651                 -0.172961089       -0.270777278 -0.042328361 -0.078215748 -0.000956794   \n",
        "39  -0.129989126              -0.023029135   -0.042718410                 -0.172961089       -0.270777278 -0.042328361 -0.078215748 -0.000956794   \n",
        "40  -0.129989126              -0.082747100    0.043662452                 -0.172961089       -0.270777278 -0.042328361 -0.078215748 -0.000956794   \n",
        "41  -0.129989126              -0.092700095    0.072456073                 -0.172961089       -0.270777278 -0.042328361 -0.078215748 -0.000956794   \n",
        "42  -0.129989126              -0.112606083    0.072456073                 -0.172961089       -0.270777278 -0.042328361 -0.078215748 -0.000956794   \n",
        "43  -0.129989126               0.006829848   -0.013924789                 -0.172961089       -0.270777278 -0.042328361 -0.078215748 -0.000956794   \n",
        "44  -0.129989126              -0.082747100    0.014868831                 -0.172961089       -0.270777278 -0.042328361 -0.078215748 -0.000956794   \n",
        "45  -0.129989126              -0.092700095   -0.013924789                 -0.172961089       -0.665821603 -0.042328361 -0.078215748 -0.000956794   \n",
        "46  -0.129989126              -0.112606083   -0.100305651                 -0.172961089        2.099488672 -0.042328361 -0.078215748 -0.000956794   \n",
        "47  -0.129989126               0.006829848   -0.129099272                 -0.172961089        2.099488672 -0.042328361 -0.078215748 -0.000956794   \n",
        "48  -0.129989126              -0.112606083   -0.186686514                 -0.172961089        2.099488672 -0.042328361 -0.078215748 -0.000956794   \n",
        "49  -0.093845542              -0.112606083   -0.129099272                 -0.157554939        2.099488672 -0.042328361 -0.078215748 -0.000956794   \n",
        "50  -0.129989126              -0.003123146   -0.042718410                 -0.172961089        2.099488672 -0.042328361 -0.078215748 -0.000956794   \n",
        "\n",
        "    impressivecountacc  excellentcountacc  gauntletfragcountacc  fragsinarow  selfdamageeventcountacc       ducked       midair       weapon  \\\n",
        "1         -0.011951972       -0.012367223          -0.006008896 -0.020227719             -0.075483821 -0.038929935 -0.441668050 -0.889768977   \n",
        "2         -0.011951972       -0.012367223          -0.006008896 -0.020227719             -0.075483821 -0.038929935 -0.441668050 -0.889768977   \n",
        "3         -0.011951972       -0.012367223          -0.006008896 -0.020227719             -0.075483821 -0.038929935 -0.441668050 -0.889768977   \n",
        "4         -0.011951972       -0.012367223          -0.006008896 -0.020227719             -0.075483821 -0.038929935 -0.441668050 -0.889768977   \n",
        "5         -0.011951972       -0.012367223          -0.006008896 -0.020227719             -0.075483821 -0.038929935 -0.441668050 -0.889768977   \n",
        "6         -0.011951972       -0.012367223          -0.006008896 -0.020227719             -0.075483821 -0.038929935 -0.441668050 -0.889768977   \n",
        "7         -0.011951972       -0.012367223          -0.006008896 -0.020227719             -0.075483821 -0.038929935 -0.441668050 -0.889768977   \n",
        "8         -0.011951972       -0.012367223          -0.006008896 -0.020227719             -0.075483821 -0.038929935 -0.441668050 -0.889768977   \n",
        "9         -0.011951972       -0.012367223          -0.006008896 -0.020227719             -0.075483821 -0.038929935 -0.441668050 -0.889768977   \n",
        "10        -0.011951972       -0.012367223          -0.006008896 -0.020227719             -0.075483821 -0.038929935 -0.441668050 -0.889768977   \n",
        "11        -0.011951972       -0.012367223          -0.006008896 -0.020227719             -0.075483821 -0.038929935 -0.441668050 -0.889768977   \n",
        "12        -0.011951972       -0.012367223          -0.006008896 -0.020227719             -0.075483821 -0.038929935 -0.441668050 -0.889768977   \n",
        "13        -0.011951972       -0.012367223          -0.006008896 -0.020227719             -0.075483821 -0.038929935 -0.441668050 -0.889768977   \n",
        "14        -0.011951972       -0.012367223          -0.006008896 -0.020227719             -0.075483821 -0.038929935 -0.441668050 -0.889768977   \n",
        "15        -0.011951972       -0.012367223          -0.006008896 -0.020227719             -0.075483821 -0.038929935 -0.441668050 -0.889768977   \n",
        "16        -0.011951972       -0.012367223          -0.006008896 -0.020227719             -0.075483821 -0.038929935 -0.441668050 -0.889768977   \n",
        "17        -0.011951972       -0.012367223          -0.006008896 -0.020227719             -0.075483821 -0.038929935 -0.441668050 -0.889768977   \n",
        "18        -0.011951972       -0.012367223          -0.006008896 -0.020227719             -0.075483821 -0.038929935 -0.441668050 -0.889768977   \n",
        "19        -0.011951972       -0.012367223          -0.006008896 -0.020227719             -0.075483821 -0.038929935 -0.441668050 -0.889768977   \n",
        "20        -0.011951972       -0.012367223          -0.006008896 -0.020227719             -0.075483821 -0.038929935 -0.441668050 -0.889768977   \n",
        "21        -0.011951972       -0.012367223          -0.006008896 -0.020227719             -0.075483821 -0.038929935 -0.441668050 -0.889768977   \n",
        "22        -0.011951972       -0.012367223          -0.006008896 -0.020227719             -0.075483821 -0.038929935 -0.441668050 -0.889768977   \n",
        "23        -0.011951972       -0.012367223          -0.006008896 -0.020227719             -0.075483821 -0.038929935 -0.441668050 -0.889768977   \n",
        "24        -0.011951972       -0.012367223          -0.006008896 -0.020227719             -0.075483821 -0.038929935  2.264142648 -0.889768977   \n",
        "25        -0.011951972       -0.012367223          -0.006008896 -0.020227719             -0.075483821 -0.038929935  2.264142648 -0.889768977   \n",
        "26        -0.011951972       -0.012367223          -0.006008896 -0.020227719             -0.075483821 -0.038929935  2.264142648 -0.889768977   \n",
        "27        -0.011951972       -0.012367223          -0.006008896 -0.020227719             -0.075483821 -0.038929935  2.264142648 -0.889768977   \n",
        "28        -0.011951972       -0.012367223          -0.006008896 -0.020227719             -0.075483821 -0.038929935  2.264142648 -0.889768977   \n",
        "29        -0.011951972       -0.012367223          -0.006008896 -0.020227719             -0.075483821 -0.038929935  2.264142648 -0.889768977   \n",
        "30        -0.011951972       -0.012367223          -0.006008896 -0.020227719             -0.075483821 -0.038929935  2.264142648 -0.889768977   \n",
        "31        -0.011951972       -0.012367223          -0.006008896 -0.020227719             -0.075483821 -0.038929935  2.264142648 -0.889768977   \n",
        "32        -0.011951972       -0.012367223          -0.006008896 -0.020227719             -0.075483821 -0.038929935  2.264142648 -0.889768977   \n",
        "33        -0.011951972       -0.012367223          -0.006008896 -0.020227719             -0.075483821 -0.038929935  2.264142648 -0.889768977   \n",
        "34        -0.011951972       -0.012367223          -0.006008896 -0.020227719             -0.075483821 -0.038929935  2.264142648 -0.889768977   \n",
        "35        -0.011951972       -0.012367223          -0.006008896 -0.020227719             -0.075483821 -0.038929935  2.264142648 -0.889768977   \n",
        "36        -0.011951972       -0.012367223          -0.006008896 -0.020227719             -0.075483821 -0.038929935  2.264142648 -0.889768977   \n",
        "37        -0.011951972       -0.012367223          -0.006008896 -0.020227719             -0.075483821 -0.038929935  2.264142648 -0.889768977   \n",
        "38        -0.011951972       -0.012367223          -0.006008896 -0.020227719             -0.075483821 -0.038929935 -0.441668050 -0.889768977   \n",
        "39        -0.011951972       -0.012367223          -0.006008896 -0.020227719             -0.075483821 -0.038929935 -0.441668050 -0.889768977   \n",
        "40        -0.011951972       -0.012367223          -0.006008896 -0.020227719             -0.075483821 -0.038929935 -0.441668050 -0.889768977   \n",
        "41        -0.011951972       -0.012367223          -0.006008896 -0.020227719             -0.075483821 -0.038929935  2.264142648 -0.889768977   \n",
        "42        -0.011951972       -0.012367223          -0.006008896 -0.020227719             -0.075483821 -0.038929935  2.264142648 -0.889768977   \n",
        "43        -0.011951972       -0.012367223          -0.006008896 -0.020227719             -0.075483821 -0.038929935  2.264142648 -0.889768977   \n",
        "44        -0.011951972       -0.012367223          -0.006008896 -0.020227719             -0.075483821 -0.038929935  2.264142648 -0.889768977   \n",
        "45        -0.011951972       -0.012367223          -0.006008896 -0.020227719             -0.075483821 -0.038929935  2.264142648 -0.889768977   \n",
        "46        -0.011951972       -0.012367223          -0.006008896 -0.020227719             -0.075483821 -0.038929935  2.264142648 -0.889768977   \n",
        "47        -0.011951972       -0.012367223          -0.006008896 -0.020227719             -0.075483821 -0.038929935  2.264142648 -0.889768977   \n",
        "48        -0.011951972       -0.012367223          -0.006008896 -0.020227719             -0.075483821 -0.038929935  2.264142648 -0.889768977   \n",
        "49        -0.011951972       -0.012367223          -0.006008896 -0.020227719             -0.075483821 -0.038929935  2.264142648 -0.889768977   \n",
        "50        -0.011951972       -0.012367223          -0.006008896 -0.020227719             -0.075483821 -0.038929935  2.264142648 -0.889768977   \n",
        "\n",
        "    weaponstate  weaponinstanthit  powerup_quad  powerup_battlesuit  powerup_haste  powerup_invisibility         rank        armor   speedratio  \\\n",
        "1  -0.677673238       0.849772369   -0.18536165        -0.042533214   -0.086259256          -0.075603712  1.500355594 -0.549893365 -1.176550453   \n",
        "2  -0.677673238       0.849772369   -0.18536165        -0.042533214   -0.086259256          -0.075603712  1.500355594 -0.549893365 -1.176550453   \n",
        "3  -0.677673238       0.849772369   -0.18536165        -0.042533214   -0.086259256          -0.075603712  1.500355594 -0.549893365 -1.176550453   \n",
        "4  -0.677673238       0.849772369   -0.18536165        -0.042533214   -0.086259256          -0.075603712  1.500355594 -0.549893365 -0.814094060   \n",
        "5  -0.677673238       0.849772369   -0.18536165        -0.042533214   -0.086259256          -0.075603712  1.500355594 -0.549893365 -0.125834168   \n",
        "6  -0.677673238       0.849772369   -0.18536165        -0.042533214   -0.086259256          -0.075603712  1.500355594 -0.549893365  0.415814150   \n",
        "7  -0.677673238       0.849772369   -0.18536165        -0.042533214   -0.086259256          -0.075603712  1.500355594 -0.549893365  0.656094230   \n",
        "8  -0.677673238       0.849772369   -0.18536165        -0.042533214   -0.086259256          -0.075603712  1.500355594 -0.549893365  0.647949143   \n",
        "9  -0.677673238       0.849772369   -0.18536165        -0.042533214   -0.086259256          -0.075603712  1.500355594 -0.549893365  0.664239318   \n",
        "10 -0.677673238       0.849772369   -0.18536165        -0.042533214   -0.086259256          -0.075603712  1.500355594 -0.549893365  0.668311861   \n",
        "11 -0.677673238       0.849772369   -0.18536165        -0.042533214   -0.086259256          -0.075603712  1.500355594 -0.549893365  0.700892211   \n",
        "12 -0.677673238       0.849772369   -0.18536165        -0.042533214   -0.086259256          -0.075603712  1.500355594 -0.549893365  0.847503786   \n",
        "13 -0.677673238       0.849772369   -0.18536165        -0.042533214   -0.086259256          -0.075603712  1.500355594 -0.549893365  0.753835280   \n",
        "14 -0.677673238       0.849772369   -0.18536165        -0.042533214   -0.086259256          -0.075603712  1.500355594 -0.549893365  0.476902306   \n",
        "15 -0.677673238       0.849772369   -0.18536165        -0.042533214   -0.086259256          -0.075603712  1.500355594 -0.549893365  0.383233800   \n",
        "16 -0.677673238       0.849772369   -0.18536165        -0.042533214   -0.086259256          -0.075603712  1.500355594 -0.549893365  0.456539587   \n",
        "17 -0.677673238       0.849772369   -0.18536165        -0.042533214   -0.086259256          -0.075603712  1.500355594 -0.549893365  0.537990462   \n",
        "18 -0.677673238       0.849772369   -0.18536165        -0.042533214   -0.086259256          -0.075603712  1.500355594 -0.549893365  0.647949143   \n",
        "19 -0.677673238       0.849772369   -0.18536165        -0.042533214   -0.086259256          -0.075603712  1.500355594 -0.549893365  0.749762736   \n",
        "20 -0.677673238       0.849772369   -0.18536165        -0.042533214   -0.086259256          -0.075603712  1.500355594 -0.549893365  0.745690193   \n",
        "21 -0.677673238       0.849772369   -0.18536165        -0.042533214   -0.086259256          -0.075603712  1.500355594 -0.549893365  0.570570812   \n",
        "22 -0.677673238       0.849772369   -0.18536165        -0.042533214   -0.086259256          -0.075603712  1.500355594 -0.549893365  0.362871081   \n",
        "23 -0.677673238       0.849772369   -0.18536165        -0.042533214   -0.086259256          -0.075603712  1.500355594 -0.549893365  0.428031781   \n",
        "24 -0.677673238       0.849772369   -0.18536165        -0.042533214   -0.086259256          -0.075603712  1.500355594 -0.549893365  1.417659910   \n",
        "25 -0.677673238       0.849772369   -0.18536165        -0.042533214   -0.086259256          -0.075603712  1.500355594 -0.549893365  1.246613073   \n",
        "26 -0.677673238       0.849772369   -0.18536165        -0.042533214   -0.086259256          -0.075603712  1.500355594 -0.549893365  1.116291673   \n",
        "27 -0.677673238       0.849772369   -0.18536165        -0.042533214   -0.086259256          -0.075603712  1.500355594 -0.549893365  1.063348604   \n",
        "28 -0.677673238       0.849772369   -0.18536165        -0.042533214   -0.086259256          -0.075603712  1.500355594 -0.549893365  0.994115361   \n",
        "29 -0.677673238       0.849772369   -0.18536165        -0.042533214   -0.086259256          -0.075603712  1.500355594 -0.549893365  0.880084136   \n",
        "30 -0.677673238       0.849772369   -0.18536165        -0.042533214   -0.086259256          -0.075603712  1.500355594 -0.549893365  0.757907824   \n",
        "31 -0.677673238       0.849772369   -0.18536165        -0.042533214   -0.086259256          -0.075603712  1.500355594 -0.549893365  0.831213611   \n",
        "32 -0.677673238       0.849772369   -0.18536165        -0.042533214   -0.086259256          -0.075603712  1.500355594 -0.549893365  1.006332992   \n",
        "33 -0.677673238       0.849772369   -0.18536165        -0.042533214   -0.086259256          -0.075603712  1.500355594 -0.549893365  1.157017110   \n",
        "34 -0.677673238       0.849772369   -0.18536165        -0.042533214   -0.086259256          -0.075603712  1.500355594 -0.549893365  1.307701229   \n",
        "35 -0.677673238       0.849772369   -0.18536165        -0.042533214   -0.086259256          -0.075603712  1.500355594 -0.549893365  1.429877541   \n",
        "36 -0.677673238       0.849772369   -0.18536165        -0.042533214   -0.086259256          -0.075603712  1.500355594 -0.549893365  1.596851834   \n",
        "37 -0.677673238       0.849772369   -0.18536165        -0.042533214   -0.086259256          -0.075603712  1.500355594 -0.549893365  1.694592884   \n",
        "38 -0.677673238       0.849772369   -0.18536165        -0.042533214   -0.086259256          -0.075603712  1.500355594 -0.549893365  0.985970273   \n",
        "39 -0.677673238       0.849772369   -0.18536165        -0.042533214   -0.086259256          -0.075603712  1.500355594 -0.549893365  1.124436760   \n",
        "40 -0.677673238       0.849772369   -0.18536165        -0.042533214   -0.086259256          -0.075603712  1.500355594 -0.549893365  1.120364217   \n",
        "41 -0.677673238       0.849772369   -0.18536165        -0.042533214   -0.086259256          -0.075603712  1.500355594 -0.549893365  1.694592884   \n",
        "42 -0.677673238       0.849772369   -0.18536165        -0.042533214   -0.086259256          -0.075603712  1.500355594 -0.549893365  1.694592884   \n",
        "43 -0.677673238       0.849772369   -0.18536165        -0.042533214   -0.086259256          -0.075603712  1.500355594 -0.549893365  1.694592884   \n",
        "44 -0.677673238       0.849772369   -0.18536165        -0.042533214   -0.086259256          -0.075603712  1.500355594 -0.549893365  1.645722359   \n",
        "45 -0.677673238       0.849772369   -0.18536165        -0.042533214   -0.086259256          -0.075603712  1.500355594 -0.549893365  1.507255872   \n",
        "46 -0.677673238       0.849772369   -0.18536165        -0.042533214   -0.086259256          -0.075603712  1.500355594 -0.549893365  1.360644297   \n",
        "47 -0.677673238       0.849772369   -0.18536165        -0.042533214   -0.086259256          -0.075603712  1.500355594 -0.549893365  1.218105266   \n",
        "48 -0.677673238       0.849772369   -0.18536165        -0.042533214   -0.086259256          -0.075603712  1.500355594 -0.549893365  1.218105266   \n",
        "49 -0.677673238       0.849772369   -0.18536165        -0.042533214   -0.086259256          -0.075603712  1.500355594 -0.549893365  1.385079560   \n",
        "50 -0.677673238       0.849772369   -0.18536165        -0.042533214   -0.086259256          -0.075603712  1.500355594 -0.549893365  1.576489116   \n",
        "\n",
        "    selfdamagecount  framerepeat  \n",
        "1      -0.630121051            1  \n",
        "2      -0.630121051           17  \n",
        "3      -0.630121051            7  \n",
        "4      -0.630121051            1  \n",
        "5      -0.630121051            1  \n",
        "6      -0.630121051            1  \n",
        "7      -0.630121051            1  \n",
        "8      -0.630121051            1  \n",
        "9      -0.630121051           19  \n",
        "10     -0.630121051           20  \n",
        "11     -0.630121051            1  \n",
        "12     -0.630121051            1  \n",
        "13     -0.630121051            1  \n",
        "14     -0.630121051            1  \n",
        "15     -0.630121051            2  \n",
        "16     -0.630121051            1  \n",
        "17     -0.630121051            1  \n",
        "18     -0.630121051            1  \n",
        "19     -0.630121051            1  \n",
        "20     -0.630121051            1  \n",
        "21     -0.630121051            1  \n",
        "22     -0.630121051            1  \n",
        "23     -0.630121051            1  \n",
        "24     -0.630121051            1  \n",
        "25     -0.630121051            1  \n",
        "26     -0.630121051            1  \n",
        "27     -0.630121051            1  \n",
        "28     -0.630121051            1  \n",
        "29     -0.630121051            1  \n",
        "30     -0.630121051            1  \n",
        "31     -0.630121051            1  \n",
        "32     -0.630121051            1  \n",
        "33     -0.630121051            1  \n",
        "34     -0.630121051            1  \n",
        "35     -0.630121051            1  \n",
        "36     -0.630121051            1  \n",
        "37     -0.630121051            1  \n",
        "38     -0.630121051            1  \n",
        "39     -0.630121051            1  \n",
        "40     -0.630121051            1  \n",
        "41     -0.630121051            1  \n",
        "42     -0.630121051            1  \n",
        "43     -0.630121051            1  \n",
        "44     -0.630121051            1  \n",
        "45     -0.630121051            1  \n",
        "46     -0.630121051            1  \n",
        "47     -0.630121051            1  \n",
        "48     -0.630121051            2  \n",
        "49     -0.630121051            1  \n",
        "50     -0.630121051            1  \n"
       ]
      }
     ],
     "prompt_number": 10
    },
    {
     "cell_type": "code",
     "collapsed": false,
     "input": [],
     "language": "python",
     "metadata": {},
     "outputs": []
    }
   ],
   "metadata": {}
  }
 ]
}