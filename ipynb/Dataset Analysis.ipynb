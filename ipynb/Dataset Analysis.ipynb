{
 "metadata": {
  "name": "Dataset Analysis"
 },
 "nbformat": 3,
 "nbformat_minor": 0,
 "worksheets": [
  {
   "cells": [
    {
     "cell_type": "markdown",
     "metadata": {},
     "source": [
      "Dataset Analysis for OACS\n",
      "=========================\n",
      "\n",
      "You can use this notebook to process, analyze and visualize your dataset in order to better understand the distribution of your data.\n",
      "\n",
      "This notebook provides a few generic code snippets to help you get started (loading the dataset and OACS structure).\n",
      "\n",
      "Note: Don't hesitate to _Kernel > Restart_ if you see weird stuff happening, because sometimes the kernel does weird things or keeps spitting out the same errors even after changing your code!"
     ]
    },
    {
     "cell_type": "markdown",
     "metadata": {},
     "source": [
      "Importing libraries for your computations\n",
      "-----------------------------------------\n",
      "Place here the libraries you will need for your computations, as well as the printing options you want."
     ]
    },
    {
     "cell_type": "code",
     "collapsed": false,
     "input": [
      "# Load necessary libraries for your computations\n",
      "import pandas as pd\n",
      "import numpy as np\n",
      "import matplotlib.pylab as plt\n",
      "import math\n",
      "\n",
      "# Setting a few printing options\n",
      "pd.set_option('display.max_colwidth', 200)\n",
      "pd.set_option('display.max_columns', 200)\n",
      "pd.set_option('display.max_rows',200)\n",
      "pd.set_option('display.precision',10)\n",
      "pd.set_option('expand_frame_repr', True)\n",
      "pd.set_option('line_width', 150)\n",
      "pd.set_option('display.notebook_repr_html', True)\n",
      "\n",
      "# A nice function to print 2 things side-by-side, by Wes McKinney\n",
      "def side_by_side(*objs, **kwds):\n",
      "    from pandas.core.common import adjoin\n",
      "    space = kwds.get('space', 4)\n",
      "    reprs = [repr(obj).split('\\n') for obj in objs]\n",
      "    print adjoin(space, *reprs)"
     ],
     "language": "python",
     "metadata": {},
     "outputs": [],
     "prompt_number": 1
    },
    {
     "cell_type": "markdown",
     "metadata": {},
     "source": [
      "Loading the OACS structure\n",
      "--------------------------\n",
      "The code below is the first initialization step necessary to load the program. Just execute it and go to the next steps.\n",
      "\n",
      "Note: you should reexecute this code everytime you change the sourcecode or the config file, but not when you just want to reload the data files (use instead \u00b4runner.inputparser.load()\u00b4 )."
     ]
    },
    {
     "cell_type": "code",
     "collapsed": false,
     "input": [
      "# Forcefully reload all the OACS modules\n",
      "%load_ext autoreload\n",
      "%autoreload 2\n",
      "import oacs.main\n",
      "reload(oacs.main)\n",
      "\n",
      "# Clean up a few stuff\n",
      "try:\n",
      "    del runner.vars\n",
      "    del runner\n",
      "except Exception, e:\n",
      "    pass\n",
      "\n",
      "# Load the base software\n",
      "runner = oacs.main.main(['--script']) # Note that here you can pass any commandline argument you want, or you can just set them in the configuration file since the application considers commandline arguments and config options exactly the same."
     ],
     "language": "python",
     "metadata": {},
     "outputs": [],
     "prompt_number": 2
    },
    {
     "cell_type": "markdown",
     "metadata": {},
     "source": [
      "Phase 1 - Learning the parameters\n",
      "-----------------------\n",
      "Execute the code below to learn the parameters, and to show the parameters you've just learned.\n",
      "\n",
      "Note: use the configuration file to specify the modules you want to use for learning."
     ]
    },
    {
     "cell_type": "code",
     "collapsed": false,
     "input": [
      "# Clean the previously learned parameters if any, else they will be reused and the result will be different\n",
      "del runner.vars\n",
      "runner.vars = dict()\n",
      "\n",
      "# Reload the configuration in case it was changed\n",
      "runner.config.reload()\n",
      "\n",
      "# Load the datafile and learn the parameters\n",
      "#%timeit runner.learn()\n",
      "runner.learn()\n",
      "# This will return \"True\" at the end if everything went alright."
     ],
     "language": "python",
     "metadata": {},
     "outputs": [
      {
       "output_type": "stream",
       "stream": "stdout",
       "text": [
        "Dropping empty feature(s) column(s): ['capturesacc', 'defendcountacc', 'assistcountacc', 'powerup_regeneration', 'powerup_flight', 'hasflag', 'holyshit', 'enemyhadflag']\n"
       ]
      },
      {
       "output_type": "pyout",
       "prompt_number": 3,
       "text": [
        "True"
       ]
      }
     ],
     "prompt_number": 3
    },
    {
     "cell_type": "markdown",
     "metadata": {},
     "source": [
      "After learning, you can use _runner.vars_ to print all the variables generated by the learning (and also the dataset, which is usually stored in X and Y):"
     ]
    },
    {
     "cell_type": "code",
     "collapsed": false,
     "input": [
      "# Print all the variables and learned parameters\n",
      "print(\"List of variables: %s\" % runner.vars.keys())\n",
      "runner.vars"
     ],
     "language": "python",
     "metadata": {},
     "outputs": [
      {
       "output_type": "stream",
       "stream": "stdout",
       "text": [
        "List of variables: ['Mu', 'Empty_features', 'Nonstd_Sigma2', 'Nonstd_Mu', 'Y', 'X', 'winsorize_extreme_high', 'winsorize_extreme_low', 'Sigma2']\n"
       ]
      },
      {
       "output_type": "pyout",
       "prompt_number": 4,
       "text": [
        "{'Empty_features': ['scoreacc',\n",
        "  'deathacc',\n",
        "  'capturesacc',\n",
        "  'impressivecountacc',\n",
        "  'defendcountacc',\n",
        "  'assistcountacc',\n",
        "  'fragsinarow',\n",
        "  'powerup_regeneration',\n",
        "  'powerup_flight',\n",
        "  'hasflag',\n",
        "  'holyshit',\n",
        "  'enemyhadflag'],\n",
        " 'Mu': reactiontime                   5.913803172e-13\n",
        "commandtime_reactiontime       3.445218962e-14\n",
        "angleinaframe                 -5.863056499e-15\n",
        "mouseeventtime_reactiontime    5.921580425e-13\n",
        "movementdirection              2.854469784e-13\n",
        "hitsacc                        5.605000211e-15\n",
        "excellentcountacc             -4.199392988e-15\n",
        "gauntletfragcountacc           6.803503413e-15\n",
        "selfdamageeventcountacc        2.170257934e-14\n",
        "ducked                        -1.139392669e-13\n",
        "midair                         4.186536110e-14\n",
        "weapon                         2.173130558e-14\n",
        "weaponstate                    9.954736631e-14\n",
        "weaponinstanthit               1.479050038e-14\n",
        "powerup_quad                   8.535262043e-14\n",
        "powerup_battlesuit            -6.743899588e-14\n",
        "powerup_haste                  1.241364178e-13\n",
        "powerup_invisibility          -4.808066109e-14\n",
        "rank                           1.654198786e-13\n",
        "armor                          1.287060707e-15\n",
        "speedratio                     1.716244798e-13\n",
        "selfdamagecount               -1.971925029e-14\n",
        "framerepeat                    2.749008616e+01\n",
        "dtype: float64,\n",
        " 'Nonstd_Mu': reactiontime                    229.618704781\n",
        "commandtime_reactiontime         57.235003179\n",
        "angleinaframe                     6.485912906\n",
        "mouseeventtime_reactiontime     218.819508565\n",
        "movementdirection                 1.687481997\n",
        "hitsacc                           0.013976896\n",
        "excellentcountacc                 0.000153801\n",
        "gauntletfragcountacc              0.000035940\n",
        "selfdamageeventcountacc           0.005690650\n",
        "ducked                            0.001506302\n",
        "midair                            0.163573815\n",
        "weapon                            4.178972977\n",
        "weaponstate                       0.917478440\n",
        "weaponinstanthit                  0.582441488\n",
        "powerup_quad                      0.033065176\n",
        "powerup_battlesuit                0.001797520\n",
        "powerup_haste                     0.007351810\n",
        "powerup_invisibility              0.005657353\n",
        "rank                           5031.568867858\n",
        "armor                           143.288138639\n",
        "speedratio                        0.895094321\n",
        "selfdamagecount                  15.476724465\n",
        "framerepeat                      27.490086155\n",
        "dtype: float64,\n",
        " 'Nonstd_Sigma2': reactiontime                    1905617.559275248\n",
        "commandtime_reactiontime          10049.779248251\n",
        "angleinaframe                      1206.770828083\n",
        "mouseeventtime_reactiontime      192699.360594762\n",
        "movementdirection                     6.413420420\n",
        "hitsacc                               0.013781550\n",
        "excellentcountacc                     0.000154835\n",
        "gauntletfragcountacc                  0.000035939\n",
        "selfdamageeventcountacc               0.005686810\n",
        "ducked                                0.001504034\n",
        "midair                                0.136817494\n",
        "weapon                                5.026480852\n",
        "weaponstate                           1.833421155\n",
        "weaponinstanthit                      0.243203530\n",
        "powerup_quad                          0.031971887\n",
        "powerup_battlesuit                    0.001794290\n",
        "powerup_haste                         0.007297765\n",
        "powerup_invisibility                  0.005625350\n",
        "rank                           57111024.267271161\n",
        "armor                             61886.723842218\n",
        "speedratio                            0.536304925\n",
        "selfdamagecount                     600.728787153\n",
        "framerepeat                       12098.619257866\n",
        "dtype: float64,\n",
        " 'Sigma2':                              reactiontime  commandtime_reactiontime  angleinaframe  mouseeventtime_reactiontime  movementdirection      hitsacc  \\\n",
        "reactiontime                  0.070118200               0.005354276    0.002657014                  0.062730375       -0.019396116 -0.009513038   \n",
        "commandtime_reactiontime      0.005354276               0.271351810   -0.025035907                  0.014922199       -0.009462602 -0.014234723   \n",
        "angleinaframe                 0.002657014              -0.025035907    1.765854689                 -0.004424172       -0.001081631 -0.017022416   \n",
        "mouseeventtime_reactiontime   0.062730375               0.014922199   -0.004424172                  0.339494028       -0.067719332 -0.025843067   \n",
        "movementdirection            -0.019396116              -0.009462602   -0.001081631                 -0.067719332        1.091561500  0.053401973   \n",
        "hitsacc                      -0.009513038              -0.014234723   -0.017022416                 -0.025843067        0.053401973  1.782267925   \n",
        "excellentcountacc            -0.000265115              -0.001532072   -0.000869399                 -0.002437618        0.006427310  0.184378933   \n",
        "gauntletfragcountacc         -0.000667468              -0.000865867    0.005825464                 -0.001713930        0.002083684  0.089744328   \n",
        "selfdamageeventcountacc       0.004456287              -0.005509340   -0.003802949                 -0.009302381        0.024617521  0.080513011   \n",
        "ducked                        0.000742026               0.000228701   -0.003438630                  0.002128094       -0.002950015  0.019007163   \n",
        "midair                       -0.009221235              -0.008642145    0.048877461                 -0.013422221        0.113768147 -0.033821458   \n",
        "weapon                       -0.019828957              -0.012076100   -0.002377714                 -0.073607427        0.081232532  0.011169046   \n",
        "weaponstate                  -0.011342584              -0.003459157   -0.039830419                 -0.023717257        0.155174658  0.320878754   \n",
        "weaponinstanthit             -0.002242319              -0.004229247    0.011763767                  0.016974215       -0.013345262  0.083279007   \n",
        "powerup_quad                 -0.006232731              -0.003058954    0.008550683                 -0.022482117        0.044241168 -0.004439691   \n",
        "powerup_battlesuit           -0.002150939              -0.001227283   -0.003037815                 -0.007407235        0.010876181  0.003706814   \n",
        "powerup_haste                -0.003116248              -0.000965974    0.007346448                 -0.011166642        0.015529526 -0.003287249   \n",
        "powerup_invisibility         -0.003123625              -0.001793044    0.006977950                 -0.009776930        0.022280815  0.005459137   \n",
        "rank                          0.006872439               0.005540073   -0.003632425                  0.019012907       -0.054327223 -0.009486818   \n",
        "armor                        -0.004372994              -0.002868060   -0.009178370                 -0.026079468        0.047565636 -0.005016401   \n",
        "speedratio                   -0.045067387              -0.022189243    0.029810454                 -0.140221695        0.165391226 -0.021295896   \n",
        "selfdamagecount               0.001190958               0.000416087   -0.020256049                 -0.012774648        0.054186805  0.013348170   \n",
        "framerepeat                   2.776884030               1.634746355   -4.072775886                  6.229481195       -2.828417219 -2.597128916   \n",
        "\n",
        "                             excellentcountacc  gauntletfragcountacc  selfdamageeventcountacc       ducked       midair       weapon  weaponstate  \\\n",
        "reactiontime                      -0.000265115          -0.000667468              0.004456287  0.000742026 -0.009221235 -0.019828957 -0.011342584   \n",
        "commandtime_reactiontime          -0.001532072          -0.000865867             -0.005509340  0.000228701 -0.008642145 -0.012076100 -0.003459157   \n",
        "angleinaframe                     -0.000869399           0.005825464             -0.003802949 -0.003438630  0.048877461 -0.002377714 -0.039830419   \n",
        "mouseeventtime_reactiontime       -0.002437618          -0.001713930             -0.009302381  0.002128094 -0.013422221 -0.073607427 -0.023717257   \n",
        "movementdirection                  0.006427310           0.002083684              0.024617521 -0.002950015  0.113768147  0.081232532  0.155174658   \n",
        "hitsacc                            0.184378933           0.089744328              0.080513011  0.019007163 -0.033821458  0.011169046  0.320878754   \n",
        "excellentcountacc                  1.793394794           0.037930611              0.018801045 -0.000771882 -0.001081876  0.009388549  0.032802112   \n",
        "gauntletfragcountacc               0.037930611           1.793487503             -0.001170375  0.011857255 -0.002854614 -0.016014199  0.016319381   \n",
        "selfdamageeventcountacc            0.018801045          -0.001170375              1.788997352  0.003066435 -0.010581163  0.003859449  0.093551576   \n",
        "ducked                            -0.000771882           0.011857255              0.003066435  0.814599319 -0.002697621 -0.010401704  0.014561044   \n",
        "midair                            -0.001081876          -0.002854614             -0.010581163 -0.002697621  1.201656637  0.015207338 -0.056149544   \n",
        "weapon                             0.009388549          -0.016014199              0.003859449 -0.010401704  0.015207338  0.908903625  0.047899694   \n",
        "weaponstate                        0.032802112           0.016319381              0.093551576  0.014561044 -0.056149544  0.047899694  1.020799123   \n",
        "weaponinstanthit                  -0.000737366          -0.013094794             -0.002080329 -0.003985845  0.008163902 -0.340316361 -0.036540176   \n",
        "powerup_quad                       0.021008938           0.008403128             -0.001649747 -0.003585550  0.022399272  0.022254070 -0.016106058   \n",
        "powerup_battlesuit                -0.001099409          -0.000533248              0.002487139 -0.001840833  0.008967104 -0.024862107  0.011082669   \n",
        "powerup_haste                     -0.000353510          -0.001036517             -0.000981102  0.003996904  0.005308899  0.046596632 -0.018344090   \n",
        "powerup_invisibility               0.001143785          -0.000923161             -0.005754227 -0.003112134  0.008131428  0.033329949 -0.011582230   \n",
        "rank                              -0.007654061          -0.002117153              0.000974675 -0.004443611 -0.027527300 -0.080552821 -0.032076325   \n",
        "armor                              0.004835956          -0.002137695             -0.004399668 -0.000970664  0.005313238  0.426327993  0.037714215   \n",
        "speedratio                        -0.000419906          -0.001319237              0.039961924 -0.026690624  0.542414085  0.064656717 -0.066401722   \n",
        "selfdamagecount                    0.002981589           0.001684910              0.045281273  0.009409807  0.009601601  0.106615289  0.101972947   \n",
        "framerepeat                       -0.269623423          -0.130775843             -1.646111764  0.198256544 -3.047465153 -3.522503575 -0.998377884   \n",
        "\n",
        "                             weaponinstanthit  powerup_quad  powerup_battlesuit  powerup_haste  powerup_invisibility         rank        armor  \\\n",
        "reactiontime                     -0.002242319  -0.006232731        -0.002150939   -0.003116248          -0.003123625  0.006872439 -0.004372994   \n",
        "commandtime_reactiontime         -0.004229247  -0.003058954        -0.001227283   -0.000965974          -0.001793044  0.005540073 -0.002868060   \n",
        "angleinaframe                     0.011763767   0.008550683        -0.003037815    0.007346448           0.006977950 -0.003632425 -0.009178370   \n",
        "mouseeventtime_reactiontime       0.016974215  -0.022482117        -0.007407235   -0.011166642          -0.009776930  0.019012907 -0.026079468   \n",
        "movementdirection                -0.013345262   0.044241168         0.010876181    0.015529526           0.022280815 -0.054327223  0.047565636   \n",
        "hitsacc                           0.083279007  -0.004439691         0.003706814   -0.003287249           0.005459137 -0.009486818 -0.005016401   \n",
        "excellentcountacc                -0.000737366   0.021008938        -0.001099409   -0.000353510           0.001143785 -0.007654061  0.004835956   \n",
        "gauntletfragcountacc             -0.013094794   0.008403128        -0.000533248   -0.001036517          -0.000923161 -0.002117153 -0.002137695   \n",
        "selfdamageeventcountacc          -0.002080329  -0.001649747         0.002487139   -0.000981102          -0.005754227  0.000974675 -0.004399668   \n",
        "ducked                           -0.003985845  -0.003585550        -0.001840833    0.003996904          -0.003112134 -0.004443611 -0.000970664   \n",
        "midair                            0.008163902   0.022399272         0.008967104    0.005308899           0.008131428 -0.027527300  0.005313238   \n",
        "weapon                           -0.340316361   0.022254070        -0.024862107    0.046596632           0.033329949 -0.080552821  0.426327993   \n",
        "weaponstate                      -0.036540176  -0.016106058         0.011082669   -0.018344090          -0.011582230 -0.032076325  0.037714215   \n",
        "weaponinstanthit                  0.977925713   0.026976258         0.004067020    0.016375785           0.010319082  0.031029260 -0.172311440   \n",
        "powerup_quad                      0.026976258   1.191967074         0.006240943    0.001323240           0.114471278 -0.040686148  0.055199083   \n",
        "powerup_battlesuit                0.004067020   0.006240943         1.302008712   -0.005543848          -0.004962953 -0.013594420 -0.022651834   \n",
        "powerup_haste                     0.016375785   0.001323240        -0.005543848    1.213894717          -0.009499800 -0.046803084  0.034667924   \n",
        "powerup_invisibility              0.010319082   0.114471278        -0.004962953   -0.009499800           1.246543976 -0.012793633  0.005688310   \n",
        "rank                              0.031029260  -0.040686148        -0.013594420   -0.046803084          -0.012793633  0.966321405 -0.080096481   \n",
        "armor                            -0.172311440   0.055199083        -0.022651834    0.034667924           0.005688310 -0.080096481  0.860638449   \n",
        "speedratio                        0.003928287   0.055582143         0.014652296    0.011320757           0.021598022 -0.047104287  0.047035112   \n",
        "selfdamagecount                  -0.081459094   0.026705855         0.000205775    0.003630933           0.004893476 -0.050375611  0.113698612   \n",
        "framerepeat                      -1.815014698  -1.010414978        -0.352943690   -0.509804140          -0.514146000  1.106392851 -0.360247312   \n",
        "\n",
        "                              speedratio  selfdamagecount    framerepeat  \n",
        "reactiontime                -0.045067387      0.001190958    2.776884030  \n",
        "commandtime_reactiontime    -0.022189243      0.000416087    1.634746355  \n",
        "angleinaframe                0.029810454     -0.020256049   -4.072775886  \n",
        "mouseeventtime_reactiontime -0.140221695     -0.012774648    6.229481195  \n",
        "movementdirection            0.165391226      0.054186805   -2.828417219  \n",
        "hitsacc                     -0.021295896      0.013348170   -2.597128916  \n",
        "excellentcountacc           -0.000419906      0.002981589   -0.269623423  \n",
        "gauntletfragcountacc        -0.001319237      0.001684910   -0.130775843  \n",
        "selfdamageeventcountacc      0.039961924      0.045281273   -1.646111764  \n",
        "ducked                      -0.026690624      0.009409807    0.198256544  \n",
        "midair                       0.542414085      0.009601601   -3.047465153  \n",
        "weapon                       0.064656717      0.106615289   -3.522503575  \n",
        "weaponstate                 -0.066401722      0.101972947   -0.998377884  \n",
        "weaponinstanthit             0.003928287     -0.081459094   -1.815014698  \n",
        "powerup_quad                 0.055582143      0.026705855   -1.010414978  \n",
        "powerup_battlesuit           0.014652296      0.000205775   -0.352943690  \n",
        "powerup_haste                0.011320757      0.003630933   -0.509804140  \n",
        "powerup_invisibility         0.021598022      0.004893476   -0.514146000  \n",
        "rank                        -0.047104287     -0.050375611    1.106392851  \n",
        "armor                        0.047035112      0.113698612   -0.360247312  \n",
        "speedratio                   0.922411781      0.011116468   -7.648076131  \n",
        "selfdamagecount              0.011116468      0.921181670    1.023181852  \n",
        "framerepeat                 -7.648076131      1.023181852  706.401617112  ,\n",
        " 'X': <class 'pandas.core.frame.DataFrame'>\n",
        "Int64Index: 1081941 entries, 0 to 1081940\n",
        "Data columns (total 23 columns):\n",
        "reactiontime                   1081941  non-null values\n",
        "commandtime_reactiontime       1081941  non-null values\n",
        "angleinaframe                  1081941  non-null values\n",
        "mouseeventtime_reactiontime    1081941  non-null values\n",
        "movementdirection              1081941  non-null values\n",
        "hitsacc                        1081941  non-null values\n",
        "excellentcountacc              1081941  non-null values\n",
        "gauntletfragcountacc           1081941  non-null values\n",
        "selfdamageeventcountacc        1081941  non-null values\n",
        "ducked                         1081941  non-null values\n",
        "midair                         1081941  non-null values\n",
        "weapon                         1081941  non-null values\n",
        "weaponstate                    1081941  non-null values\n",
        "weaponinstanthit               1081941  non-null values\n",
        "powerup_quad                   1081941  non-null values\n",
        "powerup_battlesuit             1081941  non-null values\n",
        "powerup_haste                  1081941  non-null values\n",
        "powerup_invisibility           1081941  non-null values\n",
        "rank                           1081941  non-null values\n",
        "armor                          1081941  non-null values\n",
        "speedratio                     1081941  non-null values\n",
        "selfdamagecount                1081941  non-null values\n",
        "framerepeat                    1081941  non-null values\n",
        "dtypes: float64(22), int64(1),\n",
        " 'Y': <class 'pandas.core.frame.DataFrame'>\n",
        "Int64Index: 1081941 entries, 0 to 1081940\n",
        "Data columns (total 1 columns):\n",
        "cheater    1081941  non-null values\n",
        "dtypes: int64(1),\n",
        " 'winsorize_extreme_high': reactiontime                     750.00000\n",
        "commandtime_reactiontime         104.00000\n",
        "angleinaframe                    349.00000\n",
        "mouseeventtime_reactiontime     1800.00000\n",
        "movementdirection                  7.00000\n",
        "scoreacc                           0.00000\n",
        "hitsacc                            1.00000\n",
        "deathacc                           0.00000\n",
        "capturesacc                        0.00000\n",
        "impressivecountacc                 0.00000\n",
        "excellentcountacc                  0.00000\n",
        "defendcountacc                     0.00000\n",
        "assistcountacc                     0.00000\n",
        "gauntletfragcountacc               0.00000\n",
        "fragsinarow                        0.00000\n",
        "selfdamageeventcountacc            1.00000\n",
        "ducked                             0.00000\n",
        "midair                             1.00000\n",
        "weapon                             8.00000\n",
        "weaponstate                        3.00000\n",
        "weaponinstanthit                   1.00000\n",
        "powerup_quad                       1.00000\n",
        "powerup_battlesuit                 0.00000\n",
        "powerup_haste                      0.00000\n",
        "powerup_invisibility               0.00000\n",
        "powerup_regeneration               0.00000\n",
        "powerup_flight                     0.00000\n",
        "hasflag                            0.00000\n",
        "holyshit                           0.00000\n",
        "rank                           16387.00000\n",
        "enemyhadflag                       0.00000\n",
        "armor                            510.00000\n",
        "speedratio                         3.16875\n",
        "selfdamagecount                  100.00000\n",
        "framerepeat                       15.00000\n",
        "dtype: float64,\n",
        " 'winsorize_extreme_low': reactiontime                   40\n",
        "commandtime_reactiontime        0\n",
        "angleinaframe                   0\n",
        "mouseeventtime_reactiontime    40\n",
        "movementdirection               0\n",
        "scoreacc                        0\n",
        "hitsacc                         0\n",
        "deathacc                        0\n",
        "capturesacc                     0\n",
        "impressivecountacc              0\n",
        "excellentcountacc               0\n",
        "defendcountacc                  0\n",
        "assistcountacc                  0\n",
        "gauntletfragcountacc            0\n",
        "fragsinarow                     0\n",
        "selfdamageeventcountacc         0\n",
        "ducked                          0\n",
        "midair                          0\n",
        "weapon                          1\n",
        "weaponstate                     0\n",
        "weaponinstanthit                0\n",
        "powerup_quad                    0\n",
        "powerup_battlesuit              0\n",
        "powerup_haste                   0\n",
        "powerup_invisibility            0\n",
        "powerup_regeneration            0\n",
        "powerup_flight                  0\n",
        "hasflag                         0\n",
        "holyshit                        0\n",
        "rank                            0\n",
        "enemyhadflag                    0\n",
        "armor                           6\n",
        "speedratio                      0\n",
        "selfdamagecount                 0\n",
        "framerepeat                     1\n",
        "dtype: float64}"
       ]
      }
     ],
     "prompt_number": 4
    },
    {
     "cell_type": "markdown",
     "metadata": {},
     "source": [
      "Use the code below to benchmark the time spent for learning (you can then compare different algorithms):"
     ]
    },
    {
     "cell_type": "code",
     "collapsed": false,
     "input": [
      "from oacs.lib.debug.debug import *\n",
      "\n",
      "@showprofile\n",
      "@profileit\n",
      "def test():\n",
      "    runner.learn()\n",
      "test()"
     ],
     "language": "python",
     "metadata": {},
     "outputs": []
    },
    {
     "cell_type": "markdown",
     "metadata": {},
     "source": [
      "Phase 2 - Detection loop\n",
      "-------------------\n",
      "After learning the parameters (using the code snippets above), you can then run the main program and detect cheaters by running the code below.\n",
      "\n",
      "Note: once launched, the following snippet will run indefinitely, but you can stop it at anytime by pressing the STOP button of IPython Notebook, or in the menu Kernel > Interrupt."
     ]
    },
    {
     "cell_type": "code",
     "collapsed": false,
     "input": [
      "# Load the runner only\n",
      "from oacs.run import Runner\n",
      "reload(oacs.run)\n",
      "\n",
      "# Load the previously learnt parameters\n",
      "Runner.load_vars(runner.config.config['parametersfile'])\n",
      "\n",
      "# Launch the detection loop!\n",
      "runner.run()"
     ],
     "language": "python",
     "metadata": {},
     "outputs": [
      {
       "output_type": "stream",
       "stream": "stdout",
       "text": [
        "0.31969087417\n",
        "Cheater detected!\n",
        "0.0202496130744"
       ]
      },
      {
       "output_type": "stream",
       "stream": "stdout",
       "text": [
        "\n",
        "Cheater detected!\n",
        "0.214610275058"
       ]
      },
      {
       "output_type": "stream",
       "stream": "stdout",
       "text": [
        "\n",
        "Cheater detected!\n",
        "0.945093864832"
       ]
      },
      {
       "output_type": "stream",
       "stream": "stdout",
       "text": [
        "\n"
       ]
      },
      {
       "output_type": "pyout",
       "prompt_number": 7,
       "text": [
        "0"
       ]
      }
     ],
     "prompt_number": 7
    },
    {
     "cell_type": "markdown",
     "metadata": {},
     "source": [
      "Other useful codes snippets\n",
      "---------------------------"
     ]
    },
    {
     "cell_type": "code",
     "collapsed": false,
     "input": [
      "# Load only the input data set (X and Y)\n",
      "runner.generic_call(runner.inputparser, 'load')"
     ],
     "language": "python",
     "metadata": {},
     "outputs": [],
     "prompt_number": 3
    },
    {
     "cell_type": "code",
     "collapsed": false,
     "input": [
      "# Apply only preoptimization on the dataset\n",
      "runner.generic_call(runner.preoptimization, 'optimize')"
     ],
     "language": "python",
     "metadata": {},
     "outputs": [
      {
       "output_type": "stream",
       "stream": "stdout",
       "text": [
        "Dropping empty feature(s) column(s): Index([capturesacc, defendcountacc, assistcountacc, powerup_regeneration, powerup_flight, hasflag, holyshit, enemyhadflag], dtype=object)\n"
       ]
      }
     ],
     "prompt_number": 4
    },
    {
     "cell_type": "code",
     "collapsed": false,
     "input": [
      "# Load previously learned parameters\n",
      "# Note: you should do this only after loading and preoptimizing the dataset\n",
      "# (else the loaded parameters will be used and you may end up with something really messed up!)\n",
      "runner.updatevars(runner.load_vars(runner.config.config.get('parametersfile')))"
     ],
     "language": "python",
     "metadata": {},
     "outputs": [],
     "prompt_number": 32
    },
    {
     "cell_type": "markdown",
     "metadata": {},
     "source": [
      "Enter below your own data analysis code\n",
      "--------------\n",
      "You can enter below your own code to analyse the data set and any other data/variable generated by OACS (you should access _runner.vars_)."
     ]
    },
    {
     "cell_type": "code",
     "collapsed": false,
     "input": [
      "# Predict with a sample example\n",
      "%timeit runner.classifier.predict(x=X.irow(1), **runner.vars)\n",
      "Pred = runner.classifier.predict(x=X.irow(1), **runner.vars)\n",
      "print(Pred)"
     ],
     "language": "python",
     "metadata": {},
     "outputs": []
    },
    {
     "cell_type": "code",
     "collapsed": false,
     "input": [
      "runner.updatevars(runner.inputparser.load())\n",
      "X = runner.vars['X']\n",
      "Y = runner.vars['Y']\n",
      "X"
     ],
     "language": "python",
     "metadata": {},
     "outputs": []
    },
    {
     "cell_type": "code",
     "collapsed": false,
     "input": [
      "for var in runner.inputparser.read():\n",
      "    print(var['X'])"
     ],
     "language": "python",
     "metadata": {},
     "outputs": []
    },
    {
     "cell_type": "code",
     "collapsed": false,
     "input": [
      "types = pd.read_csv(runner.config.config['typesfile'], index_col=None, header=0)\n",
      "types = types.ix[0, :]\n"
     ],
     "language": "python",
     "metadata": {},
     "outputs": []
    },
    {
     "cell_type": "markdown",
     "metadata": {},
     "source": [
      "Time testing\n",
      "------------"
     ]
    },
    {
     "cell_type": "code",
     "collapsed": false,
     "input": [
      "%timeit runner.classifier.mean(X)\n",
      "%timeit runner.classifier.mean_alt(X)"
     ],
     "language": "python",
     "metadata": {},
     "outputs": []
    },
    {
     "cell_type": "code",
     "collapsed": false,
     "input": [
      "%timeit runner.classifier.mean(X)\n",
      "%timeit runner.classifier.sigma2(X, mu)\n",
      "%timeit runner.classifier.sigma2_alt(X, mu)"
     ],
     "language": "python",
     "metadata": {},
     "outputs": []
    },
    {
     "cell_type": "markdown",
     "metadata": {},
     "source": [
      "Other tests\n",
      "-----------"
     ]
    },
    {
     "cell_type": "code",
     "collapsed": false,
     "input": [
      "gen = runner.inputparser.read(skip_to_end=True)\n",
      "for dictofvars in gen:\n",
      "    print(dictofvars)"
     ],
     "language": "python",
     "metadata": {},
     "outputs": [],
     "prompt_number": 7
    },
    {
     "cell_type": "code",
     "collapsed": false,
     "input": [
      "for item, value in runner.postaction.iteritems():\n",
      "    print(item)"
     ],
     "language": "python",
     "metadata": {},
     "outputs": [
      {
       "output_type": "stream",
       "stream": "stdout",
       "text": [
        "runcommand\n",
        "simpleprint\n",
        "detectionlog\n",
        "playerstable\n"
       ]
      }
     ],
     "prompt_number": 8
    },
    {
     "cell_type": "code",
     "collapsed": false,
     "input": [
      "runner.postaction"
     ],
     "language": "python",
     "metadata": {},
     "outputs": [
      {
       "output_type": "pyout",
       "prompt_number": 9,
       "text": [
        "{u'detectionlog': <oacs.postaction.detectionlog.DetectionLog at 0x83e0470>,\n",
        " u'playerstable': <oacs.postaction.playerstable.PlayersTable at 0x83e0208>,\n",
        " u'runcommand': <oacs.postaction.runcommand.RunCommand at 0x83e04a8>,\n",
        " u'simpleprint': <oacs.postaction.simpleprint.SimplePrint at 0x83e0278>}"
       ]
      }
     ],
     "prompt_number": 9
    },
    {
     "cell_type": "markdown",
     "metadata": {},
     "source": [
      "-----------------------"
     ]
    },
    {
     "cell_type": "code",
     "collapsed": false,
     "input": [
      "# Printing angle in a frame in function of the reaction time and with the size proportional to the number of framerepeat)\n",
      "import random\n",
      "X = runner.vars['X']\n",
      "Y = runner.vars['Y']\n",
      "Ytn = Y[Y==0].dropna()\n",
      "rows_n = random.sample(Ytn.index, 10000)\n",
      "plt.scatter(X.ix[rows_n,'reactiontime'], X.ix[rows_n,'angleinaframe'], s=X.ix[rows_n,'framerepeat'])\n",
      "plt.show()"
     ],
     "language": "python",
     "metadata": {},
     "outputs": [
      {
       "output_type": "display_data",
       "png": "[encoded data removed]"
      }
     ],
     "prompt_number": 12
    },
    {
     "cell_type": "markdown",
     "metadata": {},
     "source": [
      "------------------------------------\n",
      "CANS clusters printing\n",
      "------------\n",
      "Learn CANS parameters first, and then execute the code below to print the list of found clusters."
     ]
    },
    {
     "cell_type": "code",
     "collapsed": false,
     "input": [
      "if 'Clusters' in runner.vars:\n",
      "    clusters = runner.vars['Clusters']\n",
      "runner.classifier.printclusters(clusters)"
     ],
     "language": "python",
     "metadata": {},
     "outputs": [
      {
       "output_type": "stream",
       "stream": "stdout",
       "text": [
        "Tableau 1\n",
        "     lastmouseeventtime\n",
        "     lastcommandtime\n",
        "     midair\n",
        "     movementdirection\n",
        "\n",
        "Tableau 2\n",
        "     ducked\n",
        "     reactiontime\n",
        "     selfdamagecount\n",
        "     powerup_quad\n",
        "\n",
        "Tableau 3\n",
        "     speedratio\n",
        "     commandtime_reactiontime\n",
        "     weaponstate\n",
        "     angleinaframe\n",
        "\n",
        "Tableau 4\n",
        "     mouseeventtime_reactiontime\n",
        "\n",
        "Tableau 5\n",
        "     scoreacc\n",
        "\n",
        "Tableau 6\n",
        "     hitsacc\n",
        "\n",
        "Tableau 7\n",
        "     deathacc\n",
        "\n",
        "Tableau 8\n",
        "     capturesacc\n",
        "\n",
        "Tableau 9\n",
        "     impressivecountacc\n",
        "\n",
        "Tableau 10\n",
        "     excellentcountacc\n",
        "\n",
        "Tableau 11\n",
        "     defendcountacc\n",
        "\n",
        "Tableau 12\n",
        "     assistcountacc\n",
        "\n",
        "Tableau 13\n",
        "     gauntletfragcountacc\n",
        "\n",
        "Tableau 14\n",
        "     fragsinarow\n",
        "\n",
        "Tableau 15\n",
        "     selfdamageeventcountacc\n",
        "\n",
        "Tableau 16\n",
        "     weapon\n",
        "\n",
        "Tableau 17\n",
        "     weaponinstanthit\n",
        "\n",
        "Tableau 18\n",
        "     powerup_battlesuit\n",
        "\n",
        "Tableau 19\n",
        "     powerup_haste\n",
        "\n",
        "Tableau 20\n",
        "     powerup_invisibility\n",
        "\n",
        "Tableau 21\n",
        "     powerup_regeneration\n",
        "\n",
        "Tableau 22\n",
        "     powerup_flight\n",
        "\n",
        "Tableau 23\n",
        "     hasflag\n",
        "\n",
        "Tableau 24\n",
        "     holyshit\n",
        "\n",
        "Tableau 25\n",
        "     rank\n",
        "\n",
        "Tableau 26\n",
        "     enemyhadflag\n",
        "\n",
        "Tableau 27\n",
        "     armor\n",
        "\n"
       ]
      }
     ],
     "prompt_number": 5
    },
    {
     "cell_type": "markdown",
     "metadata": {},
     "source": [
      "Principal Component Analysis (PCA) Dimensionality Reduction\n",
      "-----------------------------------------------------------\n",
      "The following code will perform a PCA dimensionality reduction in 2D so that you can get an idea on how your data distribution is."
     ]
    },
    {
     "cell_type": "code",
     "collapsed": false,
     "input": [
      "K = 2\n",
      "Sigma2 = runner.vars['Sigma2']\n",
      "U, S, V = linalg.svd(Sigma2)\n",
      "V = V.T\n",
      "X = runner.vars['X']\n",
      "#U = pd.DataFrame(U, columns=X.columns, index=X.columns)\n",
      "Z = pd.DataFrame(np.dot(X, U[:, 0:K]))\n",
      "#plt.scatter(Z.ix[:,0], Z.ix[:,1])#, s=X.framerepeat)\n",
      "print(Z)"
     ],
     "language": "python",
     "metadata": {},
     "outputs": [
      {
       "output_type": "stream",
       "stream": "stdout",
       "text": [
        "<class 'pandas.core.frame.DataFrame'>\n",
        "Int64Index: 1081941 entries, 0 to 1081940\n",
        "Data columns (total 2 columns):\n",
        "0    1081941  non-null values\n",
        "1    1081941  non-null values\n",
        "dtypes: float64(2)\n"
       ]
      }
     ],
     "prompt_number": 4
    },
    {
     "cell_type": "code",
     "collapsed": false,
     "input": [
      "import random\n",
      "\n",
      "# Find indices\n",
      "# Honest players indices\n",
      "Y = runner.vars['Y']\n",
      "Ytn = Y[Y==0].dropna()\n",
      "rows_n = random.sample(Ytn.index, 100000)\n",
      "# Cheater indices\n",
      "Ytc = Y[Y!=0].dropna() # General cheaters label indices, usually it will be a lot smaller than the full Y so that it's better to do a first filter containing exclusively all the cheaters labels and none of the normal examples\n",
      "Ytc1 = Ytc[Ytc==1].dropna() # Cheat type 1\n",
      "rows_c1 = Ytc1.index\n",
      "#rows_c1 = random.sample(Ytc1.index, 10000)\n",
      "Ytc2 = Ytc[Ytc==2].dropna() # Cheat type 2\n",
      "rows_c2 = Ytc2.index\n",
      "#rows_c2 = random.sample(Ytc2.index, 10000)\n",
      "Ytc3 = Ytc[Ytc==3].dropna() # Cheat type 3\n",
      "rows_c3 = Ytc3.index\n",
      "#rows_c3 = random.sample(Ytc3.index, 10000)\n",
      "Ytc4 = Ytc[Ytc==4].dropna() # Cheat type 4\n",
      "rows_c4 = Ytc4.index\n",
      "#rows_c4 = random.sample(Ytc4.index, 10000)\n",
      "Ytc5 = Ytc[Ytc==5].dropna() # Cheat type 5\n",
      "rows_c5 = Ytc5.index\n",
      "#rows_c5 = random.sample(Ytc5.index, 10000)\n",
      "Ytc10 = Ytc[Ytc==10].dropna() # Cheat type 10\n",
      "rows_c10 = Ytc10.index\n",
      "#rows_c10 = random.sample(Ytc10.index, 10000)"
     ],
     "language": "python",
     "metadata": {},
     "outputs": [],
     "prompt_number": 5
    },
    {
     "cell_type": "code",
     "collapsed": false,
     "input": [
      "# Plot the data\n",
      "# Note: to get nice plots, use in THIS ORDER: \"preoptimization\": [\"FillNaN\", \"WeightedFeaturesNormalization\", \"Winsorize\", \"DropEmptyFeatures\"]\n",
      "#X = runner.vars['X']\n",
      "plt.scatter(Z.ix[rows_n,0], Z.ix[rows_n,1])#, s=X.framerepeat))\n",
      "plt.show()\n",
      "plt.hist(Z.ix[rows_n,0], bins=1000, normed=True)\n",
      "plt.show()\n",
      "plt.hist(Z.ix[rows_n,1], bins=1000, normed=True)\n",
      "plt.show()"
     ],
     "language": "python",
     "metadata": {},
     "outputs": [
      {
       "output_type": "display_data",
       "png": "[encoded data removed]"
      },
      {
       "output_type": "display_data",
       "png": "[encoded data removed]"
      },
      {
       "output_type": "display_data",
       "png": "[encoded data removed]"
      }
     ],
     "prompt_number": 6
    },
    {
     "cell_type": "code",
     "collapsed": false,
     "input": [
      "# Showing normal vs cheaters plot\n",
      "# Note: we print in reverse order so that each type gets overlayed by more important types\n",
      "plt.scatter(Z.ix[rows_n,0], Z.ix[rows_n,1], c='b', label='Honest')#, s=X.framerepeat))\n",
      "plt.scatter(Z.ix[rows_c1,0], Z.ix[rows_c1,1], c=[1, 0, 0], label='Cheater type 1')\n",
      "plt.scatter(Z.ix[rows_c2,0], Z.ix[rows_c2,1], c=[0.8, 0.2, 0.2], label='Cheater type 2')\n",
      "plt.scatter(Z.ix[rows_c3,0], Z.ix[rows_c3,1], c=[0.6, 0.4, 0.4], label='Cheater type 3')\n",
      "plt.scatter(Z.ix[rows_c4,0], Z.ix[rows_c4,1], c=[0.4, 1, 1], label='Cheater type 4')\n",
      "plt.scatter(Z.ix[rows_c5,0], Z.ix[rows_c5,1], c=[0.4, 1, 0.6], label='Cheater type 5')\n",
      "plt.scatter(Z.ix[rows_c10,0], Z.ix[rows_c10,1], c='grey', label='Cheater type 10')\n",
      "plt.legend(loc='upper left')\n",
      "plt.show()"
     ],
     "language": "python",
     "metadata": {},
     "outputs": [
      {
       "output_type": "display_data",
       "png": "[encoded data removed]"
      }
     ],
     "prompt_number": 11
    },
    {
     "cell_type": "code",
     "collapsed": false,
     "input": [
      "plt.scatter(Z.ix[rows_c1,0], Z.ix[rows_c1,1], c='r')\n",
      "plt.show()\n",
      "plt.hist(Z.ix[rows_c1,1], bins=1000, normed=True)\n",
      "plt.show()\n",
      "plt.hist(Z.ix[rows_c2,1], bins=1000, normed=True)\n",
      "plt.show()\n",
      "plt.hist(Z.ix[rows_c3,1], bins=1000, normed=True)\n",
      "plt.show()\n",
      "plt.hist(Z.ix[rows_c4,1], bins=1000, normed=True)\n",
      "plt.show()\n",
      "plt.hist(Z.ix[rows_c5,1], bins=1000, normed=True)\n",
      "plt.show()\n",
      "plt.hist(Z.ix[rows_c10,1], bins=1000, normed=True)\n",
      "plt.show()"
     ],
     "language": "python",
     "metadata": {},
     "outputs": [
      {
       "output_type": "display_data",
       "png": "[encoded data removed]"
      },
      {
       "output_type": "display_data",
       "png": "[encoded data removed]"
      },
      {
       "output_type": "display_data",
       "png": "[encoded data removed]"
      },
      {
       "output_type": "display_data",
       "png": "[encoded data removed]"
      },
      {
       "output_type": "display_data",
       "png": "[encoded data removed]"
      },
      {
       "output_type": "display_data",
       "png": "[encoded data removed]"
      },
      {
       "output_type": "display_data",
       "png": "[encoded data removed]"
      }
     ],
     "prompt_number": 9
    },
    {
     "cell_type": "markdown",
     "metadata": {},
     "source": [
      "Only preoptimization\n",
      "--------------------"
     ]
    },
    {
     "cell_type": "code",
     "collapsed": false,
     "input": [
      "runner.config.reload()\n",
      "dictest = runner.generic_call(runner.inputparser, 'load', {'file':['types-test.txt', 'data-test.txt']}, return_vars=True)\n",
      "dictest = runner.generic_call(runner.preoptimization, 'optimize', dictest, return_vars=True)\n",
      "runner.updatevars(runner.load_vars(runner.config.config.get('parametersfile')))\n",
      "#print(dictest)\n",
      "Xtest = dictest['X']\n",
      "Ytest = dictest['Y']\n",
      "del dictest"
     ],
     "language": "python",
     "metadata": {},
     "outputs": [
      {
       "output_type": "stream",
       "stream": "stdout",
       "text": [
        "Dropping empty feature(s) column(s): ['scoreacc', 'deathacc', 'capturesacc', 'impressivecountacc', 'defendcountacc', 'assistcountacc', 'fragsinarow', 'powerup_regeneration', 'powerup_flight', 'hasflag', 'holyshit', 'enemyhadflag']\n"
       ]
      }
     ],
     "prompt_number": 27
    },
    {
     "cell_type": "code",
     "collapsed": false,
     "input": [
      "print(Xtest)\n",
      "print(Xtest.head())"
     ],
     "language": "python",
     "metadata": {},
     "outputs": [
      {
       "output_type": "stream",
       "stream": "stdout",
       "text": [
        "<class 'pandas.core.frame.DataFrame'>\n",
        "Int64Index: 32001 entries, 0 to 32000\n",
        "Data columns (total 23 columns):\n",
        "reactiontime                   32001  non-null values\n",
        "commandtime_reactiontime       32001  non-null values\n",
        "angleinaframe                  32001  non-null values\n",
        "mouseeventtime_reactiontime    32001  non-null values\n",
        "movementdirection              32001  non-null values\n",
        "hitsacc                        32001  non-null values\n",
        "excellentcountacc              32001  non-null values\n",
        "gauntletfragcountacc           32001  non-null values\n",
        "selfdamageeventcountacc        32001  non-null values\n",
        "ducked                         32001  non-null values\n",
        "midair                         32001  non-null values\n",
        "weapon                         32001  non-null values\n",
        "weaponstate                    32001  non-null values\n",
        "weaponinstanthit               32001  non-null values\n",
        "powerup_quad                   32001  non-null values\n",
        "powerup_battlesuit             32001  non-null values\n",
        "powerup_haste                  32001  non-null values\n",
        "powerup_invisibility           32001  non-null values\n",
        "rank                           32001  non-null values\n",
        "armor                          32001  non-null values\n",
        "speedratio                     32001  non-null values\n",
        "selfdamagecount                32001  non-null values\n",
        "framerepeat                    32001  non-null values\n",
        "dtypes: float64(22), int64(1)\n",
        "   reactiontime  commandtime_reactiontime  angleinaframe  mouseeventtime_reactiontime  movementdirection      hitsacc  excellentcountacc  \\\n",
        "0  -0.137360955              -0.161947451   -0.186706188                 -0.407356603       -0.666337558 -0.119058856       -0.012360209   \n",
        "1   0.500116454              -0.161947451   -0.186706188                 -0.407356603       -0.666337558 -0.119058856       -0.012360209   \n",
        "2   0.558068946              -0.191873060   -0.186706188                 -0.407356603       -0.666337558 -0.119058856       -0.012360209   \n",
        "3   0.558068946              -0.161947451   -0.186706188                 -0.407356603       -0.666337558 -0.119058856       -0.012360209   \n",
        "4   0.529092700              -0.191873060   -0.186706188                 -0.407356603       -0.666337558 -0.119058856       -0.012360209   \n",
        "\n",
        "   gauntletfragcountacc  selfdamageeventcountacc       ducked      midair       weapon  weaponstate  weaponinstanthit  powerup_quad  \\\n",
        "0           -0.00599509             -0.075461862 -0.038840359 -0.44222467 -0.971896075 -0.677586506       0.846705546  -0.184921201   \n",
        "1           -0.00599509             -0.075461862 -0.038840359 -0.44222467 -0.971896075 -0.677586506       0.846705546  -0.184921201   \n",
        "2           -0.00599509             -0.075461862 -0.038840359 -0.44222467 -0.971896075 -0.677586506       0.846705546  -0.184921201   \n",
        "3           -0.00599509             -0.075461862 -0.038840359 -0.44222467 -0.971896075 -0.677586506       0.846705546  -0.184921201   \n",
        "4           -0.00599509             -0.075461862 -0.038840359 -0.44222467 -0.971896075 -0.677586506       0.846705546  -0.184921201   \n",
        "\n",
        "   powerup_battlesuit  powerup_haste  powerup_invisibility         rank        armor   speedratio  selfdamagecount  framerepeat  \n",
        "0        -0.042435318   -0.086059606          -0.075429023 -0.665402499 -0.551866803 -1.222258058     -0.631451252           23  \n",
        "1        -0.042435318   -0.086059606          -0.075429023 -0.665402499 -0.551866803 -1.222258058     -0.631451252           25  \n",
        "2        -0.042435318   -0.086059606          -0.075429023 -0.665402499 -0.551866803 -1.222258058     -0.631451252           25  \n",
        "3        -0.042435318   -0.086059606          -0.075429023 -0.665402499 -0.551866803 -1.222258058     -0.631451252           24  \n",
        "4        -0.042435318   -0.086059606          -0.075429023 -0.665534824 -0.551866803 -1.222258058     -0.631451252            1  "
       ]
      },
      {
       "output_type": "stream",
       "stream": "stdout",
       "text": [
        "\n"
       ]
      }
     ],
     "prompt_number": 28
    },
    {
     "cell_type": "code",
     "collapsed": false,
     "input": [
      "X = runner.vars['X']\n",
      "Mu = runner.vars['Mu']\n",
      "Sigma2 = runner.vars['Sigma2']\n",
      "Prediction = runner.classifier.predict(X=Xtest.iloc[1000], Mu=Mu, Sigma2=Sigma2)\n",
      "Threshold = 0.1\n",
      "runner.decider.decide(Prediction = Prediction, Threshold=Threshold)\n",
      "print(Prediction)"
     ],
     "language": "python",
     "metadata": {},
     "outputs": [
      {
       "output_type": "stream",
       "stream": "stdout",
       "text": [
        "{'Prediction': 1.2925441341270087e-12}\n"
       ]
      }
     ],
     "prompt_number": 33
    },
    {
     "cell_type": "code",
     "collapsed": false,
     "input": [
      "# Check that the weighted mean is 0\n",
      "X = runner.vars['X']\n",
      "Y = runner.vars['Y']\n",
      "from oacs.classifier.univariategaussian import UnivariateGaussian\n",
      "UnivariateGaussian.mean(X=X.iloc[Y[Y==0].dropna().index])"
     ],
     "language": "python",
     "metadata": {},
     "outputs": [
      {
       "output_type": "pyout",
       "prompt_number": 25,
       "text": [
        "reactiontime                   5.913803172e-13\n",
        "commandtime_reactiontime       3.445218962e-14\n",
        "angleinaframe                 -5.863056499e-15\n",
        "mouseeventtime_reactiontime    5.921580425e-13\n",
        "movementdirection              2.854469784e-13\n",
        "hitsacc                        5.605000211e-15\n",
        "excellentcountacc             -4.199392988e-15\n",
        "gauntletfragcountacc           6.803503413e-15\n",
        "selfdamageeventcountacc        2.170257934e-14\n",
        "ducked                        -1.139392669e-13\n",
        "midair                         4.186536110e-14\n",
        "weapon                         2.173130558e-14\n",
        "weaponstate                    9.954736631e-14\n",
        "weaponinstanthit               1.479050038e-14\n",
        "powerup_quad                   8.535262043e-14\n",
        "powerup_battlesuit            -6.743899588e-14\n",
        "powerup_haste                  1.241364178e-13\n",
        "powerup_invisibility          -4.808066109e-14\n",
        "rank                           1.654198786e-13\n",
        "armor                          1.287060707e-15\n",
        "speedratio                     1.716244798e-13\n",
        "selfdamagecount               -1.971925029e-14\n",
        "framerepeat                    2.749008616e+01\n",
        "dtype: float64"
       ]
      }
     ],
     "prompt_number": 25
    },
    {
     "cell_type": "code",
     "collapsed": false,
     "input": [
      "# Check that all features are meaningful\n",
      "X = runner.vars['X']\n",
      "a = np.ma.average(X.dropna(), axis=0, weights=X.dropna()['framerepeat'])\n",
      "print(a)\n",
      "print(pd.Series(a, index=list(X.keys())))"
     ],
     "language": "python",
     "metadata": {},
     "outputs": [
      {
       "output_type": "stream",
       "stream": "stdout",
       "text": [
        "[0.005449482378369796 -0.0038011625714876127 0.0011711968257755979\n",
        " -0.00284546145934687 0.0053973459668148465 0.003766447070029796\n",
        " 0.006492612809867146 -0.0001339325183654401 -0.0004867370599251505\n",
        " -0.0008677078776679522 0.0010335914441144942 0.00992563743164863\n",
        " 0.0038977314274238404 0.012135531541160044 -0.00413120755361715\n",
        " -0.0009480205862569422 -0.0019226032046129988 -0.0016851120774098143\n",
        " -0.0129804031819284 0.014636671739411099 0.005523907697027045\n",
        " 0.012233208159221666 27.882569294667558]\n",
        "reactiontime                    0.005449482\n",
        "commandtime_reactiontime       -0.003801163\n",
        "angleinaframe                   0.001171197\n",
        "mouseeventtime_reactiontime    -0.002845461\n",
        "movementdirection               0.005397346\n",
        "hitsacc                         0.003766447\n",
        "excellentcountacc               0.006492613\n",
        "gauntletfragcountacc           -0.000133933\n",
        "selfdamageeventcountacc        -0.000486737\n",
        "ducked                         -0.000867708\n",
        "midair                          0.001033591\n",
        "weapon                          0.009925637\n",
        "weaponstate                     0.003897731\n",
        "weaponinstanthit                0.012135532\n",
        "powerup_quad                   -0.004131208\n",
        "powerup_battlesuit             -0.000948021\n",
        "powerup_haste                  -0.001922603\n",
        "powerup_invisibility           -0.001685112\n",
        "rank                           -0.012980403\n",
        "armor                           0.014636672\n",
        "speedratio                      0.005523908\n",
        "selfdamagecount                 0.012233208\n",
        "framerepeat                    27.882569295\n",
        "dtype: float64"
       ]
      },
      {
       "output_type": "stream",
       "stream": "stdout",
       "text": [
        "\n"
       ]
      }
     ],
     "prompt_number": 5
    },
    {
     "cell_type": "code",
     "collapsed": false,
     "input": [
      "runner.vars"
     ],
     "language": "python",
     "metadata": {},
     "outputs": [
      {
       "output_type": "pyout",
       "prompt_number": 8,
       "text": [
        "{'Empty_features': ['scoreacc',\n",
        "  'hitsacc',\n",
        "  'deathacc',\n",
        "  'capturesacc',\n",
        "  'impressivecountacc',\n",
        "  'defendcountacc',\n",
        "  'assistcountacc',\n",
        "  'fragsinarow',\n",
        "  'powerup_regeneration',\n",
        "  'powerup_flight',\n",
        "  'hasflag',\n",
        "  'holyshit',\n",
        "  'enemyhadflag'],\n",
        " 'Mu': reactiontime                   4.490470571e-13\n",
        "commandtime_reactiontime      -2.137988464e-14\n",
        "angleinaframe                 -5.863056499e-15\n",
        "mouseeventtime_reactiontime    3.204834275e-13\n",
        "movementdirection              2.854469784e-13\n",
        "excellentcountacc             -4.199392988e-15\n",
        "gauntletfragcountacc           6.803503413e-15\n",
        "selfdamageeventcountacc        2.170257934e-14\n",
        "ducked                        -1.139392669e-13\n",
        "midair                         4.186536110e-14\n",
        "weapon                         9.045812998e-15\n",
        "weaponstate                    9.954736631e-14\n",
        "weaponinstanthit               1.479050038e-14\n",
        "powerup_quad                   8.535262043e-14\n",
        "powerup_battlesuit            -6.743899588e-14\n",
        "powerup_haste                  1.241364178e-13\n",
        "powerup_invisibility          -4.808066109e-14\n",
        "rank                           1.654198786e-13\n",
        "armor                          1.287060707e-15\n",
        "speedratio                     9.888632007e-13\n",
        "selfdamagecount               -1.971925029e-14\n",
        "framerepeat                    2.749008616e+01\n",
        "dtype: float64,\n",
        " 'Nonstd_Mu': reactiontime                    229.651029491\n",
        "commandtime_reactiontime         57.756707404\n",
        "angleinaframe                     6.485912906\n",
        "mouseeventtime_reactiontime      96.477214409\n",
        "movementdirection                 1.687481997\n",
        "excellentcountacc                 0.000153801\n",
        "gauntletfragcountacc              0.000035940\n",
        "selfdamageeventcountacc           0.005690650\n",
        "ducked                            0.001506302\n",
        "midair                            0.163573815\n",
        "weapon                            4.267685173\n",
        "weaponstate                       0.917478440\n",
        "weaponinstanthit                  0.582441488\n",
        "powerup_quad                      0.033065176\n",
        "powerup_battlesuit                0.001797520\n",
        "powerup_haste                     0.007351810\n",
        "powerup_invisibility              0.005657353\n",
        "rank                           5031.568867858\n",
        "armor                           143.288138639\n",
        "speedratio                        0.864081270\n",
        "selfdamagecount                  15.476724465\n",
        "framerepeat                      27.490086155\n",
        "dtype: float64,\n",
        " 'Nonstd_Sigma2': reactiontime                    1905605.622731039\n",
        "commandtime_reactiontime          10010.592378141\n",
        "angleinaframe                      1206.770828083\n",
        "mouseeventtime_reactiontime        5907.489819202\n",
        "movementdirection                     6.413420420\n",
        "excellentcountacc                     0.000154835\n",
        "gauntletfragcountacc                  0.000035939\n",
        "selfdamageeventcountacc               0.005686810\n",
        "ducked                                0.001504034\n",
        "midair                                0.136817494\n",
        "weapon                                4.543295589\n",
        "weaponstate                           1.833421155\n",
        "weaponinstanthit                      0.243203530\n",
        "powerup_quad                          0.031971887\n",
        "powerup_battlesuit                    0.001794290\n",
        "powerup_haste                         0.007297765\n",
        "powerup_invisibility                  0.005625350\n",
        "rank                           57111024.267271161\n",
        "armor                             61886.723842218\n",
        "speedratio                            0.443469379\n",
        "selfdamagecount                     600.728787153\n",
        "framerepeat                       12098.619257866\n",
        "dtype: float64,\n",
        " 'Sigma2':                              reactiontime  commandtime_reactiontime  angleinaframe  mouseeventtime_reactiontime  movementdirection  \\\n",
        "reactiontime                  0.070115071               0.005282196    0.002658851                  0.061440829       -0.019383074   \n",
        "commandtime_reactiontime      0.005282196               0.266901775   -0.022757916                  0.013813523       -0.010147373   \n",
        "angleinaframe                 0.002658851              -0.022757916    1.765854689                 -0.032807347       -0.001081631   \n",
        "mouseeventtime_reactiontime   0.061440829               0.013813523   -0.032807347                  0.748396272       -0.066206755   \n",
        "movementdirection            -0.019383074              -0.010147373   -0.001081631                 -0.066206755        1.091561500   \n",
        "excellentcountacc            -0.000265177              -0.001523160   -0.000869399                 -0.000694733        0.006427310   \n",
        "gauntletfragcountacc         -0.000667768              -0.000797841    0.005825464                 -0.002171895        0.002083684   \n",
        "selfdamageeventcountacc       0.004455472              -0.004689588   -0.003802949                 -0.005584205        0.024617521   \n",
        "ducked                        0.000740992               0.000022878   -0.003438630                  0.001322387       -0.002950015   \n",
        "midair                       -0.009209844              -0.009829395    0.048877461                 -0.037600603        0.113768147   \n",
        "weapon                       -0.017479352              -0.010901617   -0.006672877                 -0.049450161        0.083618974   \n",
        "weaponstate                  -0.011336168              -0.003723992   -0.039830419                  0.007138151        0.155174658   \n",
        "weaponinstanthit             -0.002218815              -0.003668877    0.011763767                  0.007062162       -0.013345262   \n",
        "powerup_quad                 -0.006239348              -0.002988350    0.008550683                 -0.019004659        0.044241168   \n",
        "powerup_battlesuit           -0.002152563              -0.001501260   -0.003037815                 -0.007556628        0.010876181   \n",
        "powerup_haste                -0.003119362              -0.001041768    0.007346448                 -0.010678348        0.015529526   \n",
        "powerup_invisibility         -0.003126413              -0.001946765    0.006977950                 -0.007504993        0.022280815   \n",
        "rank                          0.006867815               0.006671411   -0.003632425                  0.022256189       -0.054327223   \n",
        "armor                        -0.004360178              -0.003477723   -0.009178370                 -0.017077421        0.047565636   \n",
        "speedratio                   -0.047659474              -0.024478680    0.030170556                 -0.146757461        0.170919373   \n",
        "selfdamagecount               0.001214819               0.000268139   -0.020256049                 -0.002091006        0.054186805   \n",
        "framerepeat                   2.776683582               1.562510643   -4.072775886                  5.233049131       -2.828417219   \n",
        "\n",
        "                             excellentcountacc  gauntletfragcountacc  selfdamageeventcountacc       ducked       midair       weapon  weaponstate  \\\n",
        "reactiontime                      -0.000265177          -0.000667768              0.004455472  0.000740992 -0.009209844 -0.017479352 -0.011336168   \n",
        "commandtime_reactiontime          -0.001523160          -0.000797841             -0.004689588  0.000022878 -0.009829395 -0.010901617 -0.003723992   \n",
        "angleinaframe                     -0.000869399           0.005825464             -0.003802949 -0.003438630  0.048877461 -0.006672877 -0.039830419   \n",
        "mouseeventtime_reactiontime       -0.000694733          -0.002171895             -0.005584205  0.001322387 -0.037600603 -0.049450161  0.007138151   \n",
        "movementdirection                  0.006427310           0.002083684              0.024617521 -0.002950015  0.113768147  0.083618974  0.155174658   \n",
        "excellentcountacc                  1.793394794           0.037930611              0.018801045 -0.000771882 -0.001081876  0.009454043  0.032802112   \n",
        "gauntletfragcountacc               0.037930611           1.793487503             -0.001170375  0.011857255 -0.002854614 -0.012056049  0.016319381   \n",
        "selfdamageeventcountacc            0.018801045          -0.001170375              1.788997352  0.003066435 -0.010581163  0.002308085  0.093551576   \n",
        "ducked                            -0.000771882           0.011857255              0.003066435  0.814599319 -0.002697621 -0.008655998  0.014561044   \n",
        "midair                            -0.001081876          -0.002854614             -0.010581163 -0.002697621  1.201656637  0.012678567 -0.056149544   \n",
        "weapon                             0.009454043          -0.012056049              0.002308085 -0.008655998  0.012678567  0.970835954  0.046013410   \n",
        "weaponstate                        0.032802112           0.016319381              0.093551576  0.014561044 -0.056149544  0.046013410  1.020799123   \n",
        "weaponinstanthit                  -0.000737366          -0.013094794             -0.002080329 -0.003985845  0.008163902 -0.372184269 -0.036540176   \n",
        "powerup_quad                       0.021008938           0.008403128             -0.001649747 -0.003585550  0.022399272  0.024887905 -0.016106058   \n",
        "powerup_battlesuit                -0.001099409          -0.000533248              0.002487139 -0.001840833  0.008967104 -0.025858759  0.011082669   \n",
        "powerup_haste                     -0.000353510          -0.001036517             -0.000981102  0.003996904  0.005308899  0.047403449 -0.018344090   \n",
        "powerup_invisibility               0.001143785          -0.000923161             -0.005754227 -0.003112134  0.008131428  0.033545886 -0.011582230   \n",
        "rank                              -0.007654061          -0.002117153              0.000974675 -0.004443611 -0.027527300 -0.084569606 -0.032076325   \n",
        "armor                              0.004835956          -0.002137695             -0.004399668 -0.000970664  0.005313238  0.445130796  0.037714215   \n",
        "speedratio                        -0.000186276          -0.000899245              0.036036365 -0.029379527  0.476461878  0.060725697 -0.065628727   \n",
        "selfdamagecount                    0.002981589           0.001684910              0.045281273  0.009409807  0.009601601  0.114759242  0.101972947   \n",
        "framerepeat                       -0.269623423          -0.130775843             -1.646111764  0.198256544 -3.047465153 -2.828178782 -0.998377884   \n",
        "\n",
        "                             weaponinstanthit  powerup_quad  powerup_battlesuit  powerup_haste  powerup_invisibility         rank        armor  \\\n",
        "reactiontime                     -0.002218815  -0.006239348        -0.002152563   -0.003119362          -0.003126413  0.006867815 -0.004360178   \n",
        "commandtime_reactiontime         -0.003668877  -0.002988350        -0.001501260   -0.001041768          -0.001946765  0.006671411 -0.003477723   \n",
        "angleinaframe                     0.011763767   0.008550683        -0.003037815    0.007346448           0.006977950 -0.003632425 -0.009178370   \n",
        "mouseeventtime_reactiontime       0.007062162  -0.019004659        -0.007556628   -0.010678348          -0.007504993  0.022256189 -0.017077421   \n",
        "movementdirection                -0.013345262   0.044241168         0.010876181    0.015529526           0.022280815 -0.054327223  0.047565636   \n",
        "excellentcountacc                -0.000737366   0.021008938        -0.001099409   -0.000353510           0.001143785 -0.007654061  0.004835956   \n",
        "gauntletfragcountacc             -0.013094794   0.008403128        -0.000533248   -0.001036517          -0.000923161 -0.002117153 -0.002137695   \n",
        "selfdamageeventcountacc          -0.002080329  -0.001649747         0.002487139   -0.000981102          -0.005754227  0.000974675 -0.004399668   \n",
        "ducked                           -0.003985845  -0.003585550        -0.001840833    0.003996904          -0.003112134 -0.004443611 -0.000970664   \n",
        "midair                            0.008163902   0.022399272         0.008967104    0.005308899           0.008131428 -0.027527300  0.005313238   \n",
        "weapon                           -0.372184269   0.024887905        -0.025858759    0.047403449           0.033545886 -0.084569606  0.445130796   \n",
        "weaponstate                      -0.036540176  -0.016106058         0.011082669   -0.018344090          -0.011582230 -0.032076325  0.037714215   \n",
        "weaponinstanthit                  0.977925713   0.026976258         0.004067020    0.016375785           0.010319082  0.031029260 -0.172311440   \n",
        "powerup_quad                      0.026976258   1.191967074         0.006240943    0.001323240           0.114471278 -0.040686148  0.055199083   \n",
        "powerup_battlesuit                0.004067020   0.006240943         1.302008712   -0.005543848          -0.004962953 -0.013594420 -0.022651834   \n",
        "powerup_haste                     0.016375785   0.001323240        -0.005543848    1.213894717          -0.009499800 -0.046803084  0.034667924   \n",
        "powerup_invisibility              0.010319082   0.114471278        -0.004962953   -0.009499800           1.246543976 -0.012793633  0.005688310   \n",
        "rank                              0.031029260  -0.040686148        -0.013594420   -0.046803084          -0.012793633  0.966321405 -0.080096481   \n",
        "armor                            -0.172311440   0.055199083        -0.022651834    0.034667924           0.005688310 -0.080096481  0.860638449   \n",
        "speedratio                        0.003727274   0.056269098         0.015898227    0.014721023           0.024890880 -0.049908043  0.049085013   \n",
        "selfdamagecount                  -0.081459094   0.026705855         0.000205775    0.003630933           0.004893476 -0.050375611  0.113698612   \n",
        "framerepeat                      -1.815014698  -1.010414978        -0.352943690   -0.509804140          -0.514146000  1.106392851 -0.360247312   \n",
        "\n",
        "                              speedratio  selfdamagecount    framerepeat  \n",
        "reactiontime                -0.047659474      0.001214819    2.776683582  \n",
        "commandtime_reactiontime    -0.024478680      0.000268139    1.562510643  \n",
        "angleinaframe                0.030170556     -0.020256049   -4.072775886  \n",
        "mouseeventtime_reactiontime -0.146757461     -0.002091006    5.233049131  \n",
        "movementdirection            0.170919373      0.054186805   -2.828417219  \n",
        "excellentcountacc           -0.000186276      0.002981589   -0.269623423  \n",
        "gauntletfragcountacc        -0.000899245      0.001684910   -0.130775843  \n",
        "selfdamageeventcountacc      0.036036365      0.045281273   -1.646111764  \n",
        "ducked                      -0.029379527      0.009409807    0.198256544  \n",
        "midair                       0.476461878      0.009601601   -3.047465153  \n",
        "weapon                       0.060725697      0.114759242   -2.828178782  \n",
        "weaponstate                 -0.065628727      0.101972947   -0.998377884  \n",
        "weaponinstanthit             0.003727274     -0.081459094   -1.815014698  \n",
        "powerup_quad                 0.056269098      0.026705855   -1.010414978  \n",
        "powerup_battlesuit           0.015898227      0.000205775   -0.352943690  \n",
        "powerup_haste                0.014721023      0.003630933   -0.509804140  \n",
        "powerup_invisibility         0.024890880      0.004893476   -0.514146000  \n",
        "rank                        -0.049908043     -0.050375611    1.106392851  \n",
        "armor                        0.049085013      0.113698612   -0.360247312  \n",
        "speedratio                   0.886193759      0.007007796   -8.106299831  \n",
        "selfdamagecount              0.007007796      0.921181670    1.023181852  \n",
        "framerepeat                 -8.106299831      1.023181852  706.401617112  ,\n",
        " 'X': <class 'pandas.core.frame.DataFrame'>\n",
        "Int64Index: 1081941 entries, 0 to 1081940\n",
        "Data columns (total 22 columns):\n",
        "reactiontime                   1081941  non-null values\n",
        "commandtime_reactiontime       1081941  non-null values\n",
        "angleinaframe                  1081941  non-null values\n",
        "mouseeventtime_reactiontime    1081941  non-null values\n",
        "movementdirection              1081941  non-null values\n",
        "excellentcountacc              1081941  non-null values\n",
        "gauntletfragcountacc           1081941  non-null values\n",
        "selfdamageeventcountacc        1081941  non-null values\n",
        "ducked                         1081941  non-null values\n",
        "midair                         1081941  non-null values\n",
        "weapon                         1081941  non-null values\n",
        "weaponstate                    1081941  non-null values\n",
        "weaponinstanthit               1081941  non-null values\n",
        "powerup_quad                   1081941  non-null values\n",
        "powerup_battlesuit             1081941  non-null values\n",
        "powerup_haste                  1081941  non-null values\n",
        "powerup_invisibility           1081941  non-null values\n",
        "rank                           1081941  non-null values\n",
        "armor                          1081941  non-null values\n",
        "speedratio                     1081941  non-null values\n",
        "selfdamagecount                1081941  non-null values\n",
        "framerepeat                    1081941  non-null values\n",
        "dtypes: float64(21), int64(1),\n",
        " 'Y': <class 'pandas.core.frame.DataFrame'>\n",
        "Int64Index: 1081941 entries, 0 to 1081940\n",
        "Data columns (total 1 columns):\n",
        "cheater    1081941  non-null values\n",
        "dtypes: int64(1),\n",
        " 'winsorize_extreme_high': reactiontime                     150.0000\n",
        "commandtime_reactiontime          73.0000\n",
        "angleinaframe                     20.0000\n",
        "mouseeventtime_reactiontime      250.0000\n",
        "movementdirection                  7.0000\n",
        "scoreacc                           0.0000\n",
        "hitsacc                            0.0000\n",
        "deathacc                           0.0000\n",
        "capturesacc                        0.0000\n",
        "impressivecountacc                 0.0000\n",
        "excellentcountacc                  0.0000\n",
        "defendcountacc                     0.0000\n",
        "assistcountacc                     0.0000\n",
        "gauntletfragcountacc               0.0000\n",
        "fragsinarow                        0.0000\n",
        "selfdamageeventcountacc            0.0000\n",
        "ducked                             0.0000\n",
        "midair                             1.0000\n",
        "weapon                             8.0000\n",
        "weaponstate                        3.0000\n",
        "weaponinstanthit                   1.0000\n",
        "powerup_quad                       0.0000\n",
        "powerup_battlesuit                 0.0000\n",
        "powerup_haste                      0.0000\n",
        "powerup_invisibility               0.0000\n",
        "powerup_regeneration               0.0000\n",
        "powerup_flight                     0.0000\n",
        "hasflag                            0.0000\n",
        "holyshit                           0.0000\n",
        "rank                           16386.0000\n",
        "enemyhadflag                       0.0000\n",
        "armor                            398.0000\n",
        "speedratio                         1.9625\n",
        "selfdamagecount                   64.0000\n",
        "framerepeat                        3.0000\n",
        "dtype: float64,\n",
        " 'winsorize_extreme_low': reactiontime                   50\n",
        "commandtime_reactiontime       33\n",
        "angleinaframe                   0\n",
        "mouseeventtime_reactiontime    50\n",
        "movementdirection               0\n",
        "scoreacc                        0\n",
        "hitsacc                         0\n",
        "deathacc                        0\n",
        "capturesacc                     0\n",
        "impressivecountacc              0\n",
        "excellentcountacc               0\n",
        "defendcountacc                  0\n",
        "assistcountacc                  0\n",
        "gauntletfragcountacc            0\n",
        "fragsinarow                     0\n",
        "selfdamageeventcountacc         0\n",
        "ducked                          0\n",
        "midair                          0\n",
        "weapon                          2\n",
        "weaponstate                     0\n",
        "weaponinstanthit                0\n",
        "powerup_quad                    0\n",
        "powerup_battlesuit              0\n",
        "powerup_haste                   0\n",
        "powerup_invisibility            0\n",
        "powerup_regeneration            0\n",
        "powerup_flight                  0\n",
        "hasflag                         0\n",
        "holyshit                        0\n",
        "rank                            0\n",
        "enemyhadflag                    0\n",
        "armor                           6\n",
        "speedratio                      0\n",
        "selfdamagecount                 0\n",
        "framerepeat                     1\n",
        "dtype: float64}"
       ]
      }
     ],
     "prompt_number": 8
    },
    {
     "cell_type": "code",
     "collapsed": false,
     "input": [],
     "language": "python",
     "metadata": {},
     "outputs": []
    }
   ],
   "metadata": {}
  }
 ]
}