{
 "metadata": {
  "name": "Dataset Analysis"
 },
 "nbformat": 3,
 "nbformat_minor": 0,
 "worksheets": [
  {
   "cells": [
    {
     "cell_type": "markdown",
     "metadata": {},
     "source": [
      "Dataset Analysis for OACS\n",
      "=========================\n",
      "\n",
      "You can use this notebook to process, analyze and visualize your dataset in order to better understand the distribution of your data.\n",
      "\n",
      "This notebook provides a few generic code snippets to help you get started (loading the dataset and OACS structure)."
     ]
    },
    {
     "cell_type": "markdown",
     "metadata": {},
     "source": [
      "Loading the OACS structure\n",
      "--------------------------\n",
      "The code below is the first initialization step necessary to load the program. Just execute it and go to the next steps.\n",
      "\n",
      "Note: you should reexecute this code everytime you change the sourcecode or the config file, but not when you just want to reload the data files (use instead \u00b4runner.inputparser.load()\u00b4 )."
     ]
    },
    {
     "cell_type": "code",
     "collapsed": false,
     "input": [
      "%load_ext autoreload\n",
      "%autoreload 2\n",
      "import oacs.main\n",
      "reload(oacs.main)\n",
      "# Clean up a few stuff\n",
      "try:\n",
      "    del runner.vars\n",
      "    del runner\n",
      "except Exception, e:\n",
      "    pass\n",
      "# Load the base software\n",
      "runner = oacs.main.main(['--script', '--inputfile', 'data.txt'])\n",
      "\n",
      "# Load necessary libraries for your computations\n",
      "import pandas as pd\n",
      "import numpy as np"
     ],
     "language": "python",
     "metadata": {},
     "outputs": [],
     "prompt_number": 2
    },
    {
     "cell_type": "code",
     "collapsed": false,
     "input": [
      "#%timeit runner.learn()\n",
      "runner.learn()\n",
      "#runner.vars"
     ],
     "language": "python",
     "metadata": {},
     "outputs": [
      {
       "output_type": "stream",
       "stream": "stdout",
       "text": [
        "Weights sum to zero, can't be normalized\n"
       ]
      },
      {
       "output_type": "pyout",
       "prompt_number": 3,
       "text": [
        "True"
       ]
      }
     ],
     "prompt_number": 3
    },
    {
     "cell_type": "markdown",
     "metadata": {},
     "source": [
      "Some test code\n",
      "--------------\n",
      "Below are some test code (TODO: add generic code to read, describe and visualize the data)."
     ]
    },
    {
     "cell_type": "code",
     "collapsed": false,
     "input": [
      "# Predict with a sample example\n",
      "%timeit runner.classifier.predict(x=X.irow(1), **runner.vars)\n",
      "Pred = runner.classifier.predict(x=X.irow(1), **runner.vars)\n",
      "print(Pred)"
     ],
     "language": "python",
     "metadata": {},
     "outputs": []
    },
    {
     "cell_type": "code",
     "collapsed": false,
     "input": [
      "runner.updatevars(runner.inputparser.load())\n",
      "X = runner.vars['X']\n",
      "Y = runner.vars['Y']\n",
      "X"
     ],
     "language": "python",
     "metadata": {},
     "outputs": []
    },
    {
     "cell_type": "code",
     "collapsed": false,
     "input": [
      "for var in runner.inputparser.read():\n",
      "    print(var['X'])"
     ],
     "language": "python",
     "metadata": {},
     "outputs": []
    },
    {
     "cell_type": "code",
     "collapsed": false,
     "input": [
      "types = pd.read_csv(runner.config.config['typesfile'], index_col=None, header=0)\n",
      "types = types.ix[0, :]\n"
     ],
     "language": "python",
     "metadata": {},
     "outputs": []
    },
    {
     "cell_type": "markdown",
     "metadata": {},
     "source": [
      "Time testing\n",
      "------------"
     ]
    },
    {
     "cell_type": "code",
     "collapsed": false,
     "input": [
      "%timeit runner.classifier.mean(X)\n",
      "%timeit runner.classifier.mean_alt(X)"
     ],
     "language": "python",
     "metadata": {},
     "outputs": []
    },
    {
     "cell_type": "code",
     "collapsed": false,
     "input": [
      "%timeit runner.classifier.mean(X)\n",
      "%timeit runner.classifier.sigma2(X, mu)\n",
      "%timeit runner.classifier.sigma2_alt(X, mu)"
     ],
     "language": "python",
     "metadata": {},
     "outputs": []
    },
    {
     "cell_type": "markdown",
     "metadata": {},
     "source": [
      "Other tests\n",
      "-----------"
     ]
    },
    {
     "cell_type": "code",
     "collapsed": false,
     "input": [
      "test = runner.load_vars(runner.config.config['parametersfile'])\n",
      "test"
     ],
     "language": "python",
     "metadata": {},
     "outputs": []
    },
    {
     "cell_type": "code",
     "collapsed": false,
     "input": [
      "runner.vars['Playerinfo'] = {'playername':'mynameisjohn'}\n",
      "runner.postaction.action(debug=True, **runner.vars)"
     ],
     "language": "python",
     "metadata": {},
     "outputs": []
    },
    {
     "cell_type": "code",
     "collapsed": false,
     "input": [
      "runner.run()"
     ],
     "language": "python",
     "metadata": {},
     "outputs": []
    },
    {
     "cell_type": "code",
     "collapsed": false,
     "input": [
      "gen = runner.inputparser.read()"
     ],
     "language": "python",
     "metadata": {},
     "outputs": []
    },
    {
     "cell_type": "code",
     "collapsed": false,
     "input": [
      "gen2.next()"
     ],
     "language": "python",
     "metadata": {},
     "outputs": []
    },
    {
     "cell_type": "code",
     "collapsed": false,
     "input": [
      "gen2 = gen"
     ],
     "language": "python",
     "metadata": {},
     "outputs": []
    },
    {
     "cell_type": "code",
     "collapsed": false,
     "input": [
      "s = pd.Series([1, 2, 3])"
     ],
     "language": "python",
     "metadata": {},
     "outputs": []
    },
    {
     "cell_type": "code",
     "collapsed": false,
     "input": [
      "s.index = ['test1','test2','test3']"
     ],
     "language": "python",
     "metadata": {},
     "outputs": []
    },
    {
     "cell_type": "code",
     "collapsed": false,
     "input": [
      "s"
     ],
     "language": "python",
     "metadata": {},
     "outputs": []
    },
    {
     "cell_type": "code",
     "collapsed": false,
     "input": [
      "s[['test1','test2']]"
     ],
     "language": "python",
     "metadata": {},
     "outputs": []
    },
    {
     "cell_type": "code",
     "collapsed": false,
     "input": [
      "print(runner.inputparser.read())\n",
      "runner.inputparser.cursorpos"
     ],
     "language": "python",
     "metadata": {},
     "outputs": [
      {
       "output_type": "stream",
       "stream": "stdout",
       "text": [
        "<generator object read at 0x00000000076E1828>\n"
       ]
      },
      {
       "output_type": "pyout",
       "prompt_number": 9,
       "text": [
        "0"
       ]
      }
     ],
     "prompt_number": 9
    },
    {
     "cell_type": "code",
     "collapsed": false,
     "input": [
      "string = \"playerid,timestamp,svtime,reactiontime,fragsinarow,armor,framerepeat,cheater\"\n",
      "import StringIO\n",
      "linein = StringIO.StringIO(string)\n",
      "X = pd.read_csv(linein, index_col=None, header=None)\n"
     ],
     "language": "python",
     "metadata": {},
     "outputs": [],
     "prompt_number": 70
    },
    {
     "cell_type": "code",
     "collapsed": false,
     "input": [
      "gen = runner.inputparser.read(skip_to_end=True)\n",
      "for dictofvars in gen:\n",
      "    print(dictofvars)"
     ],
     "language": "python",
     "metadata": {},
     "outputs": [],
     "prompt_number": 7
    },
    {
     "cell_type": "code",
     "collapsed": false,
     "input": [],
     "language": "python",
     "metadata": {},
     "outputs": []
    }
   ],
   "metadata": {}
  }
 ]
}