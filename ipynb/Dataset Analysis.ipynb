{
 "metadata": {
  "name": "Dataset Analysis"
 },
 "nbformat": 3,
 "nbformat_minor": 0,
 "worksheets": [
  {
   "cells": [
    {
     "cell_type": "markdown",
     "metadata": {},
     "source": [
      "Dataset Analysis for OACS\n",
      "=========================\n",
      "\n",
      "You can use this notebook to process, analyze and visualize your dataset in order to better understand the distribution of your data.\n",
      "\n",
      "This notebook provides a few generic code snippets to help you get started (loading the dataset and OACS structure)."
     ]
    },
    {
     "cell_type": "markdown",
     "metadata": {},
     "source": [
      "Loading the OACS structure\n",
      "--------------------------\n",
      "The code below is the first initialization step necessary to load the program. Just execute it and go to the next steps.\n",
      "\n",
      "Note: you should reexecute this code everytime you change the sourcecode or the config file, but not when you just want to reload the data files (use instead \u00b4runner.inputparser.load()\u00b4 )."
     ]
    },
    {
     "cell_type": "code",
     "collapsed": false,
     "input": [
      "%load_ext autoreload\n",
      "%autoreload 2\n",
      "import oacs.main\n",
      "reload(oacs.main)\n",
      "# Clean up a few stuff\n",
      "try:\n",
      "    del runner.vars\n",
      "    del runner\n",
      "except Exception, e:\n",
      "    pass\n",
      "# Load the base software\n",
      "runner = oacs.main.main(['--script', '--inputfile', 'data.txt'])\n",
      "\n",
      "# Load necessary libraries for your computations\n",
      "import pandas as pd\n",
      "import numpy as np\n",
      "\n",
      "pd.set_option('display.max_colwidth', 200)\n",
      "pd.set_option('display.max_columns', 200)\n",
      "pd.set_option('display.max_rows',200)\n",
      "pd.set_option('display.precision',10)\n",
      "pd.set_option('expand_frame_repr', True)\n",
      "pd.set_option('line_width', 80)\n",
      "pd.set_option('display.notebook_repr_html', True)"
     ],
     "language": "python",
     "metadata": {},
     "outputs": [],
     "prompt_number": 16
    },
    {
     "cell_type": "code",
     "collapsed": false,
     "input": [
      "#%timeit runner.learn()\n",
      "runner.learn()"
     ],
     "language": "python",
     "metadata": {},
     "outputs": [
      {
       "output_type": "pyout",
       "prompt_number": 19,
       "text": [
        "True"
       ]
      }
     ],
     "prompt_number": 19
    },
    {
     "cell_type": "code",
     "collapsed": false,
     "input": [
      "runner.vars"
     ],
     "language": "python",
     "metadata": {},
     "outputs": [
      {
       "output_type": "pyout",
       "prompt_number": 20,
       "text": [
        "{'Mu': reactiontime                   5.124106268e-16\n",
        "lastcommandtime               -2.769457435e-16\n",
        "commandtime_reactiontime       7.828495686e-17\n",
        "angleinaframe                  3.027187780e-17\n",
        "lastmouseeventtime            -1.260692812e-17\n",
        "mouseeventtime_reactiontime                NaN\n",
        "movementdirection              1.065488764e-16\n",
        "scoreacc                                   NaN\n",
        "hitsacc                                    NaN\n",
        "deathacc                                   NaN\n",
        "capturesacc                                NaN\n",
        "impressivecountacc                         NaN\n",
        "excellentcountacc                          NaN\n",
        "defendcountacc                             NaN\n",
        "assistcountacc                             NaN\n",
        "gauntletfragcountacc                       NaN\n",
        "fragsinarow                                NaN\n",
        "selfdamageeventcountacc       -3.813214498e-17\n",
        "ducked                         6.757923484e-16\n",
        "midair                         5.164773778e-16\n",
        "weapon                                     NaN\n",
        "weaponstate                    1.646729151e-15\n",
        "weaponinstanthit                           NaN\n",
        "powerup_quad                   1.315593950e-16\n",
        "powerup_battlesuit                         NaN\n",
        "powerup_haste                              NaN\n",
        "powerup_invisibility                       NaN\n",
        "powerup_regeneration                       NaN\n",
        "powerup_flight                             NaN\n",
        "hasflag                                    NaN\n",
        "holyshit                                   NaN\n",
        "rank                                       NaN\n",
        "enemyhadflag                               NaN\n",
        "armor                                      NaN\n",
        "speedratio                     8.735381161e-16\n",
        "selfdamagecount               -2.522910655e-15\n",
        "framerepeat                    1.145402930e+02\n",
        "dtype: float64,\n",
        " 'Sigma2': reactiontime                       1.000000000\n",
        "lastcommandtime                    1.000000000\n",
        "commandtime_reactiontime           1.000000000\n",
        "angleinaframe                      1.000000000\n",
        "lastmouseeventtime                 1.000000000\n",
        "mouseeventtime_reactiontime                NaN\n",
        "movementdirection                  1.000000000\n",
        "scoreacc                                   NaN\n",
        "hitsacc                                    NaN\n",
        "deathacc                                   NaN\n",
        "capturesacc                                NaN\n",
        "impressivecountacc                         NaN\n",
        "excellentcountacc                          NaN\n",
        "defendcountacc                             NaN\n",
        "assistcountacc                             NaN\n",
        "gauntletfragcountacc                       NaN\n",
        "fragsinarow                                NaN\n",
        "selfdamageeventcountacc            1.000000000\n",
        "ducked                             1.000000000\n",
        "midair                             1.000000000\n",
        "weapon                                     NaN\n",
        "weaponstate                        1.000000000\n",
        "weaponinstanthit                           NaN\n",
        "powerup_quad                       1.000000000\n",
        "powerup_battlesuit                         NaN\n",
        "powerup_haste                              NaN\n",
        "powerup_invisibility                       NaN\n",
        "powerup_regeneration                       NaN\n",
        "powerup_flight                             NaN\n",
        "hasflag                                    NaN\n",
        "holyshit                                   NaN\n",
        "rank                                       NaN\n",
        "enemyhadflag                               NaN\n",
        "armor                                      NaN\n",
        "speedratio                         1.000000000\n",
        "selfdamagecount                    1.000000000\n",
        "framerepeat                    37427.551284568\n",
        "dtype: float64,\n",
        " 'X': <class 'pandas.core.frame.DataFrame'>\n",
        "Int64Index: 644 entries, 0 to 643\n",
        "Data columns (total 37 columns):\n",
        "reactiontime                   644  non-null values\n",
        "lastcommandtime                644  non-null values\n",
        "commandtime_reactiontime       644  non-null values\n",
        "angleinaframe                  644  non-null values\n",
        "lastmouseeventtime             644  non-null values\n",
        "mouseeventtime_reactiontime    0  non-null values\n",
        "movementdirection              644  non-null values\n",
        "scoreacc                       0  non-null values\n",
        "hitsacc                        0  non-null values\n",
        "deathacc                       0  non-null values\n",
        "capturesacc                    0  non-null values\n",
        "impressivecountacc             0  non-null values\n",
        "excellentcountacc              0  non-null values\n",
        "defendcountacc                 0  non-null values\n",
        "assistcountacc                 0  non-null values\n",
        "gauntletfragcountacc           0  non-null values\n",
        "fragsinarow                    0  non-null values\n",
        "selfdamageeventcountacc        644  non-null values\n",
        "ducked                         644  non-null values\n",
        "midair                         644  non-null values\n",
        "weapon                         0  non-null values\n",
        "weaponstate                    644  non-null values\n",
        "weaponinstanthit               0  non-null values\n",
        "powerup_quad                   644  non-null values\n",
        "powerup_battlesuit             0  non-null values\n",
        "powerup_haste                  0  non-null values\n",
        "powerup_invisibility           0  non-null values\n",
        "powerup_regeneration           0  non-null values\n",
        "powerup_flight                 0  non-null values\n",
        "hasflag                        0  non-null values\n",
        "holyshit                       0  non-null values\n",
        "rank                           0  non-null values\n",
        "enemyhadflag                   0  non-null values\n",
        "armor                          0  non-null values\n",
        "speedratio                     644  non-null values\n",
        "selfdamagecount                644  non-null values\n",
        "framerepeat                    644  non-null values\n",
        "dtypes: float64(36), int64(1),\n",
        " 'Y': <class 'pandas.core.frame.DataFrame'>\n",
        "Int64Index: 644 entries, 0 to 643\n",
        "Data columns (total 1 columns):\n",
        "cheater    644  non-null values\n",
        "dtypes: int64(1)}"
       ]
      }
     ],
     "prompt_number": 20
    },
    {
     "cell_type": "code",
     "collapsed": false,
     "input": [
      "from oacs.lib.debug.debug import *\n",
      "\n",
      "@showprofile\n",
      "@profileit\n",
      "def test():\n",
      "    runner.learn()\n",
      "test()"
     ],
     "language": "python",
     "metadata": {},
     "outputs": []
    },
    {
     "cell_type": "markdown",
     "metadata": {},
     "source": [
      "Some test code\n",
      "--------------\n",
      "Below are some test code (TODO: add generic code to read, describe and visualize the data)."
     ]
    },
    {
     "cell_type": "code",
     "collapsed": false,
     "input": [
      "# Predict with a sample example\n",
      "%timeit runner.classifier.predict(x=X.irow(1), **runner.vars)\n",
      "Pred = runner.classifier.predict(x=X.irow(1), **runner.vars)\n",
      "print(Pred)"
     ],
     "language": "python",
     "metadata": {},
     "outputs": []
    },
    {
     "cell_type": "code",
     "collapsed": false,
     "input": [
      "runner.updatevars(runner.inputparser.load())\n",
      "X = runner.vars['X']\n",
      "Y = runner.vars['Y']\n",
      "X"
     ],
     "language": "python",
     "metadata": {},
     "outputs": []
    },
    {
     "cell_type": "code",
     "collapsed": false,
     "input": [
      "for var in runner.inputparser.read():\n",
      "    print(var['X'])"
     ],
     "language": "python",
     "metadata": {},
     "outputs": []
    },
    {
     "cell_type": "code",
     "collapsed": false,
     "input": [
      "types = pd.read_csv(runner.config.config['typesfile'], index_col=None, header=0)\n",
      "types = types.ix[0, :]\n"
     ],
     "language": "python",
     "metadata": {},
     "outputs": []
    },
    {
     "cell_type": "markdown",
     "metadata": {},
     "source": [
      "Time testing\n",
      "------------"
     ]
    },
    {
     "cell_type": "code",
     "collapsed": false,
     "input": [
      "%timeit runner.classifier.mean(X)\n",
      "%timeit runner.classifier.mean_alt(X)"
     ],
     "language": "python",
     "metadata": {},
     "outputs": []
    },
    {
     "cell_type": "code",
     "collapsed": false,
     "input": [
      "%timeit runner.classifier.mean(X)\n",
      "%timeit runner.classifier.sigma2(X, mu)\n",
      "%timeit runner.classifier.sigma2_alt(X, mu)"
     ],
     "language": "python",
     "metadata": {},
     "outputs": []
    },
    {
     "cell_type": "markdown",
     "metadata": {},
     "source": [
      "Other tests\n",
      "-----------"
     ]
    },
    {
     "cell_type": "code",
     "collapsed": false,
     "input": [
      "test = runner.load_vars(runner.config.config['parametersfile'])\n",
      "test"
     ],
     "language": "python",
     "metadata": {},
     "outputs": []
    },
    {
     "cell_type": "code",
     "collapsed": false,
     "input": [
      "runner.vars['Playerinfo'] = {'playername':'mynameisjohn'}\n",
      "runner.postaction.action(debug=True, **runner.vars)"
     ],
     "language": "python",
     "metadata": {},
     "outputs": []
    },
    {
     "cell_type": "code",
     "collapsed": false,
     "input": [
      "runner.run()"
     ],
     "language": "python",
     "metadata": {},
     "outputs": []
    },
    {
     "cell_type": "code",
     "collapsed": false,
     "input": [
      "gen = runner.inputparser.read()"
     ],
     "language": "python",
     "metadata": {},
     "outputs": []
    },
    {
     "cell_type": "code",
     "collapsed": false,
     "input": [
      "gen2.next()"
     ],
     "language": "python",
     "metadata": {},
     "outputs": []
    },
    {
     "cell_type": "code",
     "collapsed": false,
     "input": [
      "gen2 = gen"
     ],
     "language": "python",
     "metadata": {},
     "outputs": []
    },
    {
     "cell_type": "code",
     "collapsed": false,
     "input": [
      "s = pd.Series([1, 2, 3])"
     ],
     "language": "python",
     "metadata": {},
     "outputs": []
    },
    {
     "cell_type": "code",
     "collapsed": false,
     "input": [
      "s.index = ['test1','test2','test3']"
     ],
     "language": "python",
     "metadata": {},
     "outputs": []
    },
    {
     "cell_type": "code",
     "collapsed": false,
     "input": [
      "s"
     ],
     "language": "python",
     "metadata": {},
     "outputs": []
    },
    {
     "cell_type": "code",
     "collapsed": false,
     "input": [
      "s[['test1','test2']]"
     ],
     "language": "python",
     "metadata": {},
     "outputs": []
    },
    {
     "cell_type": "code",
     "collapsed": false,
     "input": [
      "print(runner.inputparser.read())\n",
      "runner.inputparser.cursorpos"
     ],
     "language": "python",
     "metadata": {},
     "outputs": [
      {
       "output_type": "stream",
       "stream": "stdout",
       "text": [
        "<generator object read at 0x00000000076E1828>\n"
       ]
      },
      {
       "output_type": "pyout",
       "prompt_number": 9,
       "text": [
        "0"
       ]
      }
     ],
     "prompt_number": 9
    },
    {
     "cell_type": "code",
     "collapsed": false,
     "input": [
      "string = \"playerid,timestamp,svtime,reactiontime,fragsinarow,armor,framerepeat,cheater\"\n",
      "import StringIO\n",
      "linein = StringIO.StringIO(string)\n",
      "X = pd.read_csv(linein, index_col=None, header=None)\n"
     ],
     "language": "python",
     "metadata": {},
     "outputs": [],
     "prompt_number": 70
    },
    {
     "cell_type": "code",
     "collapsed": false,
     "input": [
      "gen = runner.inputparser.read(skip_to_end=True)\n",
      "for dictofvars in gen:\n",
      "    print(dictofvars)"
     ],
     "language": "python",
     "metadata": {},
     "outputs": [],
     "prompt_number": 7
    },
    {
     "cell_type": "code",
     "collapsed": false,
     "input": [
      "runner.run()"
     ],
     "language": "python",
     "metadata": {},
     "outputs": [
      {
       "output_type": "stream",
       "stream": "stdout",
       "text": [
        "0.141797338023\n",
        "playerid=544911367940993"
       ]
      },
      {
       "output_type": "stream",
       "stream": "stdout",
       "text": [
        "\n",
        "Cheater detected!\n",
        "0.481955605262"
       ]
      },
      {
       "output_type": "stream",
       "stream": "stdout",
       "text": [
        "\n",
        "playerid=544911367940993\n",
        "Cheater detected!\n",
        "0.260108587499"
       ]
      },
      {
       "output_type": "stream",
       "stream": "stdout",
       "text": [
        "\n",
        "playerid=544911367940993\n",
        "Cheater detected!\n",
        "0.370752900079"
       ]
      },
      {
       "output_type": "stream",
       "stream": "stdout",
       "text": [
        "\n",
        "playerid=544911367940993\n",
        "Cheater detected!\n",
        "0.168986724013"
       ]
      },
      {
       "output_type": "stream",
       "stream": "stdout",
       "text": [
        "\n",
        "playerid=544911367940993\n",
        "Cheater detected!\n",
        "0.96110033455"
       ]
      },
      {
       "ename": "KeyboardInterrupt",
       "evalue": "",
       "output_type": "pyerr",
       "traceback": [
        "\u001b[1;31m---------------------------------------------------------------------------\u001b[0m\n\u001b[1;31mKeyboardInterrupt\u001b[0m                         Traceback (most recent call last)",
        "\u001b[1;32m<ipython-input-14-3f68a917d929>\u001b[0m in \u001b[0;36m<module>\u001b[1;34m()\u001b[0m\n\u001b[1;32m----> 1\u001b[1;33m \u001b[0mrunner\u001b[0m\u001b[1;33m.\u001b[0m\u001b[0mrun\u001b[0m\u001b[1;33m(\u001b[0m\u001b[1;33m)\u001b[0m\u001b[1;33m\u001b[0m\u001b[0m\n\u001b[0m",
        "\u001b[1;32mC:\\oacs\\oacs\\oacs\\run.pyc\u001b[0m in \u001b[0;36mrun\u001b[1;34m(self, executelist)\u001b[0m\n\u001b[0;32m    303\u001b[0m                 \u001b[0mtime\u001b[0m\u001b[1;33m.\u001b[0m\u001b[0msleep\u001b[0m\u001b[1;33m(\u001b[0m\u001b[0mrun_minisleep\u001b[0m\u001b[1;33m)\u001b[0m\u001b[1;33m\u001b[0m\u001b[0m\n\u001b[0;32m    304\u001b[0m             \u001b[1;31m# Sleep a bit between each batch of new samples (here we finished the last batch and reached the end of file, wait a bit because anyway there won't be any new sample ASAP)\u001b[0m\u001b[1;33m\u001b[0m\u001b[1;33m\u001b[0m\u001b[0m\n\u001b[1;32m--> 305\u001b[1;33m             \u001b[0mtime\u001b[0m\u001b[1;33m.\u001b[0m\u001b[0msleep\u001b[0m\u001b[1;33m(\u001b[0m\u001b[0mrun_sleep\u001b[0m\u001b[1;33m)\u001b[0m\u001b[1;33m\u001b[0m\u001b[0m\n\u001b[0m\u001b[0;32m    306\u001b[0m \u001b[1;33m\u001b[0m\u001b[0m\n\u001b[0;32m    307\u001b[0m         \u001b[1;32mreturn\u001b[0m \u001b[0mTrue\u001b[0m\u001b[1;33m\u001b[0m\u001b[0m\n",
        "\u001b[1;31mKeyboardInterrupt\u001b[0m: "
       ]
      },
      {
       "output_type": "stream",
       "stream": "stdout",
       "text": [
        "\n"
       ]
      }
     ],
     "prompt_number": 14
    },
    {
     "cell_type": "code",
     "collapsed": false,
     "input": [
      "for item, value in runner.postaction.iteritems():\n",
      "    print(item)"
     ],
     "language": "python",
     "metadata": {},
     "outputs": [
      {
       "output_type": "stream",
       "stream": "stdout",
       "text": [
        "runcommand\n",
        "simpleprint\n",
        "detectionlog\n",
        "playerstable\n"
       ]
      }
     ],
     "prompt_number": 8
    },
    {
     "cell_type": "code",
     "collapsed": false,
     "input": [
      "runner.postaction"
     ],
     "language": "python",
     "metadata": {},
     "outputs": [
      {
       "output_type": "pyout",
       "prompt_number": 9,
       "text": [
        "{u'detectionlog': <oacs.postaction.detectionlog.DetectionLog at 0x83e0470>,\n",
        " u'playerstable': <oacs.postaction.playerstable.PlayersTable at 0x83e0208>,\n",
        " u'runcommand': <oacs.postaction.runcommand.RunCommand at 0x83e04a8>,\n",
        " u'simpleprint': <oacs.postaction.simpleprint.SimplePrint at 0x83e0278>}"
       ]
      }
     ],
     "prompt_number": 9
    },
    {
     "cell_type": "markdown",
     "metadata": {},
     "source": [
      "-----------------------"
     ]
    },
    {
     "cell_type": "code",
     "collapsed": false,
     "input": [
      "print(X.describe())"
     ],
     "language": "python",
     "metadata": {},
     "outputs": [
      {
       "output_type": "stream",
       "stream": "stdout",
       "text": [
        "       reactiontime  lastcommandtime  commandtime_reactiontime  angleinaframe  \\\n",
        "count     13580.000        13580.000                 13580.000       13580.00   \n",
        "mean         74.349       104684.645                    40.125           6.76   \n",
        "std         314.958        74525.322                     8.774          35.12   \n",
        "min          40.000         8624.000                     0.000           0.00   \n",
        "25%          40.000        42863.500                    38.000           1.00   \n",
        "50%          40.000        85345.000                    41.000           2.00   \n",
        "75%          40.000       154308.500                    41.000           4.00   \n",
        "max       24440.000       302011.000                   577.000         360.00   \n",
        "\n",
        "       lastmouseeventtime  mouseeventtime_reactiontime  movementdirection  \\\n",
        "count           13578.000                    13561.000          13580.000   \n",
        "mean           112309.778                       80.419              3.253   \n",
        "std             76360.924                      457.100              2.937   \n",
        "min              9440.000                       40.000              0.000   \n",
        "25%             47720.000                       40.000              1.000   \n",
        "50%             98540.000                       40.000              1.000   \n",
        "75%            160720.000                       40.000              7.000   \n",
        "max            302440.000                    37240.000              7.000   \n",
        "\n",
        "        scoreacc    hitsacc  deathacc  capturesacc  impressivecountacc  \\\n",
        "count  13580.000  13580.000     13580    13580.000           1.358e+04   \n",
        "mean       0.009      0.019         0        0.001           7.364e-05   \n",
        "std        0.168      0.201         0        0.024           8.581e-03   \n",
        "min        0.000      0.000         0        0.000           0.000e+00   \n",
        "25%        0.000      0.000         0        0.000           0.000e+00   \n",
        "50%        0.000      0.000         0        0.000           0.000e+00   \n",
        "75%        0.000      0.000         0        0.000           0.000e+00   \n",
        "max        5.000      5.000         0        1.000           1.000e+00   \n",
        "\n",
        "       excellentcountacc  defendcountacc  assistcountacc  \\\n",
        "count          13580.000       13580.000           13580   \n",
        "mean               0.000           0.001               0   \n",
        "std                0.017           0.031               0   \n",
        "min                0.000           0.000               0   \n",
        "25%                0.000           0.000               0   \n",
        "50%                0.000           0.000               0   \n",
        "75%                0.000           0.000               0   \n",
        "max                1.000           1.000               0   \n",
        "\n",
        "       gauntletfragcountacc  fragsinarow  selfdamageeventcountacc     ducked  \\\n",
        "count                 13580    13580.000                13580.000  13580.000   \n",
        "mean                      0        0.005                    0.006      0.006   \n",
        "std                       0        0.162                    0.077      0.080   \n",
        "min                       0        0.000                    0.000      0.000   \n",
        "25%                       0        0.000                    0.000      0.000   \n",
        "50%                       0        0.000                    0.000      0.000   \n",
        "75%                       0        0.000                    0.000      0.000   \n",
        "max                       0       12.000                    1.000      1.000   \n",
        "\n",
        "          midair     weapon  weaponstate  weaponinstanthit  powerup_quad  \\\n",
        "count  13580.000  13580.000    13580.000         13580.000         13580   \n",
        "mean       0.563      5.593        0.493             0.729             0   \n",
        "std        0.496      1.518        1.074             0.444             0   \n",
        "min        0.000      0.000        0.000             0.000             0   \n",
        "25%        0.000      5.000        0.000             0.000             0   \n",
        "50%        1.000      6.000        0.000             1.000             0   \n",
        "75%        1.000      6.000        0.000             1.000             0   \n",
        "max        1.000      8.000        3.000             1.000             0   \n",
        "\n",
        "       powerup_battlesuit  powerup_haste  powerup_invisibility  \\\n",
        "count               13580          13580                 13580   \n",
        "mean                    0              0                     0   \n",
        "std                     0              0                     0   \n",
        "min                     0              0                     0   \n",
        "25%                     0              0                     0   \n",
        "50%                     0              0                     0   \n",
        "75%                     0              0                     0   \n",
        "max                     0              0                     0   \n",
        "\n",
        "       powerup_regeneration  powerup_flight    hasflag   holyshit       rank  \\\n",
        "count                 13580       13580.000  13580.000  13580.000  13580.000   \n",
        "mean                      0           0.150      0.133   1895.612      0.732   \n",
        "std                       0           0.357      0.340   5240.646      0.963   \n",
        "min                       0           0.000      0.000      0.000      0.000   \n",
        "25%                       0           0.000      0.000      0.000      0.000   \n",
        "50%                       0           0.000      0.000      0.000      0.000   \n",
        "75%                       0           0.000      0.000      0.000      2.000   \n",
        "max                       0           1.000      1.000  16386.000      2.000   \n",
        "\n",
        "       enemyhadflag      armor  speedratio  selfdamagecount  cheater  \n",
        "count     13580.000  13580.000   13580.000        13580.000     6674  \n",
        "mean         48.242    394.702      10.828            5.093        0  \n",
        "std          55.611    266.581      19.840           13.900        0  \n",
        "min         -18.000      0.000       0.000            0.000        0  \n",
        "25%           0.000    134.000       0.597            1.000        0  \n",
        "50%          14.000    398.000       1.969            1.000        0  \n",
        "75%         100.000    539.000       7.000            5.000        0  \n",
        "max         200.000   1502.000      77.000          611.000        0  \n"
       ]
      }
     ],
     "prompt_number": 13
    },
    {
     "cell_type": "code",
     "collapsed": false,
     "input": [
      "X2 = X.iloc[X.loc[:,'ducked'] == 0]\n",
      "print(X2.iloc[1:5])"
     ],
     "language": "python",
     "metadata": {},
     "outputs": [
      {
       "output_type": "stream",
       "stream": "stdout",
       "text": [
        "   reactiontime  lastcommandtime  commandtime_reactiontime  angleinaframe  \\\n",
        "1            40             3231                        38              0   \n",
        "2           520             3506                        41              0   \n",
        "3           280             3544                        38              1   \n",
        "4            40             3582                        38              3   \n",
        "\n",
        "   lastmouseeventtime  mouseeventtime_reactiontime  movementdirection  \\\n",
        "1               22920                          NaN                  0   \n",
        "2               22920                          NaN                  0   \n",
        "3               23760                          840                  0   \n",
        "4               23800                           40                  0   \n",
        "\n",
        "   scoreacc  hitsacc  deathacc  capturesacc  impressivecountacc  \\\n",
        "1         0        0         0            0                   0   \n",
        "2         0        0         0            0                   0   \n",
        "3         0        0         0            0                   0   \n",
        "4         0        0         0            0                   0   \n",
        "\n",
        "   excellentcountacc  defendcountacc  assistcountacc  gauntletfragcountacc  \\\n",
        "1                  0               0               0                     0   \n",
        "2                  0               0               0                     0   \n",
        "3                  0               0               0                     0   \n",
        "4                  0               0               0                     0   \n",
        "\n",
        "   fragsinarow  selfdamageeventcountacc  ducked  midair  weapon  weaponstate  \\\n",
        "1            0                        0       0       1       2            0   \n",
        "2            0                        0       0       0       2            0   \n",
        "3            0                        0       0       0       2            0   \n",
        "4            0                        0       0       0       2            0   \n",
        "\n",
        "   weaponinstanthit  powerup_quad  powerup_battlesuit  powerup_haste  \\\n",
        "1                 1             0                   0              0   \n",
        "2                 1             0                   0              0   \n",
        "3                 1             0                   0              0   \n",
        "4                 1             0                   0              0   \n",
        "\n",
        "   powerup_invisibility  powerup_regeneration  powerup_flight  hasflag  \\\n",
        "1                     0                     0               0        0   \n",
        "2                     0                     0               0        0   \n",
        "3                     0                     0               0        0   \n",
        "4                     0                     0               0        0   \n",
        "\n",
        "   holyshit   rank  enemyhadflag  armor  speedratio  selfdamagecount  cheater  \n",
        "1         0  16384             0      6       0.444                0        0  \n",
        "2         0  16384             0      6       0.000                0        0  \n",
        "3         0  16384             0      6       0.072                0        0  \n",
        "4         0  16384             0      6       0.403                0        0  \n"
       ]
      }
     ],
     "prompt_number": 34
    }
   ],
   "metadata": {}
  }
 ]
}