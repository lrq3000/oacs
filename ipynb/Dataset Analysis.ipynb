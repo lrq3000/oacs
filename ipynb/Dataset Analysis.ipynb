{
 "metadata": {
  "name": "Dataset Analysis"
 },
 "nbformat": 3,
 "nbformat_minor": 0,
 "worksheets": [
  {
   "cells": [
    {
     "cell_type": "markdown",
     "metadata": {},
     "source": [
      "Dataset Analysis for OACS\n",
      "=========================\n",
      "\n",
      "You can use this notebook to process, analyze and visualize your dataset in order to better understand the distribution of your data.\n",
      "\n",
      "This notebook provides a few generic code snippets to help you get started (loading the dataset and OACS structure)."
     ]
    },
    {
     "cell_type": "markdown",
     "metadata": {},
     "source": [
      "Importing libraries for your computations\n",
      "-----------------------------------------\n",
      "Place here the libraries you will need for your computations, as well as the printing options you want."
     ]
    },
    {
     "cell_type": "code",
     "collapsed": false,
     "input": [
      "# Load necessary libraries for your computations\n",
      "import pandas as pd\n",
      "import numpy as np\n",
      "import matplotlib.pylab as plt\n",
      "import math\n",
      "\n",
      "# Setting a few printing options\n",
      "pd.set_option('display.max_colwidth', 200)\n",
      "pd.set_option('display.max_columns', 200)\n",
      "pd.set_option('display.max_rows',200)\n",
      "pd.set_option('display.precision',10)\n",
      "pd.set_option('expand_frame_repr', True)\n",
      "pd.set_option('line_width', 150)\n",
      "pd.set_option('display.notebook_repr_html', True)\n",
      "\n",
      "# A nice function to print 2 things side-by-side, by Wes McKinney\n",
      "def side_by_side(*objs, **kwds):\n",
      "    from pandas.core.common import adjoin\n",
      "    space = kwds.get('space', 4)\n",
      "    reprs = [repr(obj).split('\\n') for obj in objs]\n",
      "    print adjoin(space, *reprs)"
     ],
     "language": "python",
     "metadata": {},
     "outputs": [],
     "prompt_number": 1
    },
    {
     "cell_type": "markdown",
     "metadata": {},
     "source": [
      "Loading the OACS structure\n",
      "--------------------------\n",
      "The code below is the first initialization step necessary to load the program. Just execute it and go to the next steps.\n",
      "\n",
      "Note: you should reexecute this code everytime you change the sourcecode or the config file, but not when you just want to reload the data files (use instead \u00b4runner.inputparser.load()\u00b4 )."
     ]
    },
    {
     "cell_type": "code",
     "collapsed": false,
     "input": [
      "# Forcefully reload all the OACS modules\n",
      "%load_ext autoreload\n",
      "%autoreload 2\n",
      "import oacs.main\n",
      "reload(oacs.main)\n",
      "\n",
      "# Clean up a few stuff\n",
      "try:\n",
      "    del runner.vars\n",
      "    del runner\n",
      "except Exception, e:\n",
      "    pass\n",
      "\n",
      "# Load the base software\n",
      "runner = oacs.main.main(['--script']) # Note that here you can pass any commandline argument you want, or you can just set them in the configuration file since the application considers commandline arguments and config options exactly the same."
     ],
     "language": "python",
     "metadata": {},
     "outputs": [],
     "prompt_number": 2
    },
    {
     "cell_type": "markdown",
     "metadata": {},
     "source": [
      "Phase 1 - Learning the parameters\n",
      "-----------------------\n",
      "Execute the code below to learn the parameters, and to show the parameters you've just learned.\n",
      "\n",
      "Note: use the configuration file to specify the modules you want to use for learning."
     ]
    },
    {
     "cell_type": "code",
     "collapsed": false,
     "input": [
      "# Clean the previously learned parameters if any, else they will be reused and the result will be different\n",
      "del runner.vars\n",
      "runner.vars = dict()\n",
      "\n",
      "# Reload the configuration in case it was changed\n",
      "runner.config.reload()\n",
      "\n",
      "# Load the datafile and learn the parameters\n",
      "#%timeit runner.learn()\n",
      "runner.learn()"
     ],
     "language": "python",
     "metadata": {},
     "outputs": [
      {
       "output_type": "pyout",
       "prompt_number": 4,
       "text": [
        "True"
       ]
      }
     ],
     "prompt_number": 4
    },
    {
     "cell_type": "markdown",
     "metadata": {},
     "source": [
      "Use the code below to benchmark the time spent for learning (you can then compare different algorithms):"
     ]
    },
    {
     "cell_type": "code",
     "collapsed": false,
     "input": [
      "from oacs.lib.debug.debug import *\n",
      "\n",
      "@showprofile\n",
      "@profileit\n",
      "def test():\n",
      "    runner.learn()\n",
      "test()"
     ],
     "language": "python",
     "metadata": {},
     "outputs": []
    },
    {
     "cell_type": "markdown",
     "metadata": {},
     "source": [
      "After learning, you can use _runner.vars_ to print all the variables generated by the learning (and also the dataset, which is usually stored in X and Y):"
     ]
    },
    {
     "cell_type": "code",
     "collapsed": false,
     "input": [
      "# Print all the variables and learned parameters\n",
      "print(\"List of variables: %s\" % runner.vars.keys())\n",
      "runner.vars"
     ],
     "language": "python",
     "metadata": {},
     "outputs": [
      {
       "output_type": "stream",
       "stream": "stdout",
       "text": [
        "List of variables: []\n"
       ]
      },
      {
       "output_type": "pyout",
       "prompt_number": 3,
       "text": [
        "{}"
       ]
      }
     ],
     "prompt_number": 3
    },
    {
     "cell_type": "markdown",
     "metadata": {},
     "source": [
      "Phase 2 - Detection loop\n",
      "-------------------\n",
      "After learning the parameters (using the code snippets above), you can then run the main program and detect cheaters by running the code below.\n",
      "\n",
      "Note: once launched, the following snippet will run indefinitely, but you can stop it at anytime by pressing the STOP button of IPython Notebook, or in the menu Kernel > Interrupt."
     ]
    },
    {
     "cell_type": "code",
     "collapsed": false,
     "input": [
      "# Load the runner only\n",
      "from oacs.run import Runner\n",
      "reload(oacs.run)\n",
      "\n",
      "# Load the previously learnt parameters\n",
      "Runner.load_vars(runner.config.config['parametersfile'])\n",
      "\n",
      "# Launch the detection loop!\n",
      "runner.run()"
     ],
     "language": "python",
     "metadata": {},
     "outputs": [
      {
       "output_type": "stream",
       "stream": "stdout",
       "text": [
        "0.31969087417\n",
        "Cheater detected!\n",
        "0.0202496130744"
       ]
      },
      {
       "output_type": "stream",
       "stream": "stdout",
       "text": [
        "\n",
        "Cheater detected!\n",
        "0.214610275058"
       ]
      },
      {
       "output_type": "stream",
       "stream": "stdout",
       "text": [
        "\n",
        "Cheater detected!\n",
        "0.945093864832"
       ]
      },
      {
       "output_type": "stream",
       "stream": "stdout",
       "text": [
        "\n"
       ]
      },
      {
       "output_type": "pyout",
       "prompt_number": 7,
       "text": [
        "0"
       ]
      }
     ],
     "prompt_number": 7
    },
    {
     "cell_type": "markdown",
     "metadata": {},
     "source": [
      "Enter below your own data analysis code\n",
      "--------------\n",
      "You can enter below your own code to analyse the data set and any other data/variable generated by OACS (you should access _runner.vars_)."
     ]
    },
    {
     "cell_type": "code",
     "collapsed": false,
     "input": [
      "# Predict with a sample example\n",
      "%timeit runner.classifier.predict(x=X.irow(1), **runner.vars)\n",
      "Pred = runner.classifier.predict(x=X.irow(1), **runner.vars)\n",
      "print(Pred)"
     ],
     "language": "python",
     "metadata": {},
     "outputs": []
    },
    {
     "cell_type": "code",
     "collapsed": false,
     "input": [
      "runner.updatevars(runner.inputparser.load())\n",
      "X = runner.vars['X']\n",
      "Y = runner.vars['Y']\n",
      "X"
     ],
     "language": "python",
     "metadata": {},
     "outputs": []
    },
    {
     "cell_type": "code",
     "collapsed": false,
     "input": [
      "for var in runner.inputparser.read():\n",
      "    print(var['X'])"
     ],
     "language": "python",
     "metadata": {},
     "outputs": []
    },
    {
     "cell_type": "code",
     "collapsed": false,
     "input": [
      "types = pd.read_csv(runner.config.config['typesfile'], index_col=None, header=0)\n",
      "types = types.ix[0, :]\n"
     ],
     "language": "python",
     "metadata": {},
     "outputs": []
    },
    {
     "cell_type": "markdown",
     "metadata": {},
     "source": [
      "Time testing\n",
      "------------"
     ]
    },
    {
     "cell_type": "code",
     "collapsed": false,
     "input": [
      "%timeit runner.classifier.mean(X)\n",
      "%timeit runner.classifier.mean_alt(X)"
     ],
     "language": "python",
     "metadata": {},
     "outputs": []
    },
    {
     "cell_type": "code",
     "collapsed": false,
     "input": [
      "%timeit runner.classifier.mean(X)\n",
      "%timeit runner.classifier.sigma2(X, mu)\n",
      "%timeit runner.classifier.sigma2_alt(X, mu)"
     ],
     "language": "python",
     "metadata": {},
     "outputs": []
    },
    {
     "cell_type": "markdown",
     "metadata": {},
     "source": [
      "Other tests\n",
      "-----------"
     ]
    },
    {
     "cell_type": "code",
     "collapsed": false,
     "input": [
      "gen = runner.inputparser.read(skip_to_end=True)\n",
      "for dictofvars in gen:\n",
      "    print(dictofvars)"
     ],
     "language": "python",
     "metadata": {},
     "outputs": [],
     "prompt_number": 7
    },
    {
     "cell_type": "code",
     "collapsed": false,
     "input": [
      "for item, value in runner.postaction.iteritems():\n",
      "    print(item)"
     ],
     "language": "python",
     "metadata": {},
     "outputs": [
      {
       "output_type": "stream",
       "stream": "stdout",
       "text": [
        "runcommand\n",
        "simpleprint\n",
        "detectionlog\n",
        "playerstable\n"
       ]
      }
     ],
     "prompt_number": 8
    },
    {
     "cell_type": "code",
     "collapsed": false,
     "input": [
      "runner.postaction"
     ],
     "language": "python",
     "metadata": {},
     "outputs": [
      {
       "output_type": "pyout",
       "prompt_number": 9,
       "text": [
        "{u'detectionlog': <oacs.postaction.detectionlog.DetectionLog at 0x83e0470>,\n",
        " u'playerstable': <oacs.postaction.playerstable.PlayersTable at 0x83e0208>,\n",
        " u'runcommand': <oacs.postaction.runcommand.RunCommand at 0x83e04a8>,\n",
        " u'simpleprint': <oacs.postaction.simpleprint.SimplePrint at 0x83e0278>}"
       ]
      }
     ],
     "prompt_number": 9
    },
    {
     "cell_type": "markdown",
     "metadata": {},
     "source": [
      "-----------------------"
     ]
    },
    {
     "cell_type": "code",
     "collapsed": false,
     "input": [
      "# Printing angle in a frame in function of the reaction time and with the size proportional to the number of framerepeat)\n",
      "X = runner.vars['X']\n",
      "plt.scatter(X.reactiontime, X.angleinaframe, s=X.framerepeat)"
     ],
     "language": "python",
     "metadata": {},
     "outputs": [
      {
       "output_type": "pyout",
       "prompt_number": 31,
       "text": [
        "<matplotlib.collections.PathCollection at 0x8335da0>"
       ]
      },
      {
       "output_type": "display_data",
       "png": "[encoded data removed]"
      }
     ],
     "prompt_number": 31
    },
    {
     "cell_type": "markdown",
     "metadata": {},
     "source": [
      "------------------------------------\n",
      "CANS clusters printing\n",
      "------------\n",
      "Learn CANS parameters first, and then execute the code below to print the list of found clusters."
     ]
    },
    {
     "cell_type": "code",
     "collapsed": false,
     "input": [
      "if 'Clusters' in runner.vars:\n",
      "    clusters = runner.vars['Clusters']\n",
      "runner.classifier.printclusters(clusters)"
     ],
     "language": "python",
     "metadata": {},
     "outputs": [
      {
       "output_type": "stream",
       "stream": "stdout",
       "text": [
        "Tableau 1\n",
        "     lastmouseeventtime\n",
        "     lastcommandtime\n",
        "     midair\n",
        "     movementdirection\n",
        "\n",
        "Tableau 2\n",
        "     ducked\n",
        "     reactiontime\n",
        "     selfdamagecount\n",
        "     powerup_quad\n",
        "\n",
        "Tableau 3\n",
        "     speedratio\n",
        "     commandtime_reactiontime\n",
        "     weaponstate\n",
        "     angleinaframe\n",
        "\n",
        "Tableau 4\n",
        "     mouseeventtime_reactiontime\n",
        "\n",
        "Tableau 5\n",
        "     scoreacc\n",
        "\n",
        "Tableau 6\n",
        "     hitsacc\n",
        "\n",
        "Tableau 7\n",
        "     deathacc\n",
        "\n",
        "Tableau 8\n",
        "     capturesacc\n",
        "\n",
        "Tableau 9\n",
        "     impressivecountacc\n",
        "\n",
        "Tableau 10\n",
        "     excellentcountacc\n",
        "\n",
        "Tableau 11\n",
        "     defendcountacc\n",
        "\n",
        "Tableau 12\n",
        "     assistcountacc\n",
        "\n",
        "Tableau 13\n",
        "     gauntletfragcountacc\n",
        "\n",
        "Tableau 14\n",
        "     fragsinarow\n",
        "\n",
        "Tableau 15\n",
        "     selfdamageeventcountacc\n",
        "\n",
        "Tableau 16\n",
        "     weapon\n",
        "\n",
        "Tableau 17\n",
        "     weaponinstanthit\n",
        "\n",
        "Tableau 18\n",
        "     powerup_battlesuit\n",
        "\n",
        "Tableau 19\n",
        "     powerup_haste\n",
        "\n",
        "Tableau 20\n",
        "     powerup_invisibility\n",
        "\n",
        "Tableau 21\n",
        "     powerup_regeneration\n",
        "\n",
        "Tableau 22\n",
        "     powerup_flight\n",
        "\n",
        "Tableau 23\n",
        "     hasflag\n",
        "\n",
        "Tableau 24\n",
        "     holyshit\n",
        "\n",
        "Tableau 25\n",
        "     rank\n",
        "\n",
        "Tableau 26\n",
        "     enemyhadflag\n",
        "\n",
        "Tableau 27\n",
        "     armor\n",
        "\n"
       ]
      }
     ],
     "prompt_number": 5
    },
    {
     "cell_type": "markdown",
     "metadata": {},
     "source": [
      "Principal Component Analysis (PCA) Dimensionality Reduction\n",
      "-----------------------------------------------------------\n",
      "The following code will perform a PCA dimensionality reduction in 2D so that you can get an idea on how your data distribution is."
     ]
    },
    {
     "cell_type": "code",
     "collapsed": false,
     "input": [
      "K = 2\n",
      "Sigma2 = runner.vars['Sigma2']\n",
      "U, S, V = linalg.svd(Sigma2)\n",
      "V = V.T\n",
      "X = runner.vars['X']\n",
      "#U = pd.DataFrame(U, columns=X.columns, index=X.columns)\n",
      "Z = pd.DataFrame(np.dot(X, U[:, 0:K]))\n",
      "#plt.scatter(Z.ix[:,0], Z.ix[:,1])#, s=X.framerepeat)\n",
      "print(Z)"
     ],
     "language": "python",
     "metadata": {},
     "outputs": [
      {
       "output_type": "stream",
       "stream": "stdout",
       "text": [
        "<class 'pandas.core.frame.DataFrame'>\n",
        "Int64Index: 1049940 entries, 0 to 1049939\n",
        "Data columns (total 2 columns):\n",
        "0    1049940  non-null values\n",
        "1    1049940  non-null values\n",
        "dtypes: float64(2)\n"
       ]
      }
     ],
     "prompt_number": 14
    },
    {
     "cell_type": "code",
     "collapsed": false,
     "input": [
      "import random\n",
      "rows = random.sample(Z.index, 100000)\n",
      "#X = runner.vars['X']\n",
      "plt.scatter(Z.ix[rows,0], Z.ix[rows,1])#, s=X.framerepeat))\n",
      "plt.show()\n",
      "plt.hist(Z.ix[rows,0], bins=1000, normed=True)\n",
      "plt.show()\n",
      "plt.hist(Z.ix[rows,1], bins=1000, normed=True)\n",
      "plt.show()"
     ],
     "language": "python",
     "metadata": {},
     "outputs": [
      {
       "output_type": "display_data",
       "png": "[encoded data removed]"
      },
      {
       "output_type": "display_data",
       "png": "[encoded data removed]"
      },
      {
       "output_type": "display_data",
       "png": "[encoded data removed]"
      }
     ],
     "prompt_number": 18
    },
    {
     "cell_type": "code",
     "collapsed": false,
     "input": [
      "print(X.shape)\n",
      "print(U.shape)\n",
      "print(U[:, 0:K])"
     ],
     "language": "python",
     "metadata": {},
     "outputs": [
      {
       "output_type": "stream",
       "stream": "stdout",
       "text": [
        "(1049940, 35)\n",
        "(35L, 35L)"
       ]
      },
      {
       "output_type": "stream",
       "stream": "stdout",
       "text": [
        "\n",
        "[[ -1.31390814e-03  -9.99447520e-01]\n",
        " [ -7.56093383e-05  -5.67372176e-03]\n",
        " [  1.83290245e-05  -9.76529019e-04]\n",
        " [  0.00000000e+00  -6.77626358e-21]\n",
        " [  1.88296856e-05   4.97462085e-04]\n",
        " [  0.00000000e+00   0.00000000e+00]\n",
        " [  0.00000000e+00   0.00000000e+00]\n",
        " [  0.00000000e+00   0.00000000e+00]\n",
        " [  0.00000000e+00   0.00000000e+00]\n",
        " [  0.00000000e+00   0.00000000e+00]\n",
        " [  1.30455780e-08   2.89786237e-08]\n",
        " [  0.00000000e+00   0.00000000e+00]\n",
        " [  0.00000000e+00   0.00000000e+00]\n",
        " [  1.75292304e-09   4.03821650e-08]\n",
        " [  0.00000000e+00   0.00000000e+00]\n",
        " [ -8.24261394e-09  -3.45842770e-06]\n",
        " [  2.37929509e-08  -3.13423547e-07]\n",
        " [  1.39122072e-06   3.41942251e-05]\n",
        " [  2.51821335e-05   5.51452234e-04]\n",
        " [  5.89541618e-06   1.55139739e-04]\n",
        " [ -2.15042669e-06   9.94752953e-06]\n",
        " [  1.00459294e-06   1.13625897e-05]\n",
        " [  7.94220630e-08   8.77873131e-07]\n",
        " [  5.50720953e-07   2.55662507e-06]\n",
        " [  1.32703406e-07   2.38331563e-06]\n",
        " [  0.00000000e+00   0.00000000e+00]\n",
        " [  0.00000000e+00   0.00000000e+00]\n",
        " [  0.00000000e+00   0.00000000e+00]\n",
        " [  0.00000000e+00   0.00000000e+00]\n",
        " [ -9.99995368e-01   1.36087621e-03]\n",
        " [  0.00000000e+00   0.00000000e+00]\n",
        " [  2.73498143e-03   1.56961517e-02]\n",
        " [  4.58541100e-06   3.38861109e-04]\n",
        " [  1.64624565e-04  -3.61837784e-04]\n",
        " [ -1.52786475e-04  -2.86786691e-02]]"
       ]
      },
      {
       "output_type": "stream",
       "stream": "stdout",
       "text": [
        "\n"
       ]
      }
     ],
     "prompt_number": 5
    },
    {
     "cell_type": "markdown",
     "metadata": {},
     "source": [
      "Only preoptimization\n",
      "--------------------"
     ]
    },
    {
     "cell_type": "code",
     "collapsed": false,
     "input": [
      "d = runner.inputparser.load()\n",
      "x = d['X']"
     ],
     "language": "python",
     "metadata": {},
     "outputs": [],
     "prompt_number": 3
    },
    {
     "cell_type": "code",
     "collapsed": false,
     "input": [
      "runner.vars['X'] = x\n",
      "runner.generic_call(runner.preoptimization, 'optimize')\n",
      "x2 = runner.vars['X']"
     ],
     "language": "python",
     "metadata": {},
     "outputs": [],
     "prompt_number": 4
    },
    {
     "cell_type": "code",
     "collapsed": false,
     "input": [
      "import random\n",
      "X = runner.vars['X']\n",
      "rows = random.sample(X.index, 10000)\n",
      "plt.scatter(X.ix[rows,0], X.ix[rows,1])#, s=X.framerepeat))\n",
      "plt.show()\n",
      "plt.hist(X.ix[rows,0], bins=1000, normed=True)\n",
      "plt.show()"
     ],
     "language": "python",
     "metadata": {},
     "outputs": [
      {
       "output_type": "display_data",
       "png": "[encoded data removed]"
      },
      {
       "output_type": "display_data",
       "png": "[encoded data removed]"
      }
     ],
     "prompt_number": 16
    },
    {
     "cell_type": "code",
     "collapsed": false,
     "input": [],
     "language": "python",
     "metadata": {},
     "outputs": []
    }
   ],
   "metadata": {}
  }
 ]
}