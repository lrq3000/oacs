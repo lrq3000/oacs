{
 "metadata": {
  "name": "Dataset Analysis"
 },
 "nbformat": 3,
 "nbformat_minor": 0,
 "worksheets": [
  {
   "cells": [
    {
     "cell_type": "markdown",
     "metadata": {},
     "source": [
      "Dataset Analysis for OACS\n",
      "=========================\n",
      "\n",
      "You can use this notebook to process, analyze and visualize your dataset in order to better understand the distribution of your data.\n",
      "\n",
      "This notebook provides a few generic code snippets to help you get started (loading the dataset and OACS structure)."
     ]
    },
    {
     "cell_type": "markdown",
     "metadata": {},
     "source": [
      "Loading the OACS structure\n",
      "--------------------------\n",
      "The code below is the first initialization step necessary to load the program. Just execute it and go to the next steps.\n",
      "\n",
      "Note: you should reexecute this code everytime you change the sourcecode or the config file, but not when you just want to reload the data files (use instead \u00b4runner.inputparser.load()\u00b4 )."
     ]
    },
    {
     "cell_type": "code",
     "collapsed": false,
     "input": [
      "%load_ext autoreload\n",
      "%autoreload 2\n",
      "import oacs.main\n",
      "reload(oacs.main)\n",
      "# Clean up a few stuff\n",
      "try:\n",
      "    del runner.vars\n",
      "    del runner\n",
      "except Exception, e:\n",
      "    pass\n",
      "# Load the base software\n",
      "runner = oacs.main.main(['--script', '--inputfile', 'data.txt'])\n",
      "\n",
      "# Load necessary libraries for your computations\n",
      "import pandas as pd\n",
      "import numpy as np"
     ],
     "language": "python",
     "metadata": {},
     "outputs": [],
     "prompt_number": 6
    },
    {
     "cell_type": "code",
     "collapsed": false,
     "input": [
      "#%timeit runner.learn()\n",
      "runner.learn()\n",
      "#runner.vars"
     ],
     "language": "python",
     "metadata": {},
     "outputs": [
      {
       "output_type": "pyout",
       "prompt_number": 7,
       "text": [
        "True"
       ]
      }
     ],
     "prompt_number": 7
    },
    {
     "cell_type": "markdown",
     "metadata": {},
     "source": [
      "Some test code\n",
      "--------------\n",
      "Below are some test code (TODO: add generic code to read, describe and visualize the data)."
     ]
    },
    {
     "cell_type": "code",
     "collapsed": false,
     "input": [
      "# Predict with a sample example\n",
      "%timeit runner.classifier.predict(x=X.irow(1), **runner.vars)\n",
      "Pred = runner.classifier.predict(x=X.irow(1), **runner.vars)\n",
      "print(Pred)"
     ],
     "language": "python",
     "metadata": {},
     "outputs": [
      {
       "output_type": "stream",
       "stream": "stdout",
       "text": [
        "1000 loops, best of 3: 692 us per loop\n",
        "{'Pred': 0.0002508650129877307}"
       ]
      },
      {
       "output_type": "stream",
       "stream": "stdout",
       "text": [
        "\n"
       ]
      }
     ],
     "prompt_number": 232
    },
    {
     "cell_type": "code",
     "collapsed": false,
     "input": [
      "runner.updatevars(runner.inputparser.load())\n",
      "X = runner.vars['X']\n",
      "Y = runner.vars['Y']\n",
      "X"
     ],
     "language": "python",
     "metadata": {},
     "outputs": [
      {
       "output_type": "pyout",
       "prompt_number": 3,
       "text": [
        "<class 'pandas.core.frame.DataFrame'>\n",
        "Int64Index: 166 entries, 0 to 165\n",
        "Data columns (total 4 columns):\n",
        "reactiontime    166  non-null values\n",
        "fragsinarow     166  non-null values\n",
        "armor           166  non-null values\n",
        "framerepeat     166  non-null values\n",
        "dtypes: int64(4)"
       ]
      }
     ],
     "prompt_number": 3
    },
    {
     "cell_type": "code",
     "collapsed": false,
     "input": [
      "for var in runner.inputparser.read():\n",
      "    print(var['X'])"
     ],
     "language": "python",
     "metadata": {},
     "outputs": [
      {
       "output_type": "stream",
       "stream": "stdout",
       "text": [
        "   reactiontime  fragsinarow  armor  framerepeat\n",
        "0         19960            0      0           12\n",
        "   reactiontime  fragsinarow  armor  framerepeat\n",
        "0           520            0      0           24\n",
        "   reactiontime  fragsinarow  armor  framerepeat\n",
        "0          1000            0      0           24\n",
        "   reactiontime  fragsinarow  armor  framerepeat\n",
        "0          1000            0      0           49\n",
        "   reactiontime  fragsinarow  armor  framerepeat\n",
        "0          2000            0      0           24"
       ]
      },
      {
       "output_type": "stream",
       "stream": "stdout",
       "text": [
        "\n",
        "   reactiontime  fragsinarow  armor  framerepeat\n",
        "0          1000            0      0           24\n",
        "   reactiontime  fragsinarow  armor  framerepeat\n",
        "0          1000            0      0           49\n",
        "   reactiontime  fragsinarow  armor  framerepeat\n",
        "0          2000            0      0           24\n",
        "   reactiontime  fragsinarow  armor  framerepeat\n",
        "0          1000            0      0           24"
       ]
      },
      {
       "output_type": "stream",
       "stream": "stdout",
       "text": [
        "\n",
        "   reactiontime  fragsinarow  armor  framerepeat\n",
        "0          1000            0      0           49\n",
        "   reactiontime  fragsinarow  armor  framerepeat\n",
        "0          2000            0      0           24\n",
        "   reactiontime  fragsinarow  armor  framerepeat\n",
        "0          1000            0      0           24\n",
        "   reactiontime  fragsinarow  armor  framerepeat\n",
        "0          1000            0      0           49"
       ]
      },
      {
       "output_type": "stream",
       "stream": "stdout",
       "text": [
        "\n",
        "   reactiontime  fragsinarow  armor  framerepeat\n",
        "0          2000            0      0           24\n",
        "   reactiontime  fragsinarow  armor  framerepeat\n",
        "0          1000            0      0           49\n",
        "   reactiontime  fragsinarow  armor  framerepeat\n",
        "0          2000            0      0           24\n",
        "   reactiontime  fragsinarow  armor  framerepeat\n",
        "0          1000            0      0           24"
       ]
      },
      {
       "output_type": "stream",
       "stream": "stdout",
       "text": [
        "\n",
        "   reactiontime  fragsinarow  armor  framerepeat\n",
        "0          1000            0      0           49\n",
        "   reactiontime  fragsinarow  armor  framerepeat\n",
        "0          2000            0      0            0\n",
        "   reactiontime  fragsinarow  armor  framerepeat\n",
        "0          9440            0      0            0\n",
        "   reactiontime  fragsinarow  armor  framerepeat\n",
        "0            40            0      0           49"
       ]
      },
      {
       "output_type": "stream",
       "stream": "stdout",
       "text": [
        "\n",
        "   reactiontime  fragsinarow  armor  framerepeat\n",
        "0          2000            0      0           24\n",
        "   reactiontime  fragsinarow  armor  framerepeat\n",
        "0          1000            0      0           24\n",
        "   reactiontime  fragsinarow  armor  framerepeat\n",
        "0          1000            0      0           49\n",
        "   reactiontime  fragsinarow  armor  framerepeat\n",
        "0          2000            0      0           24"
       ]
      },
      {
       "output_type": "stream",
       "stream": "stdout",
       "text": [
        "\n",
        "   reactiontime  fragsinarow  armor  framerepeat\n",
        "0          1000            0      0           24\n",
        "   reactiontime  fragsinarow  armor  framerepeat\n",
        "0          1000            0      0           49\n",
        "   reactiontime  fragsinarow  armor  framerepeat\n",
        "0          2000            0      0           24\n",
        "   reactiontime  fragsinarow  armor  framerepeat\n",
        "0          1000            0      0           24"
       ]
      },
      {
       "output_type": "stream",
       "stream": "stdout",
       "text": [
        "\n",
        "   reactiontime  fragsinarow  armor  framerepeat\n",
        "0          1000            0      0           49\n",
        "   reactiontime  fragsinarow  armor  framerepeat\n",
        "0          2000            0      0           24\n",
        "   reactiontime  fragsinarow  armor  framerepeat\n",
        "0          1000            0      0           49\n",
        "   reactiontime  fragsinarow  armor  framerepeat\n",
        "0          2000            0      0           24"
       ]
      },
      {
       "output_type": "stream",
       "stream": "stdout",
       "text": [
        "\n",
        "   reactiontime  fragsinarow  armor  framerepeat\n",
        "0          1000            0      0           24\n",
        "   reactiontime  fragsinarow  armor  framerepeat\n",
        "0          1000            0      0           49\n",
        "   reactiontime  fragsinarow  armor  framerepeat\n",
        "0          2000            0      0           24"
       ]
      },
      {
       "output_type": "stream",
       "stream": "stdout",
       "text": [
        "\n",
        "   reactiontime  fragsinarow  armor  framerepeat\n",
        "0          1000            0      0           24\n",
        "   reactiontime  fragsinarow  armor  framerepeat\n",
        "0          1000            0      0           49\n",
        "   reactiontime  fragsinarow  armor  framerepeat\n",
        "0          2000            0      0           24\n",
        "   reactiontime  fragsinarow  armor  framerepeat\n",
        "0          1000            0      0           24"
       ]
      },
      {
       "output_type": "stream",
       "stream": "stdout",
       "text": [
        "\n",
        "   reactiontime  fragsinarow  armor  framerepeat\n",
        "0          1000            0      0           49\n",
        "   reactiontime  fragsinarow  armor  framerepeat\n",
        "0          2000            0      0           24\n",
        "   reactiontime  fragsinarow  armor  framerepeat\n",
        "0          1000            0      0           49\n",
        "   reactiontime  fragsinarow  armor  framerepeat\n",
        "0          2000            0      0           24"
       ]
      },
      {
       "output_type": "stream",
       "stream": "stdout",
       "text": [
        "\n",
        "   reactiontime  fragsinarow  armor  framerepeat\n",
        "0          1000            0      0           24\n",
        "   reactiontime  fragsinarow  armor  framerepeat\n",
        "0          1000            0      0           49\n",
        "   reactiontime  fragsinarow  armor  framerepeat\n",
        "0          2000            0      0           24\n",
        "   reactiontime  fragsinarow  armor  framerepeat\n",
        "0          1000            0      0           24"
       ]
      },
      {
       "output_type": "stream",
       "stream": "stdout",
       "text": [
        "\n",
        "   reactiontime  fragsinarow  armor  framerepeat\n",
        "0          1000            0      0           49\n",
        "   reactiontime  fragsinarow  armor  framerepeat\n",
        "0          2000            0      0           24\n",
        "   reactiontime  fragsinarow  armor  framerepeat\n",
        "0          1000            0      0           24\n",
        "   reactiontime  fragsinarow  armor  framerepeat\n",
        "0          1000            0      0           49"
       ]
      },
      {
       "output_type": "stream",
       "stream": "stdout",
       "text": [
        "\n",
        "   reactiontime  fragsinarow  armor  framerepeat\n",
        "0          2000            0      0           24\n",
        "   reactiontime  fragsinarow  armor  framerepeat\n",
        "0          1000            0      0           49\n",
        "   reactiontime  fragsinarow  armor  framerepeat\n",
        "0          2000            0      0           24\n",
        "   reactiontime  fragsinarow  armor  framerepeat\n",
        "0          1000            0      0           24"
       ]
      },
      {
       "output_type": "stream",
       "stream": "stdout",
       "text": [
        "\n",
        "   reactiontime  fragsinarow  armor  framerepeat\n",
        "0          1000            0      0           49\n",
        "   reactiontime  fragsinarow  armor  framerepeat\n",
        "0          2000            0      0           24\n",
        "   reactiontime  fragsinarow  armor  framerepeat\n",
        "0          1000            0      0           24\n",
        "   reactiontime  fragsinarow  armor  framerepeat\n",
        "0          1000            0      0           49"
       ]
      },
      {
       "output_type": "stream",
       "stream": "stdout",
       "text": [
        "\n",
        "   reactiontime  fragsinarow  armor  framerepeat\n",
        "0          2000            0      0           24\n",
        "   reactiontime  fragsinarow  armor  framerepeat\n",
        "0          1000            0      0           24\n",
        "   reactiontime  fragsinarow  armor  framerepeat\n",
        "0          1000            0      0           49\n",
        "   reactiontime  fragsinarow  armor  framerepeat\n",
        "0          2000            0      0           24"
       ]
      },
      {
       "output_type": "stream",
       "stream": "stdout",
       "text": [
        "\n",
        "   reactiontime  fragsinarow  armor  framerepeat\n",
        "0          1000            0      0           24\n",
        "   reactiontime  fragsinarow  armor  framerepeat\n",
        "0          1000            0      0           49\n",
        "   reactiontime  fragsinarow  armor  framerepeat\n",
        "0          2000            0      0           24\n",
        "   reactiontime  fragsinarow  armor  framerepeat\n",
        "0          1000            0      0           49"
       ]
      },
      {
       "output_type": "stream",
       "stream": "stdout",
       "text": [
        "\n",
        "   reactiontime  fragsinarow  armor  framerepeat\n",
        "0          2000            0      0           24\n",
        "   reactiontime  fragsinarow  armor  framerepeat\n",
        "0          1000            0      0           24\n",
        "   reactiontime  fragsinarow  armor  framerepeat\n",
        "0          1000            0      0           49\n",
        "   reactiontime  fragsinarow  armor  framerepeat\n",
        "0          2000            0      0           24"
       ]
      },
      {
       "output_type": "stream",
       "stream": "stdout",
       "text": [
        "\n",
        "   reactiontime  fragsinarow  armor  framerepeat\n",
        "0          1000            0      0           24\n",
        "   reactiontime  fragsinarow  armor  framerepeat\n",
        "0          1000            0      0           49\n",
        "   reactiontime  fragsinarow  armor  framerepeat\n",
        "0          2000            0      0           24\n",
        "   reactiontime  fragsinarow  armor  framerepeat\n",
        "0          1000            0      0           24"
       ]
      },
      {
       "output_type": "stream",
       "stream": "stdout",
       "text": [
        "\n",
        "   reactiontime  fragsinarow  armor  framerepeat\n",
        "0          1000            0      0           49\n",
        "   reactiontime  fragsinarow  armor  framerepeat\n",
        "0          2000            0      0           24\n",
        "   reactiontime  fragsinarow  armor  framerepeat\n",
        "0          1000            0      0           49\n",
        "   reactiontime  fragsinarow  armor  framerepeat\n",
        "0          2000            0      0           24"
       ]
      },
      {
       "output_type": "stream",
       "stream": "stdout",
       "text": [
        "\n",
        "   reactiontime  fragsinarow  armor  framerepeat\n",
        "0          1000            0      0           24\n",
        "   reactiontime  fragsinarow  armor  framerepeat\n",
        "0          1000            0      0           49\n",
        "   reactiontime  fragsinarow  armor  framerepeat\n",
        "0          2000            0      0           24\n",
        "   reactiontime  fragsinarow  armor  framerepeat\n",
        "0          1000            0      0           24"
       ]
      },
      {
       "output_type": "stream",
       "stream": "stdout",
       "text": [
        "\n",
        "   reactiontime  fragsinarow  armor  framerepeat\n",
        "0          1000            0      0           49\n",
        "   reactiontime  fragsinarow  armor  framerepeat\n",
        "0          2000            0      0           24\n",
        "   reactiontime  fragsinarow  armor  framerepeat\n",
        "0          1000            0      0           24\n",
        "   reactiontime  fragsinarow  armor  framerepeat\n",
        "0          1000            0      0           49"
       ]
      },
      {
       "output_type": "stream",
       "stream": "stdout",
       "text": [
        "\n",
        "   reactiontime  fragsinarow  armor  framerepeat\n",
        "0          2000            0      0           24\n",
        "   reactiontime  fragsinarow  armor  framerepeat\n",
        "0          1000            0      0           49\n",
        "   reactiontime  fragsinarow  armor  framerepeat\n",
        "0          2000            0      0           24\n",
        "   reactiontime  fragsinarow  armor  framerepeat\n",
        "0          1000            0      0           24"
       ]
      },
      {
       "output_type": "stream",
       "stream": "stdout",
       "text": [
        "\n",
        "   reactiontime  fragsinarow  armor  framerepeat\n",
        "0          1000            0      0           49\n",
        "   reactiontime  fragsinarow  armor  framerepeat\n",
        "0          2000            0      0           24\n",
        "   reactiontime  fragsinarow  armor  framerepeat\n",
        "0          1000            0      0           24\n",
        "   reactiontime  fragsinarow  armor  framerepeat\n",
        "0          1000            0      0           49"
       ]
      },
      {
       "output_type": "stream",
       "stream": "stdout",
       "text": [
        "\n",
        "   reactiontime  fragsinarow  armor  framerepeat\n",
        "0          2000            0      0           24\n",
        "   reactiontime  fragsinarow  armor  framerepeat\n",
        "0          1000            0      0           24\n",
        "   reactiontime  fragsinarow  armor  framerepeat\n",
        "0          1000            0      0           49\n",
        "   reactiontime  fragsinarow  armor  framerepeat\n",
        "0          2000            0      0           24"
       ]
      },
      {
       "output_type": "stream",
       "stream": "stdout",
       "text": [
        "\n",
        "   reactiontime  fragsinarow  armor  framerepeat\n",
        "0          1000            0      0           49\n",
        "   reactiontime  fragsinarow  armor  framerepeat\n",
        "0          2000            0      0           24\n",
        "   reactiontime  fragsinarow  armor  framerepeat\n",
        "0          1000            0      0           24\n",
        "   reactiontime  fragsinarow  armor  framerepeat\n",
        "0          1000            0      0           49"
       ]
      },
      {
       "output_type": "stream",
       "stream": "stdout",
       "text": [
        "\n",
        "   reactiontime  fragsinarow  armor  framerepeat\n",
        "0          2000            0      0           24\n",
        "   reactiontime  fragsinarow  armor  framerepeat\n",
        "0          1000            0      0           24\n",
        "   reactiontime  fragsinarow  armor  framerepeat\n",
        "0          1000            0      0           49\n",
        "   reactiontime  fragsinarow  armor  framerepeat\n",
        "0          2000            0      0           24\n",
        "   reactiontime  fragsinarow  armor  framerepeat\n",
        "0          1000            0      0           24"
       ]
      },
      {
       "output_type": "stream",
       "stream": "stdout",
       "text": [
        "\n",
        "   reactiontime  fragsinarow  armor  framerepeat\n",
        "0          1000            0      0           49\n",
        "   reactiontime  fragsinarow  armor  framerepeat\n",
        "0          2000            0      0           24\n",
        "   reactiontime  fragsinarow  armor  framerepeat\n",
        "0          1000            0      0           24\n",
        "   reactiontime  fragsinarow  armor  framerepeat\n",
        "0          1000            0      0           49"
       ]
      },
      {
       "output_type": "stream",
       "stream": "stdout",
       "text": [
        "\n",
        "   reactiontime  fragsinarow  armor  framerepeat\n",
        "0          2000            0      0           24\n",
        "   reactiontime  fragsinarow  armor  framerepeat\n",
        "0          1000            0      0           49\n",
        "   reactiontime  fragsinarow  armor  framerepeat\n",
        "0          2000            0      0           24\n",
        "   reactiontime  fragsinarow  armor  framerepeat\n",
        "0          1000            0      0           24\n",
        "   reactiontime  fragsinarow  armor  framerepeat\n",
        "0          1000            0      0           49"
       ]
      },
      {
       "output_type": "stream",
       "stream": "stdout",
       "text": [
        "\n",
        "   reactiontime  fragsinarow  armor  framerepeat\n",
        "0          2000            0      0           24\n",
        "   reactiontime  fragsinarow  armor  framerepeat\n",
        "0          1000            0      0           24\n",
        "   reactiontime  fragsinarow  armor  framerepeat\n",
        "0          1000            0      0           49\n",
        "   reactiontime  fragsinarow  armor  framerepeat\n",
        "0          2000            0      0           24\n",
        "   reactiontime  fragsinarow  armor  framerepeat\n",
        "0          1000            0      0           24"
       ]
      },
      {
       "output_type": "stream",
       "stream": "stdout",
       "text": [
        "\n",
        "   reactiontime  fragsinarow  armor  framerepeat\n",
        "0          1000            0      0           49\n",
        "   reactiontime  fragsinarow  armor  framerepeat\n",
        "0          2000            0      0           24\n",
        "   reactiontime  fragsinarow  armor  framerepeat\n",
        "0          1000            0      0           49\n",
        "   reactiontime  fragsinarow  armor  framerepeat\n",
        "0          2000            0      0           24"
       ]
      },
      {
       "output_type": "stream",
       "stream": "stdout",
       "text": [
        "\n",
        "   reactiontime  fragsinarow  armor  framerepeat\n",
        "0          1000            0      0           24\n",
        "   reactiontime  fragsinarow  armor  framerepeat\n",
        "0          1000            0      0           49\n",
        "   reactiontime  fragsinarow  armor  framerepeat\n",
        "0          2000            0      0           24\n",
        "   reactiontime  fragsinarow  armor  framerepeat\n",
        "0          1000            0      0           24\n",
        "   reactiontime  fragsinarow  armor  framerepeat\n",
        "0          1000            0      0           49"
       ]
      },
      {
       "output_type": "stream",
       "stream": "stdout",
       "text": [
        "\n",
        "   reactiontime  fragsinarow  armor  framerepeat\n",
        "0          2000            0      0           24\n",
        "   reactiontime  fragsinarow  armor  framerepeat\n",
        "0          1000            0      0           24\n",
        "   reactiontime  fragsinarow  armor  framerepeat\n",
        "0          1000            0      0           49\n",
        "   reactiontime  fragsinarow  armor  framerepeat\n",
        "0          2000            0      0           24\n",
        "   reactiontime  fragsinarow  armor  framerepeat\n",
        "0          1000            0      0           49"
       ]
      },
      {
       "output_type": "stream",
       "stream": "stdout",
       "text": [
        "\n",
        "   reactiontime  fragsinarow  armor  framerepeat\n",
        "0          2000            0      0           24\n",
        "   reactiontime  fragsinarow  armor  framerepeat\n",
        "0         12920            0      0           47\n",
        "   reactiontime  fragsinarow  armor  framerepeat\n",
        "0          1920            0      0           24\n",
        "   reactiontime  fragsinarow  armor  framerepeat\n",
        "0          1000            0      0           24\n",
        "   reactiontime  fragsinarow  armor  framerepeat\n",
        "0          1000            0      0           49"
       ]
      },
      {
       "output_type": "stream",
       "stream": "stdout",
       "text": [
        "\n",
        "   reactiontime  fragsinarow  armor  framerepeat\n",
        "0          2000            0      0           24\n",
        "   reactiontime  fragsinarow  armor  framerepeat\n",
        "0          1000            0      0           24\n",
        "   reactiontime  fragsinarow  armor  framerepeat\n",
        "0          1000            0      0           49\n",
        "   reactiontime  fragsinarow  armor  framerepeat\n",
        "0          2000            0      0           24\n",
        "   reactiontime  fragsinarow  armor  framerepeat\n",
        "0          1000            0      0           49"
       ]
      },
      {
       "output_type": "stream",
       "stream": "stdout",
       "text": [
        "\n",
        "   reactiontime  fragsinarow  armor  framerepeat\n",
        "0          2000            0      0           24\n",
        "   reactiontime  fragsinarow  armor  framerepeat\n",
        "0          1000            0      0           24\n",
        "   reactiontime  fragsinarow  armor  framerepeat\n",
        "0          1000            0      0           49\n",
        "   reactiontime  fragsinarow  armor  framerepeat\n",
        "0          2000            0      0           24"
       ]
      },
      {
       "output_type": "stream",
       "stream": "stdout",
       "text": [
        "\n",
        "   reactiontime  fragsinarow  armor  framerepeat\n",
        "0          1000            0      0           24\n",
        "   reactiontime  fragsinarow  armor  framerepeat\n",
        "0          1000            0      0           49\n",
        "   reactiontime  fragsinarow  armor  framerepeat\n",
        "0          2000            0      0           24\n",
        "   reactiontime  fragsinarow  armor  framerepeat\n",
        "0          1000            0      0           24\n",
        "   reactiontime  fragsinarow  armor  framerepeat\n",
        "0          1000            0      0           49"
       ]
      },
      {
       "output_type": "stream",
       "stream": "stdout",
       "text": [
        "\n",
        "   reactiontime  fragsinarow  armor  framerepeat\n",
        "0          2000            0      0           24\n",
        "   reactiontime  fragsinarow  armor  framerepeat\n",
        "0          1000            0      0           49\n",
        "   reactiontime  fragsinarow  armor  framerepeat\n",
        "0          2000            0      0           24\n",
        "   reactiontime  fragsinarow  armor  framerepeat\n",
        "0          1000            0      0           24\n",
        "   reactiontime  fragsinarow  armor  framerepeat\n",
        "0          1000            0      0           49"
       ]
      },
      {
       "output_type": "stream",
       "stream": "stdout",
       "text": [
        "\n",
        "   reactiontime  fragsinarow  armor  framerepeat\n",
        "0          2000            0      0           24\n",
        "   reactiontime  fragsinarow  armor  framerepeat\n",
        "0          1000            0      0           24\n",
        "   reactiontime  fragsinarow  armor  framerepeat\n",
        "0          1000            0      0           49\n",
        "   reactiontime  fragsinarow  armor  framerepeat\n",
        "0          2000            0      0           24\n",
        "   reactiontime  fragsinarow  armor  framerepeat\n",
        "0          1000            0      0           10"
       ]
      },
      {
       "output_type": "stream",
       "stream": "stdout",
       "text": [
        "\n"
       ]
      }
     ],
     "prompt_number": 7
    },
    {
     "cell_type": "code",
     "collapsed": false,
     "input": [
      "types = pd.read_csv(runner.config.config['typesfile'], index_col=None, header=0)\n",
      "types = types.ix[0, :]\n"
     ],
     "language": "python",
     "metadata": {},
     "outputs": []
    },
    {
     "cell_type": "markdown",
     "metadata": {},
     "source": [
      "Time testing\n",
      "------------"
     ]
    },
    {
     "cell_type": "code",
     "collapsed": false,
     "input": [
      "%timeit runner.classifier.mean(X)\n",
      "%timeit runner.classifier.mean_alt(X)"
     ],
     "language": "python",
     "metadata": {},
     "outputs": [
      {
       "output_type": "stream",
       "stream": "stdout",
       "text": [
        "1000 loops, best of 3: 206 us per loop\n",
        "100 loops, best of 3: 11.3 ms per loop"
       ]
      },
      {
       "output_type": "stream",
       "stream": "stdout",
       "text": [
        "\n"
       ]
      },
      {
       "output_type": "stream",
       "stream": "stderr",
       "text": [
        "C:\\Python27\\lib\\site-packages\\pandas\\core\\frame.py:3512: FutureWarning: rename with inplace=True  will return None from pandas 0.11 onward\n",
        "  \" from pandas 0.11 onward\", FutureWarning)\n"
       ]
      }
     ],
     "prompt_number": 8
    },
    {
     "cell_type": "code",
     "collapsed": false,
     "input": [
      "%timeit runner.classifier.mean(X)\n",
      "%timeit runner.classifier.sigma2(X, mu)\n",
      "%timeit runner.classifier.sigma2_alt(X, mu)"
     ],
     "language": "python",
     "metadata": {},
     "outputs": [
      {
       "output_type": "stream",
       "stream": "stdout",
       "text": [
        "10000 loops, best of 3: 200 us per loop\n",
        "1000 loops, best of 3: 393 us per loop"
       ]
      },
      {
       "output_type": "stream",
       "stream": "stdout",
       "text": [
        "\n",
        "1000 loops, best of 3: 514 us per loop"
       ]
      },
      {
       "output_type": "stream",
       "stream": "stdout",
       "text": [
        "\n"
       ]
      }
     ],
     "prompt_number": 40
    },
    {
     "cell_type": "markdown",
     "metadata": {},
     "source": [
      "Other tests\n",
      "-----------"
     ]
    },
    {
     "cell_type": "code",
     "collapsed": false,
     "input": [
      "test = runner.load_vars(runner.config.config['parametersfile'])\n",
      "test"
     ],
     "language": "python",
     "metadata": {},
     "outputs": [
      {
       "output_type": "pyout",
       "prompt_number": 9,
       "text": [
        "{u'Mu': reactiontime     0.052981\n",
        "fragsinarow           NaN\n",
        "armor                 NaN\n",
        "framerepeat     37.147900\n",
        "dtype: float64,\n",
        " u'Sigma2':               reactiontime  fragsinarow  armor  framerepeat\n",
        "reactiontime      1.216672            0      0    -3.317138\n",
        "fragsinarow       0.000000            0      0     0.000000\n",
        "armor             0.000000            0      0     0.000000\n",
        "framerepeat      -3.317138            0      0   177.709999}"
       ]
      }
     ],
     "prompt_number": 9
    },
    {
     "cell_type": "code",
     "collapsed": false,
     "input": [
      "runner.vars['Playerinfo'] = {'playername':'mynameisjohn'}\n",
      "runner.postaction.action(debug=True, **runner.vars)"
     ],
     "language": "python",
     "metadata": {},
     "outputs": [
      {
       "output_type": "stream",
       "stream": "stdout",
       "text": [
        "crcon -P 27960 --type=q3a --password='testpass' localhost \"say mynameisjohn is cheating\"\n"
       ]
      },
      {
       "output_type": "pyout",
       "prompt_number": 11,
       "text": [
        "True"
       ]
      }
     ],
     "prompt_number": 11
    },
    {
     "cell_type": "code",
     "collapsed": false,
     "input": [],
     "language": "python",
     "metadata": {},
     "outputs": []
    }
   ],
   "metadata": {}
  }
 ]
}